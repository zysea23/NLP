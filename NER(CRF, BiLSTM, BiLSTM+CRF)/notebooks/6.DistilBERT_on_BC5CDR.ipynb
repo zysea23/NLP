{
 "cells": [
  {
   "cell_type": "markdown",
   "metadata": {},
   "source": [
    "# Named Entity Recognition with DistilBERT on BC5CDR dataset"
   ]
  },
  {
   "cell_type": "code",
   "execution_count": 21,
   "metadata": {
    "execution": {
     "iopub.execute_input": "2025-02-09T11:15:16.908129Z",
     "iopub.status.busy": "2025-02-09T11:15:16.907801Z",
     "iopub.status.idle": "2025-02-09T11:15:16.912125Z",
     "shell.execute_reply": "2025-02-09T11:15:16.911113Z",
     "shell.execute_reply.started": "2025-02-09T11:15:16.908108Z"
    },
    "id": "zVvslsfMIrIh",
    "trusted": true
   },
   "outputs": [],
   "source": [
    "task = \"ner\" # could be one of \"ner\", \"pos\" or \"chunk\"\n",
    "model_checkpoint = \"distilbert-base-uncased\"\n",
    "batch_size = 16\n",
    "label_all_tokens = True"
   ]
  },
  {
   "cell_type": "markdown",
   "metadata": {
    "id": "whPRbBNbIrIl"
   },
   "source": [
    "# 1. Loading the dataset"
   ]
  },
  {
   "cell_type": "code",
   "execution_count": 22,
   "metadata": {
    "execution": {
     "iopub.execute_input": "2025-02-09T11:15:16.913341Z",
     "iopub.status.busy": "2025-02-09T11:15:16.913124Z",
     "iopub.status.idle": "2025-02-09T11:15:16.931160Z",
     "shell.execute_reply": "2025-02-09T11:15:16.930444Z",
     "shell.execute_reply.started": "2025-02-09T11:15:16.913323Z"
    },
    "id": "IreSlFmlIrIm",
    "trusted": true
   },
   "outputs": [
    {
     "name": "stdout",
     "output_type": "stream",
     "text": [
      "4.47.0\n"
     ]
    }
   ],
   "source": [
    "# !pip install evaluate\n",
    "# !pip install seqeval\n",
    "from datasets import load_dataset\n",
    "from evaluate import load\n",
    "import transformers\n",
    "import numpy as np\n",
    "import matplotlib.pyplot as plt\n",
    "\n",
    "\n",
    "from transformers import (\n",
    "    AutoTokenizer, \n",
    "    AutoModelForTokenClassification, \n",
    "    TrainingArguments, \n",
    "    Trainer, \n",
    "    DataCollatorForTokenClassification,\n",
    "    EarlyStoppingCallback\n",
    ")\n",
    "\n",
    "from datasets import load_dataset, DatasetDict, ClassLabel, Sequence\n",
    "\n",
    "\n",
    "print(transformers.__version__)"
   ]
  },
  {
   "cell_type": "code",
   "execution_count": 23,
   "metadata": {
    "execution": {
     "iopub.execute_input": "2025-02-09T11:15:16.932424Z",
     "iopub.status.busy": "2025-02-09T11:15:16.932207Z",
     "iopub.status.idle": "2025-02-09T11:15:17.752763Z",
     "shell.execute_reply": "2025-02-09T11:15:17.751857Z",
     "shell.execute_reply.started": "2025-02-09T11:15:16.932395Z"
    },
    "id": "s_AY1ATSIrIq",
    "outputId": "fd0578d1-8895-443d-b56f-5908de9f1b6b",
    "trusted": true
   },
   "outputs": [],
   "source": [
    "datasets = load_dataset(\"tner/bc5cdr\",trust_remote_code=True)"
   ]
  },
  {
   "cell_type": "code",
   "execution_count": 24,
   "metadata": {
    "execution": {
     "iopub.execute_input": "2025-02-09T11:15:17.754246Z",
     "iopub.status.busy": "2025-02-09T11:15:17.753952Z",
     "iopub.status.idle": "2025-02-09T11:15:17.758954Z",
     "shell.execute_reply": "2025-02-09T11:15:17.758072Z",
     "shell.execute_reply.started": "2025-02-09T11:15:17.754213Z"
    },
    "id": "GWiVUF0jIrIv",
    "outputId": "35e3ea43-f397-4a54-c90c-f2cf8d36873e",
    "trusted": true
   },
   "outputs": [
    {
     "data": {
      "text/plain": [
       "DatasetDict({\n",
       "    train: Dataset({\n",
       "        features: ['tokens', 'tags'],\n",
       "        num_rows: 5228\n",
       "    })\n",
       "    validation: Dataset({\n",
       "        features: ['tokens', 'tags'],\n",
       "        num_rows: 5330\n",
       "    })\n",
       "    test: Dataset({\n",
       "        features: ['tokens', 'tags'],\n",
       "        num_rows: 5865\n",
       "    })\n",
       "})"
      ]
     },
     "execution_count": 24,
     "metadata": {},
     "output_type": "execute_result"
    }
   ],
   "source": [
    "datasets"
   ]
  },
  {
   "cell_type": "code",
   "execution_count": 25,
   "metadata": {
    "execution": {
     "iopub.execute_input": "2025-02-09T11:15:17.760118Z",
     "iopub.status.busy": "2025-02-09T11:15:17.759831Z",
     "iopub.status.idle": "2025-02-09T11:15:17.775592Z",
     "shell.execute_reply": "2025-02-09T11:15:17.774990Z",
     "shell.execute_reply.started": "2025-02-09T11:15:17.760086Z"
    },
    "trusted": true
   },
   "outputs": [
    {
     "data": {
      "text/plain": [
       "{'tokens': ['Naloxone',\n",
       "  'reverses',\n",
       "  'the',\n",
       "  'antihypertensive',\n",
       "  'effect',\n",
       "  'of',\n",
       "  'clonidine',\n",
       "  '.'],\n",
       " 'tags': [1, 0, 0, 0, 0, 0, 1, 0]}"
      ]
     },
     "execution_count": 25,
     "metadata": {},
     "output_type": "execute_result"
    }
   ],
   "source": [
    "datasets[\"train\"][0]"
   ]
  },
  {
   "cell_type": "code",
   "execution_count": 26,
   "metadata": {
    "execution": {
     "iopub.execute_input": "2025-02-09T11:15:17.776602Z",
     "iopub.status.busy": "2025-02-09T11:15:17.776387Z",
     "iopub.status.idle": "2025-02-09T11:15:18.579312Z",
     "shell.execute_reply": "2025-02-09T11:15:18.578454Z",
     "shell.execute_reply.started": "2025-02-09T11:15:17.776578Z"
    },
    "trusted": true
   },
   "outputs": [
    {
     "name": "stdout",
     "output_type": "stream",
     "text": [
      "{'tokens': Sequence(feature=Value(dtype='string', id=None), length=-1, id=None), 'ner_tags': Sequence(feature=ClassLabel(names=['O', 'B-Chemical', 'B-Disease', 'I-Disease', 'I-Chemical'], id=None), length=-1, id=None)}\n"
     ]
    }
   ],
   "source": [
    "\n",
    "\n",
    "datasets = load_dataset(\"tner/bc5cdr\", trust_remote_code=True)\n",
    "\n",
    "\n",
    "label_list = [\"O\", \"B-Chemical\", \"B-Disease\", \"I-Disease\", \"I-Chemical\"]\n",
    "label_dict = {label: i for i, label in enumerate(label_list)}\n",
    "\n",
    "\n",
    "ner_feature = Sequence(ClassLabel(names=label_list))\n",
    "\n",
    "\n",
    "def update_format(example):\n",
    "    example[\"ner_tags\"] = example.pop(\"tags\")  # 重命名 tags -> ner_tags\n",
    "    return example\n",
    "\n",
    "datasets = datasets.map(update_format)\n",
    "\n",
    "datasets = datasets.cast_column(\"ner_tags\", ner_feature)\n",
    "\n",
    "\n",
    "print(datasets[\"train\"].features)\n"
   ]
  },
  {
   "cell_type": "markdown",
   "metadata": {},
   "source": [
    "———"
   ]
  },
  {
   "cell_type": "code",
   "execution_count": 27,
   "metadata": {
    "execution": {
     "iopub.execute_input": "2025-02-09T11:15:18.581461Z",
     "iopub.status.busy": "2025-02-09T11:15:18.581197Z",
     "iopub.status.idle": "2025-02-09T11:15:18.587282Z",
     "shell.execute_reply": "2025-02-09T11:15:18.586473Z",
     "shell.execute_reply.started": "2025-02-09T11:15:18.581440Z"
    },
    "trusted": true
   },
   "outputs": [
    {
     "data": {
      "text/plain": [
       "{'tokens': ['Naloxone',\n",
       "  'reverses',\n",
       "  'the',\n",
       "  'antihypertensive',\n",
       "  'effect',\n",
       "  'of',\n",
       "  'clonidine',\n",
       "  '.'],\n",
       " 'ner_tags': [1, 0, 0, 0, 0, 0, 1, 0]}"
      ]
     },
     "execution_count": 27,
     "metadata": {},
     "output_type": "execute_result"
    }
   ],
   "source": [
    "datasets[\"train\"][0]"
   ]
  },
  {
   "cell_type": "code",
   "execution_count": 28,
   "metadata": {
    "execution": {
     "iopub.execute_input": "2025-02-09T11:15:18.588994Z",
     "iopub.status.busy": "2025-02-09T11:15:18.588768Z",
     "iopub.status.idle": "2025-02-09T11:15:18.606055Z",
     "shell.execute_reply": "2025-02-09T11:15:18.605381Z",
     "shell.execute_reply.started": "2025-02-09T11:15:18.588974Z"
    },
    "id": "QwGrM7B4q4mk",
    "outputId": "a932b680-7fed-482d-d29d-c24d2e19583b",
    "trusted": true
   },
   "outputs": [
    {
     "name": "stdout",
     "output_type": "stream",
     "text": [
      "Sequence(feature=ClassLabel(names=['O', 'B-Chemical', 'B-Disease', 'I-Disease', 'I-Chemical'], id=None), length=-1, id=None)\n"
     ]
    }
   ],
   "source": [
    "print(datasets[\"train\"].features[\"ner_tags\"])\n"
   ]
  },
  {
   "cell_type": "code",
   "execution_count": 29,
   "metadata": {
    "execution": {
     "iopub.execute_input": "2025-02-09T11:15:18.607122Z",
     "iopub.status.busy": "2025-02-09T11:15:18.606863Z",
     "iopub.status.idle": "2025-02-09T11:15:18.620212Z",
     "shell.execute_reply": "2025-02-09T11:15:18.619537Z",
     "shell.execute_reply.started": "2025-02-09T11:15:18.607094Z"
    },
    "trusted": true
   },
   "outputs": [
    {
     "data": {
      "text/plain": [
       "['O', 'B-Chemical', 'B-Disease', 'I-Disease', 'I-Chemical']"
      ]
     },
     "execution_count": 29,
     "metadata": {},
     "output_type": "execute_result"
    }
   ],
   "source": [
    "label_list = datasets[\"train\"].features[f\"{task}_tags\"].feature.names\n",
    "label_list"
   ]
  },
  {
   "cell_type": "markdown",
   "metadata": {
    "id": "n9qywopnIrJH"
   },
   "source": [
    "# 2. Preprocessing the data"
   ]
  },
  {
   "cell_type": "code",
   "execution_count": 30,
   "metadata": {
    "execution": {
     "iopub.execute_input": "2025-02-09T11:15:18.621211Z",
     "iopub.status.busy": "2025-02-09T11:15:18.620910Z",
     "iopub.status.idle": "2025-02-09T11:15:18.766624Z",
     "shell.execute_reply": "2025-02-09T11:15:18.765705Z",
     "shell.execute_reply.started": "2025-02-09T11:15:18.621189Z"
    },
    "id": "eXNLu_-nIrJI",
    "trusted": true
   },
   "outputs": [],
   "source": [
    "tokenizer = AutoTokenizer.from_pretrained(model_checkpoint)"
   ]
  },
  {
   "cell_type": "code",
   "execution_count": 31,
   "metadata": {
    "execution": {
     "iopub.execute_input": "2025-02-09T11:15:18.767806Z",
     "iopub.status.busy": "2025-02-09T11:15:18.767541Z",
     "iopub.status.idle": "2025-02-09T11:15:18.773206Z",
     "shell.execute_reply": "2025-02-09T11:15:18.772222Z",
     "shell.execute_reply.started": "2025-02-09T11:15:18.767785Z"
    },
    "id": "vc0BSBLIIrJQ",
    "trusted": true
   },
   "outputs": [],
   "source": [
    "def tokenize_and_align_labels(examples):\n",
    "    tokenized_inputs = tokenizer(examples[\"tokens\"], truncation=True, is_split_into_words=True)\n",
    "\n",
    "    labels = []\n",
    "    for i, label in enumerate(examples[f\"{task}_tags\"]):\n",
    "        word_ids = tokenized_inputs.word_ids(batch_index=i)\n",
    "        previous_word_idx = None\n",
    "        label_ids = []\n",
    "        for word_idx in word_ids:\n",
    "            # Special tokens have a word id that is None. We set the label to -100 so they are automatically\n",
    "            # ignored in the loss function.\n",
    "            if word_idx is None:\n",
    "                label_ids.append(-100)\n",
    "            # We set the label for the first token of each word.\n",
    "            elif word_idx != previous_word_idx:\n",
    "                label_ids.append(label[word_idx])\n",
    "            # For the other tokens in a word, we set the label to either the current label or -100, depending on\n",
    "            # the label_all_tokens flag.\n",
    "            else:\n",
    "                label_ids.append(label[word_idx] if label_all_tokens else -100)\n",
    "            previous_word_idx = word_idx\n",
    "\n",
    "        labels.append(label_ids)\n",
    "\n",
    "    tokenized_inputs[\"labels\"] = labels\n",
    "    return tokenized_inputs"
   ]
  },
  {
   "cell_type": "code",
   "execution_count": 32,
   "metadata": {
    "execution": {
     "iopub.execute_input": "2025-02-09T11:15:18.774224Z",
     "iopub.status.busy": "2025-02-09T11:15:18.773983Z",
     "iopub.status.idle": "2025-02-09T11:15:18.791095Z",
     "shell.execute_reply": "2025-02-09T11:15:18.790452Z",
     "shell.execute_reply.started": "2025-02-09T11:15:18.774203Z"
    },
    "id": "-b70jh26IrJS",
    "outputId": "acd3a42d-985b-44ee-9daa-af5d944ce1d9",
    "trusted": true
   },
   "outputs": [
    {
     "data": {
      "text/plain": [
       "{'input_ids': [[101, 6583, 4135, 22500, 2063, 7901, 2015, 1996, 3424, 10536, 4842, 25808, 3512, 3466, 1997, 18856, 10698, 10672, 1012, 102], [101, 1999, 14477, 5267, 10760, 23355, 1010, 27491, 23760, 25808, 3512, 11432, 1996, 9885, 1999, 2668, 3778, 1998, 2540, 3446, 2550, 2011, 26721, 8159, 3560, 18856, 10698, 10672, 1010, 1019, 2000, 2322, 12702, 13113, 2015, 1013, 4705, 1010, 2001, 26402, 2098, 2030, 11674, 2011, 6583, 4135, 15975, 1010, 1014, 1012, 102], [101, 1016, 2000, 1016, 11460, 1013, 4705, 1012, 102], [101, 1996, 1044, 22571, 12184, 3619, 3512, 3466, 1997, 2531, 11460, 1013, 4705, 6541, 1011, 25003, 3527, 4502, 2001, 2036, 6822, 11674, 2011, 6583, 4135, 22500, 2063, 1012, 102], [101, 6583, 4135, 22500, 2063, 2894, 2106, 2025, 7461, 2593, 2668, 3778, 2030, 2540, 3446, 1012, 102]], 'attention_mask': [[1, 1, 1, 1, 1, 1, 1, 1, 1, 1, 1, 1, 1, 1, 1, 1, 1, 1, 1, 1], [1, 1, 1, 1, 1, 1, 1, 1, 1, 1, 1, 1, 1, 1, 1, 1, 1, 1, 1, 1, 1, 1, 1, 1, 1, 1, 1, 1, 1, 1, 1, 1, 1, 1, 1, 1, 1, 1, 1, 1, 1, 1, 1, 1, 1, 1, 1, 1, 1, 1, 1], [1, 1, 1, 1, 1, 1, 1, 1, 1], [1, 1, 1, 1, 1, 1, 1, 1, 1, 1, 1, 1, 1, 1, 1, 1, 1, 1, 1, 1, 1, 1, 1, 1, 1, 1, 1, 1, 1], [1, 1, 1, 1, 1, 1, 1, 1, 1, 1, 1, 1, 1, 1, 1, 1, 1]], 'labels': [[-100, 1, 1, 1, 1, 0, 0, 0, 0, 0, 0, 0, 0, 0, 0, 1, 1, 1, 0, -100], [-100, 0, 0, 0, 0, 0, 0, 0, 2, 2, 2, 0, 0, 0, 0, 0, 0, 0, 0, 0, 0, 0, 0, 0, 0, 1, 1, 1, 0, 0, 0, 0, 0, 0, 0, 0, 0, 0, 0, 0, 0, 0, 0, 0, 1, 1, 1, 0, 0, 0, -100], [-100, 0, 0, 0, 0, 0, 0, 0, -100], [-100, 0, 2, 2, 2, 2, 2, 0, 0, 0, 0, 0, 0, 1, 1, 1, 1, 1, 0, 0, 0, 0, 0, 1, 1, 1, 1, 0, -100], [-100, 1, 1, 1, 1, 0, 0, 0, 0, 0, 0, 0, 0, 0, 0, 0, -100]]}"
      ]
     },
     "execution_count": 32,
     "metadata": {},
     "output_type": "execute_result"
    }
   ],
   "source": [
    "tokenize_and_align_labels(datasets['train'][:5])"
   ]
  },
  {
   "cell_type": "code",
   "execution_count": 33,
   "metadata": {
    "execution": {
     "iopub.execute_input": "2025-02-09T11:15:18.792324Z",
     "iopub.status.busy": "2025-02-09T11:15:18.792041Z",
     "iopub.status.idle": "2025-02-09T11:15:18.823754Z",
     "shell.execute_reply": "2025-02-09T11:15:18.823112Z",
     "shell.execute_reply.started": "2025-02-09T11:15:18.792296Z"
    },
    "id": "DDtsaJeVIrJT",
    "outputId": "aa4734bf-4ef5-4437-9948-2c16363da719",
    "trusted": true
   },
   "outputs": [],
   "source": [
    "tokenized_datasets = datasets.map(tokenize_and_align_labels, batched=True)"
   ]
  },
  {
   "cell_type": "markdown",
   "metadata": {
    "id": "545PP3o8IrJV"
   },
   "source": [
    "# 3. Fine-tuning the model"
   ]
  },
  {
   "cell_type": "code",
   "execution_count": 34,
   "metadata": {
    "execution": {
     "iopub.execute_input": "2025-02-09T11:15:18.824833Z",
     "iopub.status.busy": "2025-02-09T11:15:18.824603Z",
     "iopub.status.idle": "2025-02-09T11:15:19.002866Z",
     "shell.execute_reply": "2025-02-09T11:15:19.002045Z",
     "shell.execute_reply.started": "2025-02-09T11:15:18.824814Z"
    },
    "id": "TlqNaB8jIrJW",
    "outputId": "84916cf3-6e6c-47f3-d081-032ec30a4132",
    "trusted": true
   },
   "outputs": [
    {
     "name": "stderr",
     "output_type": "stream",
     "text": [
      "Some weights of DistilBertForTokenClassification were not initialized from the model checkpoint at distilbert-base-uncased and are newly initialized: ['classifier.bias', 'classifier.weight']\n",
      "You should probably TRAIN this model on a down-stream task to be able to use it for predictions and inference.\n"
     ]
    }
   ],
   "source": [
    "model = AutoModelForTokenClassification.from_pretrained(model_checkpoint, num_labels=len(label_list))"
   ]
  },
  {
   "cell_type": "code",
   "execution_count": 35,
   "metadata": {
    "execution": {
     "iopub.execute_input": "2025-02-09T11:15:19.004041Z",
     "iopub.status.busy": "2025-02-09T11:15:19.003740Z",
     "iopub.status.idle": "2025-02-09T11:15:19.031941Z",
     "shell.execute_reply": "2025-02-09T11:15:19.031250Z",
     "shell.execute_reply.started": "2025-02-09T11:15:19.004009Z"
    },
    "id": "Bliy8zgjIrJY",
    "trusted": true
   },
   "outputs": [],
   "source": [
    "model_name = model_checkpoint.split(\"/\")[-1]\n",
    "args = TrainingArguments(\n",
    "    f\"{model_name}-finetuned-{task}\",\n",
    "    eval_strategy = \"epoch\",\n",
    "    save_strategy = \"epoch\",\n",
    "    learning_rate=2e-5,\n",
    "    per_device_train_batch_size=batch_size,\n",
    "    per_device_eval_batch_size=batch_size,\n",
    "    num_train_epochs=10,\n",
    "    weight_decay=0.01,\n",
    "    report_to = 'none',\n",
    "    load_best_model_at_end=True,  \n",
    "    metric_for_best_model=\"f1\", \n",
    "    greater_is_better=True,\n",
    ")"
   ]
  },
  {
   "cell_type": "code",
   "execution_count": 36,
   "metadata": {
    "execution": {
     "iopub.execute_input": "2025-02-09T11:15:19.032809Z",
     "iopub.status.busy": "2025-02-09T11:15:19.032569Z",
     "iopub.status.idle": "2025-02-09T11:15:19.515325Z",
     "shell.execute_reply": "2025-02-09T11:15:19.514617Z",
     "shell.execute_reply.started": "2025-02-09T11:15:19.032786Z"
    },
    "id": "a7zyuOhqq4mq",
    "outputId": "96b867fa-2420-4dd4-d4d2-9cb8f8fbaed6",
    "trusted": true
   },
   "outputs": [],
   "source": [
    "data_collator = DataCollatorForTokenClassification(tokenizer)\n",
    "\n",
    "metric = load(\"seqeval\")\n",
    "\n",
    "# labels = [label_list[i] for i in example[f\"{task}_tags\"]]\n",
    "# metric.compute(predictions=[labels], references=[labels])"
   ]
  },
  {
   "cell_type": "code",
   "execution_count": 37,
   "metadata": {
    "execution": {
     "iopub.execute_input": "2025-02-09T11:15:19.516352Z",
     "iopub.status.busy": "2025-02-09T11:15:19.516119Z",
     "iopub.status.idle": "2025-02-09T11:15:19.521536Z",
     "shell.execute_reply": "2025-02-09T11:15:19.520727Z",
     "shell.execute_reply.started": "2025-02-09T11:15:19.516332Z"
    },
    "id": "UmvbnJ9JIrJd",
    "trusted": true
   },
   "outputs": [],
   "source": [
    "def compute_metrics(p):\n",
    "    predictions, labels = p\n",
    "    predictions = np.argmax(predictions, axis=2)\n",
    "\n",
    "    # Remove ignored index (special tokens)\n",
    "    true_predictions = [\n",
    "        [label_list[p] for (p, l) in zip(prediction, label) if l != -100]\n",
    "        for prediction, label in zip(predictions, labels)\n",
    "    ]\n",
    "    true_labels = [\n",
    "        [label_list[l] for (p, l) in zip(prediction, label) if l != -100]\n",
    "        for prediction, label in zip(predictions, labels)\n",
    "    ]\n",
    "\n",
    "    results = metric.compute(predictions=true_predictions, references=true_labels)\n",
    "    return {\n",
    "        \"precision\": results[\"overall_precision\"],\n",
    "        \"recall\": results[\"overall_recall\"],\n",
    "        \"f1\": results[\"overall_f1\"],\n",
    "        \"accuracy\": results[\"overall_accuracy\"],\n",
    "    }"
   ]
  },
  {
   "cell_type": "code",
   "execution_count": 38,
   "metadata": {
    "execution": {
     "iopub.execute_input": "2025-02-09T11:15:19.522522Z",
     "iopub.status.busy": "2025-02-09T11:15:19.522318Z",
     "iopub.status.idle": "2025-02-09T11:15:19.802262Z",
     "shell.execute_reply": "2025-02-09T11:15:19.801597Z",
     "shell.execute_reply.started": "2025-02-09T11:15:19.522494Z"
    },
    "id": "imY1oC3SIrJf",
    "trusted": true
   },
   "outputs": [],
   "source": [
    "trainer = Trainer(\n",
    "    model,\n",
    "    args,\n",
    "    train_dataset=tokenized_datasets[\"train\"],\n",
    "    eval_dataset=tokenized_datasets[\"validation\"],\n",
    "    data_collator=data_collator,\n",
    "    # tokenizer=tokenizer,\n",
    "    compute_metrics=compute_metrics,\n",
    "    callbacks=[EarlyStoppingCallback(early_stopping_patience=3)]\n",
    ")"
   ]
  },
  {
   "cell_type": "markdown",
   "metadata": {},
   "source": [
    "# 4. Model Training"
   ]
  },
  {
   "cell_type": "code",
   "execution_count": 39,
   "metadata": {
    "execution": {
     "iopub.execute_input": "2025-02-09T11:15:19.804934Z",
     "iopub.status.busy": "2025-02-09T11:15:19.804685Z",
     "iopub.status.idle": "2025-02-09T11:21:22.449534Z",
     "shell.execute_reply": "2025-02-09T11:21:22.448721Z",
     "shell.execute_reply.started": "2025-02-09T11:15:19.804912Z"
    },
    "id": "3XJMU5nTq4mq",
    "outputId": "07aeac2e-a960-4d35-f1bf-51eaa52ee09a",
    "trusted": true
   },
   "outputs": [
    {
     "data": {
      "text/html": [
       "\n",
       "    <div>\n",
       "      \n",
       "      <progress value='3270' max='3270' style='width:300px; height:20px; vertical-align: middle;'></progress>\n",
       "      [3270/3270 06:01, Epoch 10/10]\n",
       "    </div>\n",
       "    <table border=\"1\" class=\"dataframe\">\n",
       "  <thead>\n",
       " <tr style=\"text-align: left;\">\n",
       "      <th>Epoch</th>\n",
       "      <th>Training Loss</th>\n",
       "      <th>Validation Loss</th>\n",
       "      <th>Precision</th>\n",
       "      <th>Recall</th>\n",
       "      <th>F1</th>\n",
       "      <th>Accuracy</th>\n",
       "    </tr>\n",
       "  </thead>\n",
       "  <tbody>\n",
       "    <tr>\n",
       "      <td>1</td>\n",
       "      <td>No log</td>\n",
       "      <td>0.158815</td>\n",
       "      <td>0.867449</td>\n",
       "      <td>0.841087</td>\n",
       "      <td>0.854064</td>\n",
       "      <td>0.944527</td>\n",
       "    </tr>\n",
       "    <tr>\n",
       "      <td>2</td>\n",
       "      <td>0.214900</td>\n",
       "      <td>0.148944</td>\n",
       "      <td>0.860926</td>\n",
       "      <td>0.899660</td>\n",
       "      <td>0.879867</td>\n",
       "      <td>0.950429</td>\n",
       "    </tr>\n",
       "    <tr>\n",
       "      <td>3</td>\n",
       "      <td>0.214900</td>\n",
       "      <td>0.156193</td>\n",
       "      <td>0.880436</td>\n",
       "      <td>0.896401</td>\n",
       "      <td>0.888347</td>\n",
       "      <td>0.953373</td>\n",
       "    </tr>\n",
       "    <tr>\n",
       "      <td>4</td>\n",
       "      <td>0.076300</td>\n",
       "      <td>0.177030</td>\n",
       "      <td>0.882088</td>\n",
       "      <td>0.898472</td>\n",
       "      <td>0.890205</td>\n",
       "      <td>0.953746</td>\n",
       "    </tr>\n",
       "    <tr>\n",
       "      <td>5</td>\n",
       "      <td>0.034300</td>\n",
       "      <td>0.191975</td>\n",
       "      <td>0.888216</td>\n",
       "      <td>0.896027</td>\n",
       "      <td>0.892104</td>\n",
       "      <td>0.954472</td>\n",
       "    </tr>\n",
       "    <tr>\n",
       "      <td>6</td>\n",
       "      <td>0.034300</td>\n",
       "      <td>0.207638</td>\n",
       "      <td>0.889068</td>\n",
       "      <td>0.898065</td>\n",
       "      <td>0.893544</td>\n",
       "      <td>0.954879</td>\n",
       "    </tr>\n",
       "    <tr>\n",
       "      <td>7</td>\n",
       "      <td>0.018800</td>\n",
       "      <td>0.218801</td>\n",
       "      <td>0.888930</td>\n",
       "      <td>0.896537</td>\n",
       "      <td>0.892717</td>\n",
       "      <td>0.954574</td>\n",
       "    </tr>\n",
       "    <tr>\n",
       "      <td>8</td>\n",
       "      <td>0.011900</td>\n",
       "      <td>0.228228</td>\n",
       "      <td>0.877848</td>\n",
       "      <td>0.913141</td>\n",
       "      <td>0.895147</td>\n",
       "      <td>0.954968</td>\n",
       "    </tr>\n",
       "    <tr>\n",
       "      <td>9</td>\n",
       "      <td>0.011900</td>\n",
       "      <td>0.230575</td>\n",
       "      <td>0.890581</td>\n",
       "      <td>0.897657</td>\n",
       "      <td>0.894105</td>\n",
       "      <td>0.955063</td>\n",
       "    </tr>\n",
       "    <tr>\n",
       "      <td>10</td>\n",
       "      <td>0.006200</td>\n",
       "      <td>0.231050</td>\n",
       "      <td>0.887268</td>\n",
       "      <td>0.904380</td>\n",
       "      <td>0.895742</td>\n",
       "      <td>0.955361</td>\n",
       "    </tr>\n",
       "  </tbody>\n",
       "</table><p>"
      ],
      "text/plain": [
       "<IPython.core.display.HTML object>"
      ]
     },
     "metadata": {},
     "output_type": "display_data"
    },
    {
     "data": {
      "text/plain": [
       "TrainOutput(global_step=3270, training_loss=0.055870539332748555, metrics={'train_runtime': 362.2946, 'train_samples_per_second': 144.302, 'train_steps_per_second': 9.026, 'total_flos': 1033673156087136.0, 'train_loss': 0.055870539332748555, 'epoch': 10.0})"
      ]
     },
     "execution_count": 39,
     "metadata": {},
     "output_type": "execute_result"
    }
   ],
   "source": [
    "trainer.train()"
   ]
  },
  {
   "cell_type": "markdown",
   "metadata": {},
   "source": [
    "# 5. Model Evaluation"
   ]
  },
  {
   "cell_type": "code",
   "execution_count": 40,
   "metadata": {
    "execution": {
     "iopub.execute_input": "2025-02-09T11:21:22.450843Z",
     "iopub.status.busy": "2025-02-09T11:21:22.450546Z",
     "iopub.status.idle": "2025-02-09T11:21:32.822005Z",
     "shell.execute_reply": "2025-02-09T11:21:32.821005Z",
     "shell.execute_reply.started": "2025-02-09T11:21:22.450810Z"
    },
    "id": "UOUcBkX8IrJi",
    "outputId": "de5b9dd6-9dc0-4702-cb43-55e9829fde25",
    "trusted": true
   },
   "outputs": [
    {
     "data": {
      "text/html": [],
      "text/plain": [
       "<IPython.core.display.HTML object>"
      ]
     },
     "metadata": {},
     "output_type": "display_data"
    },
    {
     "data": {
      "text/plain": [
       "{'eval_loss': 0.23105038702487946,\n",
       " 'eval_precision': 0.8872676394163502,\n",
       " 'eval_recall': 0.9043803056027164,\n",
       " 'eval_f1': 0.8957422479316607,\n",
       " 'eval_accuracy': 0.9553610800176385,\n",
       " 'eval_runtime': 10.3617,\n",
       " 'eval_samples_per_second': 514.395,\n",
       " 'eval_steps_per_second': 32.234,\n",
       " 'epoch': 10.0}"
      ]
     },
     "execution_count": 40,
     "metadata": {},
     "output_type": "execute_result"
    }
   ],
   "source": [
    "trainer.evaluate()"
   ]
  },
  {
   "cell_type": "code",
   "execution_count": 41,
   "metadata": {
    "execution": {
     "iopub.execute_input": "2025-02-09T11:21:32.823271Z",
     "iopub.status.busy": "2025-02-09T11:21:32.822963Z",
     "iopub.status.idle": "2025-02-09T11:21:33.098278Z",
     "shell.execute_reply": "2025-02-09T11:21:33.096991Z",
     "shell.execute_reply.started": "2025-02-09T11:21:32.823241Z"
    },
    "trusted": true
   },
   "outputs": [
    {
     "data": {
      "image/png": "[encoded data removed]",
      "text/plain": [
       "<Figure size 800x500 with 1 Axes>"
      ]
     },
     "metadata": {},
     "output_type": "display_data"
    }
   ],
   "source": [
    "import matplotlib.pyplot as plt\n",
    "\n",
    "\n",
    "logs = trainer.state.log_history\n",
    "\n",
    "\n",
    "train_losses = [entry['loss'] for entry in logs if 'loss' in entry]\n",
    "eval_losses = [entry['eval_loss'] for entry in logs if 'eval_loss' in entry]\n",
    "\n",
    "\n",
    "epochs_train = list(range(1, len(train_losses) + 1))\n",
    "epochs_eval = list(range(1, len(eval_losses) + 1))\n",
    "\n",
    "plt.figure(figsize=(8,5))\n",
    "plt.plot(epochs_train, train_losses, label=\"Train Loss\", marker=\"o\")\n",
    "plt.plot(epochs_eval, eval_losses, label=\"Validation Loss\", marker=\"o\")\n",
    "plt.xlabel(\"Epoch\")\n",
    "plt.ylabel(\"Loss\")\n",
    "plt.legend()\n",
    "plt.title(\"Train & Validation Loss\")\n",
    "plt.grid()\n",
    "plt.show()"
   ]
  },
  {
   "cell_type": "code",
   "execution_count": 42,
   "metadata": {
    "execution": {
     "iopub.execute_input": "2025-02-09T11:21:33.099462Z",
     "iopub.status.busy": "2025-02-09T11:21:33.099198Z",
     "iopub.status.idle": "2025-02-09T11:21:33.265982Z",
     "shell.execute_reply": "2025-02-09T11:21:33.265123Z",
     "shell.execute_reply.started": "2025-02-09T11:21:33.099438Z"
    },
    "trusted": true
   },
   "outputs": [
    {
     "data": {
      "image/png": "[encoded data removed]",
      "text/plain": [
       "<Figure size 800x500 with 1 Axes>"
      ]
     },
     "metadata": {},
     "output_type": "display_data"
    }
   ],
   "source": [
    "f1_scores = [entry['eval_f1'] for entry in logs if 'eval_f1' in entry]\n",
    "\n",
    "plt.figure(figsize=(8,5))\n",
    "plt.plot(range(1, len(f1_scores) + 1), f1_scores, label=\"Validation F1-score\", marker=\"o\")\n",
    "plt.xlabel(\"Epoch\")\n",
    "plt.ylabel(\"F1-score\")\n",
    "plt.legend()\n",
    "plt.title(\"Validation F1-score over Epochs\")\n",
    "plt.grid()\n",
    "plt.show()\n"
   ]
  },
  {
   "cell_type": "code",
   "execution_count": 43,
   "metadata": {
    "execution": {
     "iopub.execute_input": "2025-02-09T11:21:33.266985Z",
     "iopub.status.busy": "2025-02-09T11:21:33.266711Z",
     "iopub.status.idle": "2025-02-09T11:21:44.600746Z",
     "shell.execute_reply": "2025-02-09T11:21:44.599899Z",
     "shell.execute_reply.started": "2025-02-09T11:21:33.266962Z"
    },
    "trusted": true
   },
   "outputs": [
    {
     "name": "stdout",
     "output_type": "stream",
     "text": [
      "{'eval_loss': 0.23341412842273712, 'eval_precision': 0.876010159316555, 'eval_recall': 0.8994784257942152, 'eval_f1': 0.8875891917183296, 'eval_accuracy': 0.9539712232059347, 'eval_runtime': 11.3255, 'eval_samples_per_second': 517.857, 'eval_steps_per_second': 32.405, 'epoch': 10.0}\n"
     ]
    }
   ],
   "source": [
    "test_results = trainer.evaluate(tokenized_datasets[\"test\"])\n",
    "print(test_results)\n"
   ]
  },
  {
   "cell_type": "code",
   "execution_count": 44,
   "metadata": {
    "execution": {
     "iopub.execute_input": "2025-02-09T11:21:44.601705Z",
     "iopub.status.busy": "2025-02-09T11:21:44.601477Z",
     "iopub.status.idle": "2025-02-09T11:21:58.838651Z",
     "shell.execute_reply": "2025-02-09T11:21:58.837968Z",
     "shell.execute_reply.started": "2025-02-09T11:21:44.601686Z"
    },
    "id": "7tst3ADYq4mr",
    "outputId": "49eb9210-f576-404c-ab7b-5b38843a3447",
    "trusted": true
   },
   "outputs": [
    {
     "name": "stdout",
     "output_type": "stream",
     "text": [
      "Validation set:\n"
     ]
    },
    {
     "data": {
      "text/plain": [
       "{'Chemical': {'precision': 0.9292073598446016,\n",
       "  'recall': 0.9397544338335607,\n",
       "  'f1': 0.9344511367952683,\n",
       "  'number': 18325},\n",
       " 'Disease': {'precision': 0.819590770570309,\n",
       "  'recall': 0.8461123595505617,\n",
       "  'f1': 0.832640424590889,\n",
       "  'number': 11125},\n",
       " 'overall_precision': 0.8872676394163502,\n",
       " 'overall_recall': 0.9043803056027164,\n",
       " 'overall_f1': 0.8957422479316607,\n",
       " 'overall_accuracy': 0.9553610800176385}"
      ]
     },
     "execution_count": 44,
     "metadata": {},
     "output_type": "execute_result"
    }
   ],
   "source": [
    "predictions, labels, _ = trainer.predict(tokenized_datasets[\"validation\"])\n",
    "predictions = np.argmax(predictions, axis=2)\n",
    "\n",
    "# Remove ignored index (special tokens)\n",
    "true_predictions = [\n",
    "    [label_list[p] for (p, l) in zip(prediction, label) if l != -100]\n",
    "    for prediction, label in zip(predictions, labels)\n",
    "]\n",
    "true_labels = [\n",
    "    [label_list[l] for (p, l) in zip(prediction, label) if l != -100]\n",
    "    for prediction, label in zip(predictions, labels)\n",
    "]\n",
    "\n",
    "results = metric.compute(predictions=true_predictions, references=true_labels)\n",
    "print('Validation set:')\n",
    "results"
   ]
  },
  {
   "cell_type": "code",
   "execution_count": 45,
   "metadata": {
    "execution": {
     "iopub.execute_input": "2025-02-09T11:21:58.839562Z",
     "iopub.status.busy": "2025-02-09T11:21:58.839347Z",
     "iopub.status.idle": "2025-02-09T11:22:13.367830Z",
     "shell.execute_reply": "2025-02-09T11:22:13.366736Z",
     "shell.execute_reply.started": "2025-02-09T11:21:58.839543Z"
    },
    "trusted": true
   },
   "outputs": [
    {
     "data": {
      "text/html": [],
      "text/plain": [
       "<IPython.core.display.HTML object>"
      ]
     },
     "metadata": {},
     "output_type": "display_data"
    },
    {
     "name": "stdout",
     "output_type": "stream",
     "text": [
      "Test set:\n"
     ]
    },
    {
     "data": {
      "text/plain": [
       "{'Chemical': {'precision': 0.9165460684997588,\n",
       "  'recall': 0.9351927809680065,\n",
       "  'f1': 0.9257755400357317,\n",
       "  'number': 18285},\n",
       " 'Disease': {'precision': 0.8111492281303602,\n",
       "  'recall': 0.8413842184858998,\n",
       "  'f1': 0.8259901314353085,\n",
       "  'number': 11241},\n",
       " 'overall_precision': 0.876010159316555,\n",
       " 'overall_recall': 0.8994784257942152,\n",
       " 'overall_f1': 0.8875891917183296,\n",
       " 'overall_accuracy': 0.9539712232059347}"
      ]
     },
     "execution_count": 45,
     "metadata": {},
     "output_type": "execute_result"
    }
   ],
   "source": [
    "predictions, labels, _ = trainer.predict(tokenized_datasets[\"test\"])\n",
    "predictions = np.argmax(predictions, axis=2)\n",
    "\n",
    "# Remove ignored index (special tokens)\n",
    "true_predictions = [\n",
    "    [label_list[p] for (p, l) in zip(prediction, label) if l != -100]\n",
    "    for prediction, label in zip(predictions, labels)\n",
    "]\n",
    "true_labels = [\n",
    "    [label_list[l] for (p, l) in zip(prediction, label) if l != -100]\n",
    "    for prediction, label in zip(predictions, labels)\n",
    "]\n",
    "\n",
    "results = metric.compute(predictions=true_predictions, references=true_labels)\n",
    "print('Test set:')\n",
    "results"
   ]
  }
 ],
 "metadata": {
  "colab": {
   "provenance": []
  },
  "kaggle": {
   "accelerator": "gpu",
   "dataSources": [],
   "isGpuEnabled": true,
   "isInternetEnabled": true,
   "language": "python",
   "sourceType": "notebook"
  },
  "kernelspec": {
   "display_name": "Python 3",
   "language": "python",
   "name": "python3"
  },
  "language_info": {
   "codemirror_mode": {
    "name": "ipython",
    "version": 3
   },
   "file_extension": ".py",
   "mimetype": "text/x-python",
   "name": "python",
   "nbconvert_exporter": "python",
   "pygments_lexer": "ipython3",
   "version": "3.10.12"
  }
 },
 "nbformat": 4,
 "nbformat_minor": 4
}
