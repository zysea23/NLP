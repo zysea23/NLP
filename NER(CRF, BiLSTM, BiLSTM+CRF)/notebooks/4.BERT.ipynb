{
 "cells": [
  {
   "cell_type": "markdown",
   "metadata": {},
   "source": [
    "# Named Entity Recognition with BERT on CoNLL-2003 dataset"
   ]
  },
  {
   "cell_type": "markdown",
   "metadata": {},
   "source": [
    "## Hyperparameter"
   ]
  },
  {
   "cell_type": "code",
   "execution_count": 151,
   "metadata": {
    "execution": {
     "iopub.execute_input": "2025-02-09T10:31:27.561264Z",
     "iopub.status.busy": "2025-02-09T10:31:27.560952Z",
     "iopub.status.idle": "2025-02-09T10:31:27.564810Z",
     "shell.execute_reply": "2025-02-09T10:31:27.563980Z",
     "shell.execute_reply.started": "2025-02-09T10:31:27.561236Z"
    },
    "id": "zVvslsfMIrIh",
    "trusted": true
   },
   "outputs": [],
   "source": [
    "task = \"ner\" # could be one of \"ner\", \"pos\" or \"chunk\"\n",
    "model_checkpoint = \"bert-base-uncased\"\n",
    "batch_size = 16\n",
    "label_all_tokens = True"
   ]
  },
  {
   "cell_type": "markdown",
   "metadata": {
    "id": "whPRbBNbIrIl"
   },
   "source": [
    "# 1. Loading the dataset"
   ]
  },
  {
   "cell_type": "code",
   "execution_count": 152,
   "metadata": {
    "execution": {
     "iopub.execute_input": "2025-02-09T10:31:27.574963Z",
     "iopub.status.busy": "2025-02-09T10:31:27.574695Z",
     "iopub.status.idle": "2025-02-09T10:31:27.582472Z",
     "shell.execute_reply": "2025-02-09T10:31:27.581570Z",
     "shell.execute_reply.started": "2025-02-09T10:31:27.574942Z"
    },
    "id": "IreSlFmlIrIm",
    "trusted": true
   },
   "outputs": [
    {
     "name": "stdout",
     "output_type": "stream",
     "text": [
      "4.47.0\n"
     ]
    }
   ],
   "source": [
    "# !pip install evaluate\n",
    "# !pip install seqeval\n",
    "from datasets import load_dataset\n",
    "from evaluate import load\n",
    "import transformers\n",
    "import numpy as np\n",
    "import matplotlib.pyplot as plt\n",
    "\n",
    "print(transformers.__version__)\n",
    "\n",
    "from transformers import (\n",
    "    AutoTokenizer, \n",
    "    AutoModelForTokenClassification, \n",
    "    TrainingArguments, \n",
    "    Trainer, \n",
    "    DataCollatorForTokenClassification,\n",
    "    EarlyStoppingCallback\n",
    ")"
   ]
  },
  {
   "cell_type": "code",
   "execution_count": 153,
   "metadata": {
    "colab": {
     "base_uri": "https://localhost:8080/",
     "height": 270,
     "referenced_widgets": [
      "69caab03d6264fef9fc5649bffff5e20",
      "3f74532faa86412293d90d3952f38c4a",
      "50615aa59c7247c4804ca5cbc7945bd7",
      "fe962391292a413ca55dc932c4279fa7",
      "299f4b4c07654e53a25f8192bd1d7bbd",
      "ad04ed1038154081bbb0c1444784dcc2",
      "7c667ad22b5740d5a6319f1b1e3a8097",
      "46c2b043c0f84806978784a45a4e203b",
      "80e2943be35f46eeb24c8ab13faa6578",
      "de5956b5008d4fdba807bae57509c393",
      "931db1f7a42f4b46b7ff8c2e1262b994",
      "6c1db72efff5476e842c1386fadbbdba",
      "ccd2f37647c547abb4c719b75a26f2de",
      "d30a66df5c0145e79693e09789d96b81",
      "5fa26fc336274073abbd1d550542ee33",
      "2b34de08115d49d285def9269a53f484",
      "d426be871b424affb455aeb7db5e822e",
      "160bf88485f44f5cb6eaeecba5e0901f",
      "745c0d47d672477b9bb0dae77b926364",
      "d22ab78269cd4ccfbcf70c707057c31b",
      "d298eb19eeff453cba51c2804629d3f4",
      "a7204ade36314c86907c562e0a2158b8",
      "e35d42b2d352498ca3fc8530393786b2",
      "75103f83538d44abada79b51a1cec09e",
      "f6253931d90543e9b5fd0bb2d615f73a",
      "051aa783ff9e47e28d1f9584043815f5",
      "0984b2a14115454bbb009df71c1cf36f",
      "8ab9dfce29854049912178941ef1b289",
      "c9de740e007141958545e269372780a4",
      "cbea68b25d6d4ba09b2ce0f27b1726d5",
      "5781fc45cf8d486cb06ed68853b2c644",
      "d2a92143a08a4951b55bab9bc0a6d0d3",
      "a14c3e40e5254d61ba146f6ec88eae25",
      "c4ffe6f624ce4e978a0d9b864544941a",
      "1aca01c1d8c940dfadd3e7144bb35718",
      "9fbbaae50e6743f2aa19342152398186",
      "fea27ca6c9504fc896181bc1ff5730e5",
      "940d00556cb849b3a689d56e274041c2",
      "5cdf9ed939fb42d4bf77301c80b8afca",
      "94b39ccfef0b4b08bf2fb61bb0a657c1",
      "9a55087c85b74ea08b3e952ac1d73cbe",
      "2361ab124daf47cc885ff61f2899b2af",
      "1a65887eb37747ddb75dc4a40f7285f2",
      "3c946e2260704e6c98593136bd32d921",
      "50d325cdb9844f62a9ecc98e768cb5af",
      "aa781f0cfe454e9da5b53b93e9baabd8",
      "6bb68d3887ef43809eb23feb467f9723",
      "7e29a8b952cf4f4ea42833c8bf55342f",
      "dd5997d01d8947e4b1c211433969b89b",
      "2ace4dc78e2f4f1492a181bcd63304e7",
      "bbee008c2791443d8610371d1f16b62b",
      "31b1c8a2e3334b72b45b083688c1a20c",
      "7fb7c36adc624f7dbbcb4a831c1e4f63",
      "0b7c8f1939074794b3d9221244b1344d",
      "a71908883b064e1fbdddb547a8c41743",
      "2f5223f26c8541fc87e91d2205c39995"
     ]
    },
    "execution": {
     "iopub.execute_input": "2025-02-09T10:31:27.583891Z",
     "iopub.status.busy": "2025-02-09T10:31:27.583663Z",
     "iopub.status.idle": "2025-02-09T10:31:28.533053Z",
     "shell.execute_reply": "2025-02-09T10:31:28.532320Z",
     "shell.execute_reply.started": "2025-02-09T10:31:27.583872Z"
    },
    "id": "s_AY1ATSIrIq",
    "outputId": "fd0578d1-8895-443d-b56f-5908de9f1b6b",
    "trusted": true
   },
   "outputs": [],
   "source": [
    "datasets = load_dataset(\"conll2003\",trust_remote_code=True)"
   ]
  },
  {
   "cell_type": "code",
   "execution_count": 154,
   "metadata": {
    "execution": {
     "iopub.execute_input": "2025-02-09T10:31:28.534798Z",
     "iopub.status.busy": "2025-02-09T10:31:28.534505Z",
     "iopub.status.idle": "2025-02-09T10:31:28.539631Z",
     "shell.execute_reply": "2025-02-09T10:31:28.538877Z",
     "shell.execute_reply.started": "2025-02-09T10:31:28.534769Z"
    },
    "id": "GWiVUF0jIrIv",
    "outputId": "35e3ea43-f397-4a54-c90c-f2cf8d36873e",
    "trusted": true
   },
   "outputs": [
    {
     "data": {
      "text/plain": [
       "DatasetDict({\n",
       "    train: Dataset({\n",
       "        features: ['id', 'tokens', 'pos_tags', 'chunk_tags', 'ner_tags'],\n",
       "        num_rows: 14041\n",
       "    })\n",
       "    validation: Dataset({\n",
       "        features: ['id', 'tokens', 'pos_tags', 'chunk_tags', 'ner_tags'],\n",
       "        num_rows: 3250\n",
       "    })\n",
       "    test: Dataset({\n",
       "        features: ['id', 'tokens', 'pos_tags', 'chunk_tags', 'ner_tags'],\n",
       "        num_rows: 3453\n",
       "    })\n",
       "})"
      ]
     },
     "execution_count": 154,
     "metadata": {},
     "output_type": "execute_result"
    }
   ],
   "source": [
    "datasets"
   ]
  },
  {
   "cell_type": "code",
   "execution_count": 155,
   "metadata": {
    "execution": {
     "iopub.execute_input": "2025-02-09T10:31:28.540963Z",
     "iopub.status.busy": "2025-02-09T10:31:28.540715Z",
     "iopub.status.idle": "2025-02-09T10:31:28.555901Z",
     "shell.execute_reply": "2025-02-09T10:31:28.555343Z",
     "shell.execute_reply.started": "2025-02-09T10:31:28.540931Z"
    },
    "id": "X6HrpprwIrIz",
    "outputId": "d7670bc0-42e4-4c09-8a6a-5c018ded7d95",
    "trusted": true
   },
   "outputs": [
    {
     "data": {
      "text/plain": [
       "{'id': '0',\n",
       " 'tokens': ['EU',\n",
       "  'rejects',\n",
       "  'German',\n",
       "  'call',\n",
       "  'to',\n",
       "  'boycott',\n",
       "  'British',\n",
       "  'lamb',\n",
       "  '.'],\n",
       " 'pos_tags': [22, 42, 16, 21, 35, 37, 16, 21, 7],\n",
       " 'chunk_tags': [11, 21, 11, 12, 21, 22, 11, 12, 0],\n",
       " 'ner_tags': [3, 0, 7, 0, 0, 0, 7, 0, 0]}"
      ]
     },
     "execution_count": 155,
     "metadata": {},
     "output_type": "execute_result"
    }
   ],
   "source": [
    "datasets[\"train\"][0]"
   ]
  },
  {
   "cell_type": "code",
   "execution_count": 156,
   "metadata": {
    "execution": {
     "iopub.execute_input": "2025-02-09T10:31:28.557182Z",
     "iopub.status.busy": "2025-02-09T10:31:28.556744Z",
     "iopub.status.idle": "2025-02-09T10:31:28.571619Z",
     "shell.execute_reply": "2025-02-09T10:31:28.571013Z",
     "shell.execute_reply.started": "2025-02-09T10:31:28.557159Z"
    },
    "id": "q_4kjcRMq4mk",
    "outputId": "7f99b09e-41af-4f2a-a4c2-39b5b3b21711",
    "trusted": true
   },
   "outputs": [
    {
     "data": {
      "text/plain": [
       "Sequence(feature=ClassLabel(names=['O', 'B-PER', 'I-PER', 'B-ORG', 'I-ORG', 'B-LOC', 'I-LOC', 'B-MISC', 'I-MISC'], id=None), length=-1, id=None)"
      ]
     },
     "execution_count": 156,
     "metadata": {},
     "output_type": "execute_result"
    }
   ],
   "source": [
    "datasets[\"train\"].features[f\"ner_tags\"]"
   ]
  },
  {
   "cell_type": "code",
   "execution_count": 157,
   "metadata": {
    "execution": {
     "iopub.execute_input": "2025-02-09T10:31:28.572583Z",
     "iopub.status.busy": "2025-02-09T10:31:28.572326Z",
     "iopub.status.idle": "2025-02-09T10:31:28.587712Z",
     "shell.execute_reply": "2025-02-09T10:31:28.587075Z",
     "shell.execute_reply.started": "2025-02-09T10:31:28.572564Z"
    },
    "id": "QwGrM7B4q4mk",
    "outputId": "a932b680-7fed-482d-d29d-c24d2e19583b",
    "trusted": true
   },
   "outputs": [
    {
     "data": {
      "text/plain": [
       "['O', 'B-PER', 'I-PER', 'B-ORG', 'I-ORG', 'B-LOC', 'I-LOC', 'B-MISC', 'I-MISC']"
      ]
     },
     "execution_count": 157,
     "metadata": {},
     "output_type": "execute_result"
    }
   ],
   "source": [
    "label_list = datasets[\"train\"].features[f\"{task}_tags\"].feature.names\n",
    "label_list"
   ]
  },
  {
   "cell_type": "markdown",
   "metadata": {
    "id": "n9qywopnIrJH"
   },
   "source": [
    "# 2. Preprocessing the data"
   ]
  },
  {
   "cell_type": "code",
   "execution_count": 158,
   "metadata": {
    "execution": {
     "iopub.execute_input": "2025-02-09T10:31:28.589980Z",
     "iopub.status.busy": "2025-02-09T10:31:28.589729Z",
     "iopub.status.idle": "2025-02-09T10:31:29.913159Z",
     "shell.execute_reply": "2025-02-09T10:31:29.912557Z",
     "shell.execute_reply.started": "2025-02-09T10:31:28.589961Z"
    },
    "id": "eXNLu_-nIrJI",
    "trusted": true
   },
   "outputs": [
    {
     "data": {
      "application/vnd.jupyter.widget-view+json": {
       "model_id": "b217c0bf8c0c41788a0b359f9504ac02",
       "version_major": 2,
       "version_minor": 0
      },
      "text/plain": [
       "tokenizer_config.json:   0%|          | 0.00/48.0 [00:00<?, ?B/s]"
      ]
     },
     "metadata": {},
     "output_type": "display_data"
    },
    {
     "data": {
      "application/vnd.jupyter.widget-view+json": {
       "model_id": "1cf17c0fa2f84ca4874ca108d7ff1685",
       "version_major": 2,
       "version_minor": 0
      },
      "text/plain": [
       "config.json:   0%|          | 0.00/570 [00:00<?, ?B/s]"
      ]
     },
     "metadata": {},
     "output_type": "display_data"
    },
    {
     "data": {
      "application/vnd.jupyter.widget-view+json": {
       "model_id": "9c58f1841b2042f6a87bd3c1d027ee5e",
       "version_major": 2,
       "version_minor": 0
      },
      "text/plain": [
       "vocab.txt:   0%|          | 0.00/232k [00:00<?, ?B/s]"
      ]
     },
     "metadata": {},
     "output_type": "display_data"
    },
    {
     "data": {
      "application/vnd.jupyter.widget-view+json": {
       "model_id": "de1594fe425e4f5b8b864aa13387ae36",
       "version_major": 2,
       "version_minor": 0
      },
      "text/plain": [
       "tokenizer.json:   0%|          | 0.00/466k [00:00<?, ?B/s]"
      ]
     },
     "metadata": {},
     "output_type": "display_data"
    }
   ],
   "source": [
    "tokenizer = AutoTokenizer.from_pretrained(model_checkpoint)"
   ]
  },
  {
   "cell_type": "code",
   "execution_count": 159,
   "metadata": {
    "execution": {
     "iopub.execute_input": "2025-02-09T10:31:29.914466Z",
     "iopub.status.busy": "2025-02-09T10:31:29.914238Z",
     "iopub.status.idle": "2025-02-09T10:31:29.919659Z",
     "shell.execute_reply": "2025-02-09T10:31:29.918821Z",
     "shell.execute_reply.started": "2025-02-09T10:31:29.914447Z"
    },
    "id": "vc0BSBLIIrJQ",
    "trusted": true
   },
   "outputs": [],
   "source": [
    "def tokenize_and_align_labels(examples):\n",
    "    tokenized_inputs = tokenizer(examples[\"tokens\"], truncation=True, is_split_into_words=True)\n",
    "\n",
    "    labels = []\n",
    "    for i, label in enumerate(examples[f\"{task}_tags\"]):\n",
    "        word_ids = tokenized_inputs.word_ids(batch_index=i)\n",
    "        previous_word_idx = None\n",
    "        label_ids = []\n",
    "        for word_idx in word_ids:\n",
    "            # Special tokens have a word id that is None. We set the label to -100 so they are automatically\n",
    "            # ignored in the loss function.\n",
    "            if word_idx is None:\n",
    "                label_ids.append(-100)\n",
    "            # We set the label for the first token of each word.\n",
    "            elif word_idx != previous_word_idx:\n",
    "                label_ids.append(label[word_idx])\n",
    "            # For the other tokens in a word, we set the label to either the current label or -100, depending on\n",
    "            # the label_all_tokens flag.\n",
    "            else:\n",
    "                label_ids.append(label[word_idx] if label_all_tokens else -100)\n",
    "            previous_word_idx = word_idx\n",
    "\n",
    "        labels.append(label_ids)\n",
    "\n",
    "    tokenized_inputs[\"labels\"] = labels\n",
    "    return tokenized_inputs"
   ]
  },
  {
   "cell_type": "code",
   "execution_count": 160,
   "metadata": {
    "execution": {
     "iopub.execute_input": "2025-02-09T10:31:29.920701Z",
     "iopub.status.busy": "2025-02-09T10:31:29.920488Z",
     "iopub.status.idle": "2025-02-09T10:31:29.937634Z",
     "shell.execute_reply": "2025-02-09T10:31:29.936971Z",
     "shell.execute_reply.started": "2025-02-09T10:31:29.920683Z"
    },
    "id": "-b70jh26IrJS",
    "outputId": "acd3a42d-985b-44ee-9daa-af5d944ce1d9",
    "trusted": true
   },
   "outputs": [
    {
     "data": {
      "text/plain": [
       "{'input_ids': [[101, 7327, 19164, 2446, 2655, 2000, 17757, 2329, 12559, 1012, 102], [101, 2848, 13934, 102], [101, 9371, 2727, 1011, 5511, 1011, 2570, 102], [101, 1996, 2647, 3222, 2056, 2006, 9432, 2009, 18335, 2007, 2446, 6040, 2000, 10390, 2000, 18454, 2078, 2329, 12559, 2127, 6529, 5646, 3251, 5506, 11190, 4295, 2064, 2022, 11860, 2000, 8351, 1012, 102], [101, 2762, 1005, 1055, 4387, 2000, 1996, 2647, 2586, 1005, 1055, 15651, 2837, 14121, 1062, 9328, 5804, 2056, 2006, 9317, 10390, 2323, 4965, 8351, 4168, 4017, 2013, 3032, 2060, 2084, 3725, 2127, 1996, 4045, 6040, 2001, 24509, 1012, 102]], 'token_type_ids': [[0, 0, 0, 0, 0, 0, 0, 0, 0, 0, 0], [0, 0, 0, 0], [0, 0, 0, 0, 0, 0, 0, 0], [0, 0, 0, 0, 0, 0, 0, 0, 0, 0, 0, 0, 0, 0, 0, 0, 0, 0, 0, 0, 0, 0, 0, 0, 0, 0, 0, 0, 0, 0, 0, 0, 0], [0, 0, 0, 0, 0, 0, 0, 0, 0, 0, 0, 0, 0, 0, 0, 0, 0, 0, 0, 0, 0, 0, 0, 0, 0, 0, 0, 0, 0, 0, 0, 0, 0, 0, 0, 0, 0, 0, 0]], 'attention_mask': [[1, 1, 1, 1, 1, 1, 1, 1, 1, 1, 1], [1, 1, 1, 1], [1, 1, 1, 1, 1, 1, 1, 1], [1, 1, 1, 1, 1, 1, 1, 1, 1, 1, 1, 1, 1, 1, 1, 1, 1, 1, 1, 1, 1, 1, 1, 1, 1, 1, 1, 1, 1, 1, 1, 1, 1], [1, 1, 1, 1, 1, 1, 1, 1, 1, 1, 1, 1, 1, 1, 1, 1, 1, 1, 1, 1, 1, 1, 1, 1, 1, 1, 1, 1, 1, 1, 1, 1, 1, 1, 1, 1, 1, 1, 1]], 'labels': [[-100, 3, 0, 7, 0, 0, 0, 7, 0, 0, -100], [-100, 1, 2, -100], [-100, 5, 0, 0, 0, 0, 0, -100], [-100, 0, 3, 4, 0, 0, 0, 0, 0, 0, 7, 0, 0, 0, 0, 0, 0, 7, 0, 0, 0, 0, 0, 0, 0, 0, 0, 0, 0, 0, 0, 0, -100], [-100, 5, 0, 0, 0, 0, 0, 3, 4, 0, 0, 0, 0, 1, 2, 2, 2, 0, 0, 0, 0, 0, 0, 0, 0, 0, 0, 0, 0, 0, 5, 0, 0, 0, 0, 0, 0, 0, -100]]}"
      ]
     },
     "execution_count": 160,
     "metadata": {},
     "output_type": "execute_result"
    }
   ],
   "source": [
    "tokenize_and_align_labels(datasets['train'][:5])"
   ]
  },
  {
   "cell_type": "code",
   "execution_count": 161,
   "metadata": {
    "execution": {
     "iopub.execute_input": "2025-02-09T10:31:29.938619Z",
     "iopub.status.busy": "2025-02-09T10:31:29.938363Z",
     "iopub.status.idle": "2025-02-09T10:31:31.949897Z",
     "shell.execute_reply": "2025-02-09T10:31:31.949094Z",
     "shell.execute_reply.started": "2025-02-09T10:31:29.938580Z"
    },
    "id": "DDtsaJeVIrJT",
    "outputId": "aa4734bf-4ef5-4437-9948-2c16363da719",
    "trusted": true
   },
   "outputs": [
    {
     "data": {
      "application/vnd.jupyter.widget-view+json": {
       "model_id": "cb0137b3ef0f4936b475eba1402d9caa",
       "version_major": 2,
       "version_minor": 0
      },
      "text/plain": [
       "Map:   0%|          | 0/14041 [00:00<?, ? examples/s]"
      ]
     },
     "metadata": {},
     "output_type": "display_data"
    },
    {
     "data": {
      "application/vnd.jupyter.widget-view+json": {
       "model_id": "525aeb094bb54be7878b9230361e82c3",
       "version_major": 2,
       "version_minor": 0
      },
      "text/plain": [
       "Map:   0%|          | 0/3250 [00:00<?, ? examples/s]"
      ]
     },
     "metadata": {},
     "output_type": "display_data"
    },
    {
     "data": {
      "application/vnd.jupyter.widget-view+json": {
       "model_id": "9b8d9223e31d490c8a4940a6c7b28e80",
       "version_major": 2,
       "version_minor": 0
      },
      "text/plain": [
       "Map:   0%|          | 0/3453 [00:00<?, ? examples/s]"
      ]
     },
     "metadata": {},
     "output_type": "display_data"
    }
   ],
   "source": [
    "tokenized_datasets = datasets.map(tokenize_and_align_labels, batched=True)"
   ]
  },
  {
   "cell_type": "markdown",
   "metadata": {
    "id": "545PP3o8IrJV"
   },
   "source": [
    "# 3. Fine-tuning the model"
   ]
  },
  {
   "cell_type": "code",
   "execution_count": 162,
   "metadata": {
    "execution": {
     "iopub.execute_input": "2025-02-09T10:31:31.951134Z",
     "iopub.status.busy": "2025-02-09T10:31:31.950851Z",
     "iopub.status.idle": "2025-02-09T10:31:34.218158Z",
     "shell.execute_reply": "2025-02-09T10:31:34.217554Z",
     "shell.execute_reply.started": "2025-02-09T10:31:31.951110Z"
    },
    "id": "TlqNaB8jIrJW",
    "outputId": "84916cf3-6e6c-47f3-d081-032ec30a4132",
    "trusted": true
   },
   "outputs": [
    {
     "data": {
      "application/vnd.jupyter.widget-view+json": {
       "model_id": "91a353423e5245b29de7b61a471fbdfa",
       "version_major": 2,
       "version_minor": 0
      },
      "text/plain": [
       "model.safetensors:   0%|          | 0.00/440M [00:00<?, ?B/s]"
      ]
     },
     "metadata": {},
     "output_type": "display_data"
    },
    {
     "name": "stderr",
     "output_type": "stream",
     "text": [
      "Some weights of BertForTokenClassification were not initialized from the model checkpoint at bert-base-uncased and are newly initialized: ['classifier.bias', 'classifier.weight']\n",
      "You should probably TRAIN this model on a down-stream task to be able to use it for predictions and inference.\n"
     ]
    }
   ],
   "source": [
    "model = AutoModelForTokenClassification.from_pretrained(model_checkpoint, num_labels=len(label_list))"
   ]
  },
  {
   "cell_type": "code",
   "execution_count": 163,
   "metadata": {
    "execution": {
     "iopub.execute_input": "2025-02-09T10:31:34.219225Z",
     "iopub.status.busy": "2025-02-09T10:31:34.218919Z",
     "iopub.status.idle": "2025-02-09T10:31:34.248976Z",
     "shell.execute_reply": "2025-02-09T10:31:34.248274Z",
     "shell.execute_reply.started": "2025-02-09T10:31:34.219191Z"
    },
    "id": "Bliy8zgjIrJY",
    "trusted": true
   },
   "outputs": [],
   "source": [
    "model_name = model_checkpoint.split(\"/\")[-1]\n",
    "args = TrainingArguments(\n",
    "    f\"{model_name}-finetuned-{task}\",\n",
    "    eval_strategy = \"epoch\",\n",
    "    save_strategy = \"epoch\",\n",
    "    learning_rate=2e-5,\n",
    "    per_device_train_batch_size=batch_size,\n",
    "    per_device_eval_batch_size=batch_size,\n",
    "    num_train_epochs=10,\n",
    "    weight_decay=0.01,\n",
    "    report_to = 'none',\n",
    "    load_best_model_at_end=True,  \n",
    "    metric_for_best_model=\"f1\", \n",
    "    greater_is_better=True,\n",
    ")"
   ]
  },
  {
   "cell_type": "code",
   "execution_count": 164,
   "metadata": {
    "execution": {
     "iopub.execute_input": "2025-02-09T10:31:34.250019Z",
     "iopub.status.busy": "2025-02-09T10:31:34.249721Z",
     "iopub.status.idle": "2025-02-09T10:31:34.979840Z",
     "shell.execute_reply": "2025-02-09T10:31:34.979175Z",
     "shell.execute_reply.started": "2025-02-09T10:31:34.249989Z"
    },
    "id": "a7zyuOhqq4mq",
    "outputId": "96b867fa-2420-4dd4-d4d2-9cb8f8fbaed6",
    "trusted": true
   },
   "outputs": [
    {
     "data": {
      "text/plain": [
       "{'LOC': {'precision': 1.0, 'recall': 1.0, 'f1': 1.0, 'number': 2},\n",
       " 'ORG': {'precision': 1.0, 'recall': 1.0, 'f1': 1.0, 'number': 1},\n",
       " 'PER': {'precision': 1.0, 'recall': 1.0, 'f1': 1.0, 'number': 1},\n",
       " 'overall_precision': 1.0,\n",
       " 'overall_recall': 1.0,\n",
       " 'overall_f1': 1.0,\n",
       " 'overall_accuracy': 1.0}"
      ]
     },
     "execution_count": 164,
     "metadata": {},
     "output_type": "execute_result"
    }
   ],
   "source": [
    "data_collator = DataCollatorForTokenClassification(tokenizer)\n",
    "\n",
    "metric = load(\"seqeval\")\n",
    "\n",
    "labels = [label_list[i] for i in example[f\"{task}_tags\"]]\n",
    "metric.compute(predictions=[labels], references=[labels])"
   ]
  },
  {
   "cell_type": "code",
   "execution_count": 165,
   "metadata": {
    "execution": {
     "iopub.execute_input": "2025-02-09T10:31:34.980889Z",
     "iopub.status.busy": "2025-02-09T10:31:34.980612Z",
     "iopub.status.idle": "2025-02-09T10:31:34.986060Z",
     "shell.execute_reply": "2025-02-09T10:31:34.985184Z",
     "shell.execute_reply.started": "2025-02-09T10:31:34.980863Z"
    },
    "id": "UmvbnJ9JIrJd",
    "trusted": true
   },
   "outputs": [],
   "source": [
    "def compute_metrics(p):\n",
    "    predictions, labels = p\n",
    "    predictions = np.argmax(predictions, axis=2)\n",
    "\n",
    "    # Remove ignored index (special tokens)\n",
    "    true_predictions = [\n",
    "        [label_list[p] for (p, l) in zip(prediction, label) if l != -100]\n",
    "        for prediction, label in zip(predictions, labels)\n",
    "    ]\n",
    "    true_labels = [\n",
    "        [label_list[l] for (p, l) in zip(prediction, label) if l != -100]\n",
    "        for prediction, label in zip(predictions, labels)\n",
    "    ]\n",
    "\n",
    "    results = metric.compute(predictions=true_predictions, references=true_labels)\n",
    "    return {\n",
    "        \"precision\": results[\"overall_precision\"],\n",
    "        \"recall\": results[\"overall_recall\"],\n",
    "        \"f1\": results[\"overall_f1\"],\n",
    "        \"accuracy\": results[\"overall_accuracy\"],\n",
    "    }"
   ]
  },
  {
   "cell_type": "code",
   "execution_count": 166,
   "metadata": {
    "execution": {
     "iopub.execute_input": "2025-02-09T10:31:34.987270Z",
     "iopub.status.busy": "2025-02-09T10:31:34.986931Z",
     "iopub.status.idle": "2025-02-09T10:31:35.165531Z",
     "shell.execute_reply": "2025-02-09T10:31:35.164875Z",
     "shell.execute_reply.started": "2025-02-09T10:31:34.987240Z"
    },
    "id": "imY1oC3SIrJf",
    "trusted": true
   },
   "outputs": [],
   "source": [
    "trainer = Trainer(\n",
    "    model,\n",
    "    args,\n",
    "    train_dataset=tokenized_datasets[\"train\"],\n",
    "    eval_dataset=tokenized_datasets[\"validation\"],\n",
    "    data_collator=data_collator,\n",
    "    # tokenizer=tokenizer,\n",
    "    compute_metrics=compute_metrics,\n",
    "    callbacks=[EarlyStoppingCallback(early_stopping_patience=3)]\n",
    ")"
   ]
  },
  {
   "cell_type": "markdown",
   "metadata": {},
   "source": [
    "# 4. Model Training"
   ]
  },
  {
   "cell_type": "code",
   "execution_count": 167,
   "metadata": {
    "execution": {
     "iopub.execute_input": "2025-02-09T10:31:35.166812Z",
     "iopub.status.busy": "2025-02-09T10:31:35.166533Z",
     "iopub.status.idle": "2025-02-09T10:45:59.688321Z",
     "shell.execute_reply": "2025-02-09T10:45:59.687473Z",
     "shell.execute_reply.started": "2025-02-09T10:31:35.166791Z"
    },
    "id": "3XJMU5nTq4mq",
    "outputId": "07aeac2e-a960-4d35-f1bf-51eaa52ee09a",
    "trusted": true
   },
   "outputs": [
    {
     "data": {
      "text/html": [
       "\n",
       "    <div>\n",
       "      \n",
       "      <progress value='7902' max='8780' style='width:300px; height:20px; vertical-align: middle;'></progress>\n",
       "      [7902/8780 14:23 < 01:36, 9.14 it/s, Epoch 9/10]\n",
       "    </div>\n",
       "    <table border=\"1\" class=\"dataframe\">\n",
       "  <thead>\n",
       " <tr style=\"text-align: left;\">\n",
       "      <th>Epoch</th>\n",
       "      <th>Training Loss</th>\n",
       "      <th>Validation Loss</th>\n",
       "      <th>Precision</th>\n",
       "      <th>Recall</th>\n",
       "      <th>F1</th>\n",
       "      <th>Accuracy</th>\n",
       "    </tr>\n",
       "  </thead>\n",
       "  <tbody>\n",
       "    <tr>\n",
       "      <td>1</td>\n",
       "      <td>0.226700</td>\n",
       "      <td>0.070042</td>\n",
       "      <td>0.900715</td>\n",
       "      <td>0.915427</td>\n",
       "      <td>0.908012</td>\n",
       "      <td>0.979808</td>\n",
       "    </tr>\n",
       "    <tr>\n",
       "      <td>2</td>\n",
       "      <td>0.045300</td>\n",
       "      <td>0.059977</td>\n",
       "      <td>0.934423</td>\n",
       "      <td>0.940486</td>\n",
       "      <td>0.937444</td>\n",
       "      <td>0.985067</td>\n",
       "    </tr>\n",
       "    <tr>\n",
       "      <td>3</td>\n",
       "      <td>0.025600</td>\n",
       "      <td>0.059535</td>\n",
       "      <td>0.942288</td>\n",
       "      <td>0.942499</td>\n",
       "      <td>0.942394</td>\n",
       "      <td>0.986163</td>\n",
       "    </tr>\n",
       "    <tr>\n",
       "      <td>4</td>\n",
       "      <td>0.014400</td>\n",
       "      <td>0.066255</td>\n",
       "      <td>0.931836</td>\n",
       "      <td>0.951225</td>\n",
       "      <td>0.941430</td>\n",
       "      <td>0.985941</td>\n",
       "    </tr>\n",
       "    <tr>\n",
       "      <td>5</td>\n",
       "      <td>0.009800</td>\n",
       "      <td>0.073867</td>\n",
       "      <td>0.933598</td>\n",
       "      <td>0.945296</td>\n",
       "      <td>0.939411</td>\n",
       "      <td>0.985194</td>\n",
       "    </tr>\n",
       "    <tr>\n",
       "      <td>6</td>\n",
       "      <td>0.005800</td>\n",
       "      <td>0.073269</td>\n",
       "      <td>0.943696</td>\n",
       "      <td>0.948764</td>\n",
       "      <td>0.946223</td>\n",
       "      <td>0.986941</td>\n",
       "    </tr>\n",
       "    <tr>\n",
       "      <td>7</td>\n",
       "      <td>0.004900</td>\n",
       "      <td>0.075095</td>\n",
       "      <td>0.936615</td>\n",
       "      <td>0.947198</td>\n",
       "      <td>0.941877</td>\n",
       "      <td>0.985988</td>\n",
       "    </tr>\n",
       "    <tr>\n",
       "      <td>8</td>\n",
       "      <td>0.003500</td>\n",
       "      <td>0.077571</td>\n",
       "      <td>0.942594</td>\n",
       "      <td>0.949659</td>\n",
       "      <td>0.946113</td>\n",
       "      <td>0.986798</td>\n",
       "    </tr>\n",
       "    <tr>\n",
       "      <td>9</td>\n",
       "      <td>0.002600</td>\n",
       "      <td>0.080450</td>\n",
       "      <td>0.940388</td>\n",
       "      <td>0.949435</td>\n",
       "      <td>0.944890</td>\n",
       "      <td>0.986528</td>\n",
       "    </tr>\n",
       "  </tbody>\n",
       "</table><p>"
      ],
      "text/plain": [
       "<IPython.core.display.HTML object>"
      ]
     },
     "metadata": {},
     "output_type": "display_data"
    },
    {
     "data": {
      "text/plain": [
       "TrainOutput(global_step=7902, training_loss=0.030449928391948287, metrics={'train_runtime': 864.1301, 'train_samples_per_second': 162.487, 'train_steps_per_second': 10.161, 'total_flos': 3066043991202504.0, 'train_loss': 0.030449928391948287, 'epoch': 9.0})"
      ]
     },
     "execution_count": 167,
     "metadata": {},
     "output_type": "execute_result"
    }
   ],
   "source": [
    "trainer.train()"
   ]
  },
  {
   "cell_type": "markdown",
   "metadata": {},
   "source": [
    "# 5.Model Evaluation"
   ]
  },
  {
   "cell_type": "code",
   "execution_count": 168,
   "metadata": {
    "execution": {
     "iopub.execute_input": "2025-02-09T10:45:59.689492Z",
     "iopub.status.busy": "2025-02-09T10:45:59.689200Z",
     "iopub.status.idle": "2025-02-09T10:46:06.399999Z",
     "shell.execute_reply": "2025-02-09T10:46:06.399054Z",
     "shell.execute_reply.started": "2025-02-09T10:45:59.689470Z"
    },
    "id": "UOUcBkX8IrJi",
    "outputId": "de5b9dd6-9dc0-4702-cb43-55e9829fde25",
    "trusted": true
   },
   "outputs": [
    {
     "data": {
      "text/html": [],
      "text/plain": [
       "<IPython.core.display.HTML object>"
      ]
     },
     "metadata": {},
     "output_type": "display_data"
    },
    {
     "data": {
      "text/plain": [
       "{'eval_loss': 0.07326921820640564,\n",
       " 'eval_precision': 0.9436964504283966,\n",
       " 'eval_recall': 0.9487638438304061,\n",
       " 'eval_f1': 0.9462233627133773,\n",
       " 'eval_accuracy': 0.9869413951419448,\n",
       " 'eval_runtime': 6.7017,\n",
       " 'eval_samples_per_second': 484.952,\n",
       " 'eval_steps_per_second': 30.44,\n",
       " 'epoch': 9.0}"
      ]
     },
     "execution_count": 168,
     "metadata": {},
     "output_type": "execute_result"
    }
   ],
   "source": [
    "trainer.evaluate()"
   ]
  },
  {
   "cell_type": "code",
   "execution_count": 169,
   "metadata": {
    "execution": {
     "iopub.execute_input": "2025-02-09T10:46:06.401254Z",
     "iopub.status.busy": "2025-02-09T10:46:06.400959Z",
     "iopub.status.idle": "2025-02-09T10:46:06.587586Z",
     "shell.execute_reply": "2025-02-09T10:46:06.586810Z",
     "shell.execute_reply.started": "2025-02-09T10:46:06.401221Z"
    },
    "trusted": true
   },
   "outputs": [
    {
     "data": {
      "image/png": "[encoded data removed]",
      "text/plain": [
       "<Figure size 800x500 with 1 Axes>"
      ]
     },
     "metadata": {},
     "output_type": "display_data"
    }
   ],
   "source": [
    "import matplotlib.pyplot as plt\n",
    "\n",
    "\n",
    "logs = trainer.state.log_history\n",
    "\n",
    "\n",
    "train_losses = [entry['loss'] for entry in logs if 'loss' in entry]\n",
    "eval_losses = [entry['eval_loss'] for entry in logs if 'eval_loss' in entry]\n",
    "\n",
    "\n",
    "epochs_train = list(range(1, len(train_losses) + 1))\n",
    "epochs_eval = list(range(1, len(eval_losses) + 1))\n",
    "\n",
    "plt.figure(figsize=(8,5))\n",
    "plt.plot(epochs_train, train_losses, label=\"Train Loss\", marker=\"o\")\n",
    "plt.plot(epochs_eval, eval_losses, label=\"Validation Loss\", marker=\"o\")\n",
    "plt.xlabel(\"Epoch\")\n",
    "plt.ylabel(\"Loss\")\n",
    "plt.legend()\n",
    "plt.title(\"Train & Validation Loss\")\n",
    "plt.grid()\n",
    "plt.show()"
   ]
  },
  {
   "cell_type": "code",
   "execution_count": 170,
   "metadata": {
    "execution": {
     "iopub.execute_input": "2025-02-09T10:46:06.590703Z",
     "iopub.status.busy": "2025-02-09T10:46:06.590470Z",
     "iopub.status.idle": "2025-02-09T10:46:06.874510Z",
     "shell.execute_reply": "2025-02-09T10:46:06.873693Z",
     "shell.execute_reply.started": "2025-02-09T10:46:06.590684Z"
    },
    "trusted": true
   },
   "outputs": [
    {
     "data": {
      "image/png": "[encoded data removed]",
      "text/plain": [
       "<Figure size 800x500 with 1 Axes>"
      ]
     },
     "metadata": {},
     "output_type": "display_data"
    }
   ],
   "source": [
    "f1_scores = [entry['eval_f1'] for entry in logs if 'eval_f1' in entry]\n",
    "\n",
    "plt.figure(figsize=(8,5))\n",
    "plt.plot(range(1, len(f1_scores) + 1), f1_scores, label=\"Validation F1-score\", marker=\"o\")\n",
    "plt.xlabel(\"Epoch\")\n",
    "plt.ylabel(\"F1-score\")\n",
    "plt.legend()\n",
    "plt.title(\"Validation F1-score over Epochs\")\n",
    "plt.grid()\n",
    "plt.show()\n"
   ]
  },
  {
   "cell_type": "code",
   "execution_count": 171,
   "metadata": {
    "execution": {
     "iopub.execute_input": "2025-02-09T10:46:06.875580Z",
     "iopub.status.busy": "2025-02-09T10:46:06.875374Z",
     "iopub.status.idle": "2025-02-09T10:46:13.390871Z",
     "shell.execute_reply": "2025-02-09T10:46:13.390090Z",
     "shell.execute_reply.started": "2025-02-09T10:46:06.875562Z"
    },
    "trusted": true
   },
   "outputs": [
    {
     "name": "stdout",
     "output_type": "stream",
     "text": [
      "{'eval_loss': 0.1748828887939453, 'eval_precision': 0.8956388133790332, 'eval_recall': 0.8993591265131735, 'eval_f1': 0.8974951145851838, 'eval_accuracy': 0.9758994544575651, 'eval_runtime': 6.5073, 'eval_samples_per_second': 530.631, 'eval_steps_per_second': 33.193, 'epoch': 9.0}\n"
     ]
    }
   ],
   "source": [
    "test_results = trainer.evaluate(tokenized_datasets[\"test\"])\n",
    "print(test_results)\n"
   ]
  },
  {
   "cell_type": "code",
   "execution_count": 172,
   "metadata": {
    "execution": {
     "iopub.execute_input": "2025-02-09T10:46:13.392017Z",
     "iopub.status.busy": "2025-02-09T10:46:13.391707Z",
     "iopub.status.idle": "2025-02-09T10:46:21.960369Z",
     "shell.execute_reply": "2025-02-09T10:46:21.959565Z",
     "shell.execute_reply.started": "2025-02-09T10:46:13.391984Z"
    },
    "id": "7tst3ADYq4mr",
    "outputId": "49eb9210-f576-404c-ab7b-5b38843a3447",
    "trusted": true
   },
   "outputs": [
    {
     "name": "stdout",
     "output_type": "stream",
     "text": [
      "Validation set:\n"
     ]
    },
    {
     "data": {
      "text/plain": [
       "{'LOC': {'precision': 0.962457337883959,\n",
       "  'recall': 0.9694423223834988,\n",
       "  'f1': 0.9659372026641293,\n",
       "  'number': 2618},\n",
       " 'MISC': {'precision': 0.8753096614368291,\n",
       "  'recall': 0.8610885458976442,\n",
       "  'f1': 0.8681408681408681,\n",
       "  'number': 1231},\n",
       " 'ORG': {'precision': 0.9139990444338271,\n",
       "  'recall': 0.9304474708171206,\n",
       "  'f1': 0.9221499156423234,\n",
       "  'number': 2056},\n",
       " 'PER': {'precision': 0.9750492449113591,\n",
       "  'recall': 0.978905735003296,\n",
       "  'f1': 0.9769736842105263,\n",
       "  'number': 3034},\n",
       " 'overall_precision': 0.9436964504283966,\n",
       " 'overall_recall': 0.9487638438304061,\n",
       " 'overall_f1': 0.9462233627133773,\n",
       " 'overall_accuracy': 0.9869413951419448}"
      ]
     },
     "execution_count": 172,
     "metadata": {},
     "output_type": "execute_result"
    }
   ],
   "source": [
    "predictions, labels, _ = trainer.predict(tokenized_datasets[\"validation\"])\n",
    "predictions = np.argmax(predictions, axis=2)\n",
    "\n",
    "# Remove ignored index (special tokens)\n",
    "true_predictions = [\n",
    "    [label_list[p] for (p, l) in zip(prediction, label) if l != -100]\n",
    "    for prediction, label in zip(predictions, labels)\n",
    "]\n",
    "true_labels = [\n",
    "    [label_list[l] for (p, l) in zip(prediction, label) if l != -100]\n",
    "    for prediction, label in zip(predictions, labels)\n",
    "]\n",
    "\n",
    "results = metric.compute(predictions=true_predictions, references=true_labels)\n",
    "print('Validation set:')\n",
    "results"
   ]
  },
  {
   "cell_type": "code",
   "execution_count": 173,
   "metadata": {
    "execution": {
     "iopub.execute_input": "2025-02-09T10:46:21.961440Z",
     "iopub.status.busy": "2025-02-09T10:46:21.961171Z",
     "iopub.status.idle": "2025-02-09T10:46:29.590490Z",
     "shell.execute_reply": "2025-02-09T10:46:29.589600Z",
     "shell.execute_reply.started": "2025-02-09T10:46:21.961418Z"
    },
    "trusted": true
   },
   "outputs": [
    {
     "data": {
      "text/html": [],
      "text/plain": [
       "<IPython.core.display.HTML object>"
      ]
     },
     "metadata": {},
     "output_type": "display_data"
    },
    {
     "name": "stdout",
     "output_type": "stream",
     "text": [
      "Test set:\n"
     ]
    },
    {
     "data": {
      "text/plain": [
       "{'LOC': {'precision': 0.8997711670480549,\n",
       "  'recall': 0.9256120527306968,\n",
       "  'f1': 0.9125087027152472,\n",
       "  'number': 2124},\n",
       " 'MISC': {'precision': 0.7733050847457628,\n",
       "  'recall': 0.7329317269076305,\n",
       "  'f1': 0.752577319587629,\n",
       "  'number': 996},\n",
       " 'ORG': {'precision': 0.856396866840731,\n",
       "  'recall': 0.8871715610510046,\n",
       "  'f1': 0.8715126209907003,\n",
       "  'number': 2588},\n",
       " 'PER': {'precision': 0.975480950584685,\n",
       "  'recall': 0.9514348785871964,\n",
       "  'f1': 0.9633078785621157,\n",
       "  'number': 2718},\n",
       " 'overall_precision': 0.8956388133790332,\n",
       " 'overall_recall': 0.8993591265131735,\n",
       " 'overall_f1': 0.8974951145851838,\n",
       " 'overall_accuracy': 0.9758994544575651}"
      ]
     },
     "execution_count": 173,
     "metadata": {},
     "output_type": "execute_result"
    }
   ],
   "source": [
    "predictions, labels, _ = trainer.predict(tokenized_datasets[\"test\"])\n",
    "predictions = np.argmax(predictions, axis=2)\n",
    "\n",
    "# Remove ignored index (special tokens)\n",
    "true_predictions = [\n",
    "    [label_list[p] for (p, l) in zip(prediction, label) if l != -100]\n",
    "    for prediction, label in zip(predictions, labels)\n",
    "]\n",
    "true_labels = [\n",
    "    [label_list[l] for (p, l) in zip(prediction, label) if l != -100]\n",
    "    for prediction, label in zip(predictions, labels)\n",
    "]\n",
    "\n",
    "results = metric.compute(predictions=true_predictions, references=true_labels)\n",
    "print('Test set:')\n",
    "results"
   ]
  }
 ],
 "metadata": {
  "colab": {
   "provenance": []
  },
  "kaggle": {
   "accelerator": "gpu",
   "dataSources": [],
   "isGpuEnabled": true,
   "isInternetEnabled": true,
   "language": "python",
   "sourceType": "notebook"
  },
  "kernelspec": {
   "display_name": "Python 3",
   "language": "python",
   "name": "python3"
  },
  "language_info": {
   "codemirror_mode": {
    "name": "ipython",
    "version": 3
   },
   "file_extension": ".py",
   "mimetype": "text/x-python",
   "name": "python",
   "nbconvert_exporter": "python",
   "pygments_lexer": "ipython3",
   "version": "3.10.12"
  }
 },
 "nbformat": 4,
 "nbformat_minor": 4
}
