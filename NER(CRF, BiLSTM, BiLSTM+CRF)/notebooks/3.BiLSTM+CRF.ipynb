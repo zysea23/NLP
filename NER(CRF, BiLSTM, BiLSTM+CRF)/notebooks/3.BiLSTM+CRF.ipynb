{
 "cells": [
  {
   "cell_type": "markdown",
   "metadata": {},
   "source": [
    "# Named Entity Recognition with Bi-LSTM-CRF on CoNLL-2003 dataset"
   ]
  },
  {
   "cell_type": "markdown",
   "metadata": {},
   "source": [
    "# 1. Data Loading"
   ]
  },
  {
   "cell_type": "code",
   "execution_count": 402,
   "metadata": {
    "execution": {
     "iopub.execute_input": "2025-02-07T02:22:56.419952Z",
     "iopub.status.busy": "2025-02-07T02:22:56.419600Z",
     "iopub.status.idle": "2025-02-07T02:23:03.032254Z",
     "shell.execute_reply": "2025-02-07T02:23:03.030952Z",
     "shell.execute_reply.started": "2025-02-07T02:22:56.419924Z"
    },
    "trusted": true
   },
   "outputs": [
    {
     "name": "stdout",
     "output_type": "stream",
     "text": [
      "Requirement already satisfied: seqeval in /usr/local/lib/python3.10/dist-packages (1.2.2)\n",
      "Requirement already satisfied: numpy>=1.14.0 in /usr/local/lib/python3.10/dist-packages (from seqeval) (1.26.4)\n",
      "Requirement already satisfied: scikit-learn>=0.21.3 in /usr/local/lib/python3.10/dist-packages (from seqeval) (1.2.2)\n",
      "Requirement already satisfied: mkl_fft in /usr/local/lib/python3.10/dist-packages (from numpy>=1.14.0->seqeval) (1.3.8)\n",
      "Requirement already satisfied: mkl_random in /usr/local/lib/python3.10/dist-packages (from numpy>=1.14.0->seqeval) (1.2.4)\n",
      "Requirement already satisfied: mkl_umath in /usr/local/lib/python3.10/dist-packages (from numpy>=1.14.0->seqeval) (0.1.1)\n",
      "Requirement already satisfied: mkl in /usr/local/lib/python3.10/dist-packages (from numpy>=1.14.0->seqeval) (2025.0.1)\n",
      "Requirement already satisfied: tbb4py in /usr/local/lib/python3.10/dist-packages (from numpy>=1.14.0->seqeval) (2022.0.0)\n",
      "Requirement already satisfied: mkl-service in /usr/local/lib/python3.10/dist-packages (from numpy>=1.14.0->seqeval) (2.4.1)\n",
      "Requirement already satisfied: scipy>=1.3.2 in /usr/local/lib/python3.10/dist-packages (from scikit-learn>=0.21.3->seqeval) (1.13.1)\n",
      "Requirement already satisfied: joblib>=1.1.1 in /usr/local/lib/python3.10/dist-packages (from scikit-learn>=0.21.3->seqeval) (1.4.2)\n",
      "Requirement already satisfied: threadpoolctl>=2.0.0 in /usr/local/lib/python3.10/dist-packages (from scikit-learn>=0.21.3->seqeval) (3.5.0)\n",
      "Requirement already satisfied: intel-openmp>=2024 in /usr/local/lib/python3.10/dist-packages (from mkl->numpy>=1.14.0->seqeval) (2024.2.0)\n",
      "Requirement already satisfied: tbb==2022.* in /usr/local/lib/python3.10/dist-packages (from mkl->numpy>=1.14.0->seqeval) (2022.0.0)\n",
      "Requirement already satisfied: tcmlib==1.* in /usr/local/lib/python3.10/dist-packages (from tbb==2022.*->mkl->numpy>=1.14.0->seqeval) (1.2.0)\n",
      "Requirement already satisfied: intel-cmplr-lib-rt in /usr/local/lib/python3.10/dist-packages (from mkl_umath->numpy>=1.14.0->seqeval) (2024.2.0)\n",
      "Requirement already satisfied: intel-cmplr-lib-ur==2024.2.0 in /usr/local/lib/python3.10/dist-packages (from intel-openmp>=2024->mkl->numpy>=1.14.0->seqeval) (2024.2.0)\n",
      "Requirement already satisfied: pytorch-crf in /usr/local/lib/python3.10/dist-packages (0.7.2)\n"
     ]
    }
   ],
   "source": [
    "# !pip install seqeval\n",
    "# !pip install pytorch-crf\n",
    "\n",
    "# Import necessary libraries\n",
    "import torch\n",
    "import torch.nn as nn\n",
    "from torch.utils.data import Dataset, DataLoader\n",
    "from datasets import load_dataset\n",
    "import numpy as np\n",
    "from sklearn.metrics import classification_report\n",
    "from seqeval.metrics import f1_score, classification_report as seq_classification_report\n",
    "import matplotlib.pyplot as plt\n",
    "import seaborn as sns\n",
    "from collections import defaultdict, Counter\n",
    "import pandas as pd\n",
    "import os\n",
    "from itertools import product\n",
    "from pytorchcrf import CRF  \n",
    "import shutil"
   ]
  },
  {
   "cell_type": "code",
   "execution_count": 403,
   "metadata": {
    "execution": {
     "iopub.execute_input": "2025-02-07T02:23:03.033681Z",
     "iopub.status.busy": "2025-02-07T02:23:03.033361Z",
     "iopub.status.idle": "2025-02-07T02:23:03.753664Z",
     "shell.execute_reply": "2025-02-07T02:23:03.752920Z",
     "shell.execute_reply.started": "2025-02-07T02:23:03.033654Z"
    },
    "trusted": true
   },
   "outputs": [
    {
     "name": "stdout",
     "output_type": "stream",
     "text": [
      "DatasetDict({\n",
      "    train: Dataset({\n",
      "        features: ['id', 'tokens', 'pos_tags', 'chunk_tags', 'ner_tags'],\n",
      "        num_rows: 14041\n",
      "    })\n",
      "    validation: Dataset({\n",
      "        features: ['id', 'tokens', 'pos_tags', 'chunk_tags', 'ner_tags'],\n",
      "        num_rows: 3250\n",
      "    })\n",
      "    test: Dataset({\n",
      "        features: ['id', 'tokens', 'pos_tags', 'chunk_tags', 'ner_tags'],\n",
      "        num_rows: 3453\n",
      "    })\n",
      "})\n"
     ]
    }
   ],
   "source": [
    "# Load the CoNLL-2003 dataset\n",
    "dataset = load_dataset(\"eriktks/conll2003\", trust_remote_code=True)\n",
    "print(dataset)"
   ]
  },
  {
   "cell_type": "code",
   "execution_count": 404,
   "metadata": {
    "execution": {
     "iopub.execute_input": "2025-02-07T02:23:03.755264Z",
     "iopub.status.busy": "2025-02-07T02:23:03.755016Z",
     "iopub.status.idle": "2025-02-07T02:23:03.759807Z",
     "shell.execute_reply": "2025-02-07T02:23:03.758977Z",
     "shell.execute_reply.started": "2025-02-07T02:23:03.755242Z"
    },
    "trusted": true
   },
   "outputs": [
    {
     "name": "stdout",
     "output_type": "stream",
     "text": [
      "{'id': '0', 'tokens': ['EU', 'rejects', 'German', 'call', 'to', 'boycott', 'British', 'lamb', '.'], 'pos_tags': [22, 42, 16, 21, 35, 37, 16, 21, 7], 'chunk_tags': [11, 21, 11, 12, 21, 22, 11, 12, 0], 'ner_tags': [3, 0, 7, 0, 0, 0, 7, 0, 0]}\n"
     ]
    }
   ],
   "source": [
    "# View the first training example\n",
    "print(dataset['train'][0])"
   ]
  },
  {
   "cell_type": "markdown",
   "metadata": {},
   "source": [
    "# 2. Vocabulary Building"
   ]
  },
  {
   "cell_type": "code",
   "execution_count": 405,
   "metadata": {
    "execution": {
     "iopub.execute_input": "2025-02-07T02:23:03.761571Z",
     "iopub.status.busy": "2025-02-07T02:23:03.761193Z",
     "iopub.status.idle": "2025-02-07T02:23:04.299323Z",
     "shell.execute_reply": "2025-02-07T02:23:04.298662Z",
     "shell.execute_reply.started": "2025-02-07T02:23:03.761535Z"
    },
    "trusted": true
   },
   "outputs": [],
   "source": [
    "# Build vocabulary based on frequency of words\n",
    "counter = Counter()\n",
    "for tokens in dataset['train']['tokens']:\n",
    "    counter.update(tokens)\n",
    "\n",
    "# Select the most common 30000 words **\n",
    "vocab = ['<PAD>', '<UNK>'] + [word for word, freq in counter.most_common(30000)]\n",
    "\n",
    "# Build word mappings\n",
    "word2idx = {word: idx for idx, word in enumerate(vocab)}\n",
    "idx2word = {idx: word for word, idx in word2idx.items()}"
   ]
  },
  {
   "cell_type": "code",
   "execution_count": 406,
   "metadata": {
    "execution": {
     "iopub.execute_input": "2025-02-07T02:23:04.300535Z",
     "iopub.status.busy": "2025-02-07T02:23:04.300201Z",
     "iopub.status.idle": "2025-02-07T02:23:04.312608Z",
     "shell.execute_reply": "2025-02-07T02:23:04.311762Z",
     "shell.execute_reply.started": "2025-02-07T02:23:04.300505Z"
    },
    "trusted": true
   },
   "outputs": [
    {
     "name": "stdout",
     "output_type": "stream",
     "text": [
      "Vocabulary size: 23625\n",
      "Most common 10 words: ['<PAD>', '<UNK>', '.', ',', 'the', 'of', 'in', 'to', 'a', '(']\n",
      "First 5 words: [('<PAD>', 0), ('<UNK>', 1), ('.', 2), (',', 3), ('the', 4)]\n",
      "First 5 indices: [(0, '<PAD>'), (1, '<UNK>'), (2, '.'), (3, ','), (4, 'the')]\n"
     ]
    }
   ],
   "source": [
    "print('Vocabulary size:', len(vocab))\n",
    "print('Most common 10 words:', vocab[:10])\n",
    "\n",
    "print('First 5 words:', list(word2idx.items())[:5])\n",
    "print('First 5 indices:', list(idx2word.items())[:5])"
   ]
  },
  {
   "cell_type": "code",
   "execution_count": 407,
   "metadata": {
    "execution": {
     "iopub.execute_input": "2025-02-07T02:23:04.313630Z",
     "iopub.status.busy": "2025-02-07T02:23:04.313368Z",
     "iopub.status.idle": "2025-02-07T02:23:04.326703Z",
     "shell.execute_reply": "2025-02-07T02:23:04.325901Z",
     "shell.execute_reply.started": "2025-02-07T02:23:04.313610Z"
    },
    "trusted": true
   },
   "outputs": [],
   "source": [
    "# Build tag mappings\n",
    "ner_tags = dataset['train'].features['ner_tags'].feature.names  \n",
    "\n",
    "tag2idx = {tag: idx for idx, tag in enumerate(ner_tags)}    #{'O': 0, 'B-PER': 1,..., 'I-MISC': 8}\n",
    "# Add padding tag\n",
    "tag2idx['<PAD>'] = len(tag2idx)         #{'O': 0, 'B-PER': 1,..., 'I-MISC': 8, '<PAD>': 9}\n",
    "\n",
    "idx2tag = {idx: tag for tag, idx in tag2idx.items()}"
   ]
  },
  {
   "cell_type": "code",
   "execution_count": 408,
   "metadata": {
    "execution": {
     "iopub.execute_input": "2025-02-07T02:23:04.327653Z",
     "iopub.status.busy": "2025-02-07T02:23:04.327455Z",
     "iopub.status.idle": "2025-02-07T02:23:04.340400Z",
     "shell.execute_reply": "2025-02-07T02:23:04.339693Z",
     "shell.execute_reply.started": "2025-02-07T02:23:04.327634Z"
    },
    "trusted": true
   },
   "outputs": [
    {
     "name": "stdout",
     "output_type": "stream",
     "text": [
      "NER tags: ['O', 'B-PER', 'I-PER', 'B-ORG', 'I-ORG', 'B-LOC', 'I-LOC', 'B-MISC', 'I-MISC']\n",
      "Tag to index: {'O': 0, 'B-PER': 1, 'I-PER': 2, 'B-ORG': 3, 'I-ORG': 4, 'B-LOC': 5, 'I-LOC': 6, 'B-MISC': 7, 'I-MISC': 8, '<PAD>': 9}\n",
      "Index to tag: {0: 'O', 1: 'B-PER', 2: 'I-PER', 3: 'B-ORG', 4: 'I-ORG', 5: 'B-LOC', 6: 'I-LOC', 7: 'B-MISC', 8: 'I-MISC', 9: '<PAD>'}\n"
     ]
    }
   ],
   "source": [
    "print('NER tags:', ner_tags)\n",
    "print('Tag to index:', tag2idx)\n",
    "print('Index to tag:', idx2tag)"
   ]
  },
  {
   "cell_type": "code",
   "execution_count": 409,
   "metadata": {
    "execution": {
     "iopub.execute_input": "2025-02-07T02:23:04.342842Z",
     "iopub.status.busy": "2025-02-07T02:23:04.342642Z",
     "iopub.status.idle": "2025-02-07T02:23:04.558352Z",
     "shell.execute_reply": "2025-02-07T02:23:04.557370Z",
     "shell.execute_reply.started": "2025-02-07T02:23:04.342824Z"
    },
    "trusted": true
   },
   "outputs": [
    {
     "name": "stdout",
     "output_type": "stream",
     "text": [
      "Suggested max_len based on 99.9 percentile: 55\n"
     ]
    }
   ],
   "source": [
    "# Calculate the length of each sentence\n",
    "sentence_lengths = [len(tokens) for tokens in dataset['train']['tokens']]\n",
    "\n",
    "# Calculate the maximum length on 99.9%\n",
    "MAX_LEN = int(np.percentile(sentence_lengths, 99.9))\n",
    "\n",
    "print(f\"Suggested max_len based on 99.9 percentile: {MAX_LEN}\")"
   ]
  },
  {
   "cell_type": "markdown",
   "metadata": {},
   "source": [
    "# 3. Model Definition"
   ]
  },
  {
   "cell_type": "code",
   "execution_count": 410,
   "metadata": {
    "execution": {
     "iopub.execute_input": "2025-02-07T02:23:04.560662Z",
     "iopub.status.busy": "2025-02-07T02:23:04.560339Z",
     "iopub.status.idle": "2025-02-07T02:23:04.573152Z",
     "shell.execute_reply": "2025-02-07T02:23:04.572500Z",
     "shell.execute_reply.started": "2025-02-07T02:23:04.560625Z"
    },
    "trusted": true
   },
   "outputs": [],
   "source": [
    "# Define a custom Dataset class for NER\n",
    "class NERDataset(Dataset):\n",
    "    def __init__(self, tokens_list, tags_list, word2idx, tag2idx, max_len=128): \n",
    "        self.tokens_list = tokens_list\n",
    "        self.tags_list = tags_list\n",
    "        self.word2idx = word2idx\n",
    "        self.tag2idx = tag2idx\n",
    "        self.max_len = max_len\n",
    "\n",
    "    def __len__(self):\n",
    "        return len(self.tokens_list)\n",
    "\n",
    "    def __getitem__(self, idx):\n",
    "        tokens = self.tokens_list[idx]\n",
    "        tags = self.tags_list[idx]\n",
    "\n",
    "        # Convert tokens to indices\n",
    "        token_ids = [self.word2idx.get(token, self.word2idx['<UNK>']) for token in tokens]\n",
    "        # Convert tags to indices\n",
    "        tag_ids = [tag for tag in tags] \n",
    "\n",
    "        # Truncate if longer than max_len\n",
    "        if len(token_ids) > self.max_len:\n",
    "            token_ids = token_ids[:self.max_len]\n",
    "            tag_ids = tag_ids[:self.max_len]\n",
    "\n",
    "        # Record original length to use in evaluation **\n",
    "        length = len(token_ids)\n",
    "\n",
    "        # Padding\n",
    "        padding_length = self.max_len - length\n",
    "        token_ids += [self.word2idx['<PAD>']] * padding_length\n",
    "        tag_ids += [self.tag2idx['<PAD>']] * padding_length  # Pad tags with '<PAD>'\n",
    "\n",
    "\n",
    "        return {\n",
    "            'tokens': torch.tensor(token_ids, dtype=torch.long),\n",
    "            'tags': torch.tensor(tag_ids, dtype=torch.long),\n",
    "            'length': torch.tensor(length, dtype=torch.long)\n",
    "        }"
   ]
  },
  {
   "cell_type": "code",
   "execution_count": 411,
   "metadata": {
    "execution": {
     "iopub.execute_input": "2025-02-07T02:23:04.574361Z",
     "iopub.status.busy": "2025-02-07T02:23:04.574070Z",
     "iopub.status.idle": "2025-02-07T02:23:04.586237Z",
     "shell.execute_reply": "2025-02-07T02:23:04.585496Z",
     "shell.execute_reply.started": "2025-02-07T02:23:04.574327Z"
    },
    "trusted": true
   },
   "outputs": [],
   "source": [
    "# Define BiLSTM+CRF model\n",
    "class BiLSTM_CRF(nn.Module):\n",
    "    def __init__(self, vocab_size, embed_dim, hidden_dim, tagset_size, padding_idx=0, lstm_layers=1, dropout_rate=0.5):\n",
    "        super(BiLSTM_CRF, self).__init__()\n",
    "        self.embedding = nn.Embedding(vocab_size, embed_dim, padding_idx=padding_idx)\n",
    "        # LSTM hidden_dim is divided by 2 because of bidirectional (双向)\n",
    "        self.bilstm = nn.LSTM(embed_dim, hidden_dim // 2, num_layers=lstm_layers, bidirectional=True, batch_first=True)\n",
    "        self.fc = nn.Linear(hidden_dim, tagset_size)\n",
    "        self.dropout = nn.Dropout(dropout_rate)\n",
    "        self.crf = CRF(num_tags=tagset_size, batch_first=True)\n",
    "\n",
    "    def forward(self, x):\n",
    "        # Compute emission scores\n",
    "        embeds = self.embedding(x)\n",
    "        embeds = self.dropout(embeds)\n",
    "        lstm_out, _ = self.bilstm(embeds)\n",
    "        lstm_out = self.dropout(lstm_out)\n",
    "        emissions = self.fc(lstm_out)\n",
    "        return emissions\n",
    "\n",
    "    def loss(self, emissions, tags, mask):\n",
    "        # Compute negative log-likelihood loss from CRF\n",
    "        return -self.crf(emissions, tags, mask=mask, reduction='mean')\n",
    "\n",
    "    def predict(self, emissions, mask):\n",
    "        # Decode the best path (Viterbi algorithm)\n",
    "        return self.crf.decode(emissions, mask=mask)\n"
   ]
  },
  {
   "cell_type": "code",
   "execution_count": 412,
   "metadata": {
    "execution": {
     "iopub.execute_input": "2025-02-07T02:23:04.587353Z",
     "iopub.status.busy": "2025-02-07T02:23:04.587125Z",
     "iopub.status.idle": "2025-02-07T02:23:04.603450Z",
     "shell.execute_reply": "2025-02-07T02:23:04.602714Z",
     "shell.execute_reply.started": "2025-02-07T02:23:04.587334Z"
    },
    "trusted": true
   },
   "outputs": [],
   "source": [
    "class EarlyStopping:\n",
    "    def __init__(self, patience=5, min_delta=0):\n",
    "        \"\"\"Initialize early stopping parameters.\n",
    "        Args:\n",
    "            patience (int): Number of epochs with no improvement after which training will be stopped.\n",
    "            min_delta (float): Minimum change in validation loss to qualify as an improvement.\n",
    "        \"\"\"\n",
    "        self.patience = patience\n",
    "        self.min_delta = min_delta\n",
    "        self.best_loss = float('inf')\n",
    "        self.counter = 0\n",
    "\n",
    "    def step(self, val_loss):\n",
    "        \"\"\"Check if training should stop based on validation loss.\n",
    "        Args:\n",
    "            val_loss (float): Current validation loss.\n",
    "        Returns:\n",
    "            bool: True if training should stop, False otherwise.\n",
    "        \"\"\"\n",
    "        if val_loss < self.best_loss - self.min_delta:\n",
    "            self.best_loss = val_loss\n",
    "            self.counter = 0\n",
    "        else:\n",
    "            self.counter += 1\n",
    "        return self.counter >= self.patience"
   ]
  },
  {
   "cell_type": "markdown",
   "metadata": {},
   "source": [
    "# 4. Model Building"
   ]
  },
  {
   "cell_type": "markdown",
   "metadata": {},
   "source": [
    "## - Hyperparameter"
   ]
  },
  {
   "cell_type": "code",
   "execution_count": 413,
   "metadata": {
    "execution": {
     "iopub.execute_input": "2025-02-07T02:23:04.604653Z",
     "iopub.status.busy": "2025-02-07T02:23:04.604364Z",
     "iopub.status.idle": "2025-02-07T02:23:04.620174Z",
     "shell.execute_reply": "2025-02-07T02:23:04.619340Z",
     "shell.execute_reply.started": "2025-02-07T02:23:04.604625Z"
    },
    "trusted": true
   },
   "outputs": [],
   "source": [
    "# Hyperparameter to fine-tune\n",
    "\n",
    "\n",
    "\n",
    "# embed_dims = [100,200,300]\n",
    "# hidden_dims = [256,512]\n",
    "# lstm_layers = [1,2,3]\n",
    "# dropout_rates = [0.3, 0.5]\n",
    "\n",
    "BATCH_SIZE = 128\n",
    "# EMBED_DIM = 100\n",
    "# HIDDEN_DIM = 512  \n",
    "# LSTM_LAYERS = 2\n",
    "# DROPOUT_RATE = 0.3\n",
    "\n",
    "embed_dims = [200,300,400]\n",
    "hidden_dims = [256,512]\n",
    "lstm_layers = [3]\n",
    "dropout_rates = [0.5]"
   ]
  },
  {
   "cell_type": "code",
   "execution_count": 414,
   "metadata": {
    "execution": {
     "iopub.execute_input": "2025-02-07T02:23:04.621281Z",
     "iopub.status.busy": "2025-02-07T02:23:04.621025Z",
     "iopub.status.idle": "2025-02-07T02:23:04.633634Z",
     "shell.execute_reply": "2025-02-07T02:23:04.632967Z",
     "shell.execute_reply.started": "2025-02-07T02:23:04.621260Z"
    },
    "trusted": true
   },
   "outputs": [],
   "source": [
    "MAX_LEN = 55\n",
    "VOCAB_SIZE = len(word2idx)\n",
    "TAGSET_SIZE = len(tag2idx)"
   ]
  },
  {
   "cell_type": "code",
   "execution_count": 415,
   "metadata": {
    "execution": {
     "iopub.execute_input": "2025-02-07T02:23:04.634672Z",
     "iopub.status.busy": "2025-02-07T02:23:04.634437Z",
     "iopub.status.idle": "2025-02-07T02:23:05.101172Z",
     "shell.execute_reply": "2025-02-07T02:23:05.100484Z",
     "shell.execute_reply.started": "2025-02-07T02:23:04.634652Z"
    },
    "trusted": true
   },
   "outputs": [],
   "source": [
    "# Create Dataset instances\n",
    "\n",
    "train_dataset = NERDataset(\n",
    "    tokens_list=dataset['train']['tokens'],\n",
    "    tags_list=dataset['train']['ner_tags'],\n",
    "    word2idx=word2idx,\n",
    "    tag2idx=tag2idx,\n",
    "    max_len=MAX_LEN\n",
    ")\n",
    "\n",
    "valid_dataset = NERDataset(\n",
    "    tokens_list=dataset['validation']['tokens'],\n",
    "    tags_list=dataset['validation']['ner_tags'],\n",
    "    word2idx=word2idx,\n",
    "    tag2idx=tag2idx,\n",
    "    max_len=MAX_LEN\n",
    ")\n",
    "\n",
    "test_dataset = NERDataset(\n",
    "    tokens_list=dataset['test']['tokens'],\n",
    "    tags_list=dataset['test']['ner_tags'],\n",
    "    word2idx=word2idx,\n",
    "    tag2idx=tag2idx,\n",
    "    max_len=MAX_LEN\n",
    ")\n",
    "\n",
    "# Create DataLoaders\n",
    "train_loader = DataLoader(train_dataset, batch_size=BATCH_SIZE, shuffle=True)\n",
    "valid_loader = DataLoader(valid_dataset, batch_size=BATCH_SIZE, shuffle=False)\n",
    "test_loader = DataLoader(test_dataset, batch_size=BATCH_SIZE, shuffle=False)"
   ]
  },
  {
   "cell_type": "code",
   "execution_count": 416,
   "metadata": {
    "execution": {
     "iopub.execute_input": "2025-02-07T02:23:05.102147Z",
     "iopub.status.busy": "2025-02-07T02:23:05.101923Z",
     "iopub.status.idle": "2025-02-07T02:23:05.105546Z",
     "shell.execute_reply": "2025-02-07T02:23:05.104772Z",
     "shell.execute_reply.started": "2025-02-07T02:23:05.102127Z"
    },
    "trusted": true
   },
   "outputs": [],
   "source": [
    "# # Instantiate the model\n",
    "# model = BiLSTM_NER(\n",
    "#     vocab_size=VOCAB_SIZE,\n",
    "#     embed_dim=EMBED_DIM,\n",
    "#     hidden_dim=HIDDEN_DIM,\n",
    "#     tagset_size=TAGSET_SIZE,\n",
    "#     padding_idx=word2idx['<PAD>'],\n",
    "#     lstm_layers=LSTM_LAYERS,       \n",
    "#     dropout_rate=DROPOUT_RATE     \n",
    "# )\n"
   ]
  },
  {
   "cell_type": "code",
   "execution_count": 417,
   "metadata": {
    "execution": {
     "iopub.execute_input": "2025-02-07T02:23:05.106639Z",
     "iopub.status.busy": "2025-02-07T02:23:05.106350Z",
     "iopub.status.idle": "2025-02-07T02:23:05.120941Z",
     "shell.execute_reply": "2025-02-07T02:23:05.120328Z",
     "shell.execute_reply.started": "2025-02-07T02:23:05.106605Z"
    },
    "trusted": true
   },
   "outputs": [
    {
     "name": "stdout",
     "output_type": "stream",
     "text": [
      "Using device: cuda\n"
     ]
    }
   ],
   "source": [
    "# Move the model to GPU if available\n",
    "device = torch.device('cuda' if torch.cuda.is_available() else 'cpu')\n",
    "print(\"Using device:\", device)\n",
    "# model.to(device)"
   ]
  },
  {
   "cell_type": "markdown",
   "metadata": {},
   "source": [
    "# 5. Model Training"
   ]
  },
  {
   "cell_type": "code",
   "execution_count": 418,
   "metadata": {
    "execution": {
     "iopub.execute_input": "2025-02-07T02:23:05.121888Z",
     "iopub.status.busy": "2025-02-07T02:23:05.121675Z",
     "iopub.status.idle": "2025-02-07T02:23:05.132797Z",
     "shell.execute_reply": "2025-02-07T02:23:05.132092Z",
     "shell.execute_reply.started": "2025-02-07T02:23:05.121858Z"
    },
    "trusted": true
   },
   "outputs": [],
   "source": [
    "# # Define loss function and optimizer\n",
    "# criterion = nn.CrossEntropyLoss(ignore_index=tag2idx['<PAD>'])\n",
    "\n",
    "# optimizer = torch.optim.Adam(model.parameters(), lr=0.001)  \n",
    "# optimizer = torch.optim.AdamW(model.parameters(), lr=0.001, weight_decay=1e-5)  \n",
    "\n",
    "# #ReduceLROnPlateau\n",
    "# scheduler = torch.optim.lr_scheduler.ReduceLROnPlateau(optimizer, mode='min', factor=0.5, patience=2)"
   ]
  },
  {
   "cell_type": "code",
   "execution_count": 419,
   "metadata": {
    "execution": {
     "iopub.execute_input": "2025-02-07T02:23:05.133764Z",
     "iopub.status.busy": "2025-02-07T02:23:05.133511Z",
     "iopub.status.idle": "2025-02-07T02:23:05.150078Z",
     "shell.execute_reply": "2025-02-07T02:23:05.149172Z",
     "shell.execute_reply.started": "2025-02-07T02:23:05.133742Z"
    },
    "trusted": true
   },
   "outputs": [],
   "source": [
    "def train(model, dataloader, optimizer, device, pad_idx):\n",
    "    model.train()\n",
    "    epoch_loss = 0\n",
    "\n",
    "    for batch in dataloader:\n",
    "        tokens = batch['tokens'].to(device)\n",
    "        tags = batch['tags'].to(device)\n",
    "        mask = (tokens != pad_idx)  # Create mask for non-pad tokens\n",
    "\n",
    "        optimizer.zero_grad()\n",
    "        emissions = model(tokens)  # [batch_size, seq_len, tagset_size]\n",
    "        loss = model.loss(emissions, tags, mask)\n",
    "        loss.backward()\n",
    "        optimizer.step()\n",
    "\n",
    "        epoch_loss += loss.item()\n",
    "\n",
    "    return epoch_loss / len(dataloader)\n"
   ]
  },
  {
   "cell_type": "code",
   "execution_count": 420,
   "metadata": {
    "execution": {
     "iopub.execute_input": "2025-02-07T02:23:05.151262Z",
     "iopub.status.busy": "2025-02-07T02:23:05.151010Z",
     "iopub.status.idle": "2025-02-07T02:23:05.167838Z",
     "shell.execute_reply": "2025-02-07T02:23:05.167059Z",
     "shell.execute_reply.started": "2025-02-07T02:23:05.151240Z"
    },
    "trusted": true
   },
   "outputs": [],
   "source": [
    "def evaluate(model, dataloader, device, pad_idx):\n",
    "    \"\"\"\n",
    "    Evaluate the model and return loss, predictions and true labels.\n",
    "    \"\"\"\n",
    "    model.eval()\n",
    "    epoch_loss = 0\n",
    "    all_preds = []\n",
    "    all_tags = []\n",
    "\n",
    "    with torch.no_grad():\n",
    "        for batch in dataloader:\n",
    "            # Get batch data\n",
    "            tokens = batch['tokens'].to(device)\n",
    "            tags = batch['tags'].to(device)\n",
    "            mask = (tokens != pad_idx)  # Create mask for non-pad tokens\n",
    "\n",
    "            emissions = model(tokens)  # Compute emission scores\n",
    "            loss = model.loss(emissions, tags, mask)\n",
    "            epoch_loss += loss.item()\n",
    "\n",
    "            # Decode using CRF to get predicted sequences\n",
    "            batch_preds = model.predict(emissions, mask)\n",
    "            \n",
    "            # ---- Adjust the structure of batch_preds ----\n",
    "            # If batch_preds is not a list, convert it to list.\n",
    "            if not isinstance(batch_preds, list):\n",
    "                batch_preds = batch_preds.tolist()\n",
    "            # If the length of batch_preds is not equal to the batch size,\n",
    "            # then try to extract the inner list.\n",
    "            if len(batch_preds) != tokens.size(0):\n",
    "                # For example, if batch_preds is nested as [ [pred1, pred2, ...] ]\n",
    "                # then take the first element.\n",
    "                if len(batch_preds) == 1 and tokens.size(0) > 1:\n",
    "                    batch_preds = batch_preds[0]\n",
    "                else:\n",
    "                    batch_preds = list(batch_preds)\n",
    "            # ------------------------------------------------\n",
    "\n",
    "            # Process each sentence in the batch\n",
    "            for i in range(tokens.size(0)):\n",
    "                valid_length = batch['length'][i].item()\n",
    "                try:\n",
    "                    pred_seq = batch_preds[i]\n",
    "                except IndexError:\n",
    "                    # In case the structure is still unexpected, fallback: use the first element\n",
    "                    pred_seq = batch_preds[0]\n",
    "                # If pred_seq is a tensor, convert to list\n",
    "                if isinstance(pred_seq, torch.Tensor):\n",
    "                    pred_seq = pred_seq.tolist()\n",
    "                # If each element in pred_seq is a list (nested), take the first element\n",
    "                if len(pred_seq) > 0 and isinstance(pred_seq[0], list):\n",
    "                    pred_seq = [p[0] for p in pred_seq]\n",
    "                # Slice to valid length\n",
    "                pred_seq = pred_seq[:valid_length]\n",
    "                # Convert indices to tag names\n",
    "                pred_seq = [idx2tag[p] for p in pred_seq]\n",
    "\n",
    "                true_seq = tags[i][:valid_length].tolist()\n",
    "                true_seq = [idx2tag[t] for t in true_seq]\n",
    "\n",
    "                all_preds.append(pred_seq)\n",
    "                all_tags.append(true_seq)\n",
    "\n",
    "    return epoch_loss / len(dataloader), all_preds, all_tags\n"
   ]
  },
  {
   "cell_type": "code",
   "execution_count": 421,
   "metadata": {
    "execution": {
     "iopub.execute_input": "2025-02-07T02:23:05.168936Z",
     "iopub.status.busy": "2025-02-07T02:23:05.168678Z",
     "iopub.status.idle": "2025-02-07T02:37:49.489932Z",
     "shell.execute_reply": "2025-02-07T02:37:49.488962Z",
     "shell.execute_reply.started": "2025-02-07T02:23:05.168904Z"
    },
    "trusted": true
   },
   "outputs": [
    {
     "name": "stdout",
     "output_type": "stream",
     "text": [
      "Training with BATCH_SIZE=128, EMBED_DIM=200, HIDDEN_DIM=256, LSTM_LAYERS=3, DROPOUT_RATE=0.5, NUM_EPOCHS=50\n",
      "Epoch 1/50\n",
      "Train Loss: 11.8779 | Valid Loss: 9.8270 | Valid F1 Score: 0.0000\n",
      "Saved Best Model: best_model_E1_BS128_ED200_HD256_LL3_DO0.5.pt\n",
      "Epoch 2/50\n",
      "Train Loss: 7.7354 | Valid Loss: 5.8052 | Valid F1 Score: 0.4018\n",
      "Saved Best Model: best_model_E2_BS128_ED200_HD256_LL3_DO0.5.pt\n",
      "Epoch 3/50\n",
      "Train Loss: 5.1875 | Valid Loss: 4.1796 | Valid F1 Score: 0.5945\n",
      "Saved Best Model: best_model_E3_BS128_ED200_HD256_LL3_DO0.5.pt\n",
      "Epoch 4/50\n",
      "Train Loss: 4.1151 | Valid Loss: 3.6431 | Valid F1 Score: 0.6447\n",
      "Saved Best Model: best_model_E4_BS128_ED200_HD256_LL3_DO0.5.pt\n",
      "Epoch 5/50\n",
      "Train Loss: 3.4730 | Valid Loss: 3.1389 | Valid F1 Score: 0.7116\n",
      "Saved Best Model: best_model_E5_BS128_ED200_HD256_LL3_DO0.5.pt\n",
      "Epoch 6/50\n",
      "Train Loss: 3.0133 | Valid Loss: 2.7944 | Valid F1 Score: 0.7312\n",
      "Saved Best Model: best_model_E6_BS128_ED200_HD256_LL3_DO0.5.pt\n",
      "Epoch 7/50\n",
      "Train Loss: 2.6324 | Valid Loss: 2.6153 | Valid F1 Score: 0.7607\n",
      "Saved Best Model: best_model_E7_BS128_ED200_HD256_LL3_DO0.5.pt\n",
      "Epoch 8/50\n",
      "Train Loss: 2.3850 | Valid Loss: 2.4206 | Valid F1 Score: 0.7831\n",
      "Saved Best Model: best_model_E8_BS128_ED200_HD256_LL3_DO0.5.pt\n",
      "Epoch 9/50\n",
      "Train Loss: 2.1481 | Valid Loss: 2.3673 | Valid F1 Score: 0.7742\n",
      "Saved Best Model: best_model_E9_BS128_ED200_HD256_LL3_DO0.5.pt\n",
      "Epoch 10/50\n",
      "Train Loss: 1.9400 | Valid Loss: 2.3056 | Valid F1 Score: 0.7824\n",
      "Saved Best Model: best_model_E10_BS128_ED200_HD256_LL3_DO0.5.pt\n",
      "Epoch 11/50\n",
      "Train Loss: 1.7770 | Valid Loss: 2.2336 | Valid F1 Score: 0.7899\n",
      "Saved Best Model: best_model_E11_BS128_ED200_HD256_LL3_DO0.5.pt\n",
      "Epoch 12/50\n",
      "Train Loss: 1.6452 | Valid Loss: 2.3333 | Valid F1 Score: 0.7768\n",
      "Epoch 13/50\n",
      "Train Loss: 1.5107 | Valid Loss: 2.1169 | Valid F1 Score: 0.7985\n",
      "Saved Best Model: best_model_E13_BS128_ED200_HD256_LL3_DO0.5.pt\n",
      "Epoch 14/50\n",
      "Train Loss: 1.4198 | Valid Loss: 2.0407 | Valid F1 Score: 0.8066\n",
      "Saved Best Model: best_model_E14_BS128_ED200_HD256_LL3_DO0.5.pt\n",
      "Epoch 15/50\n",
      "Train Loss: 1.3278 | Valid Loss: 2.1808 | Valid F1 Score: 0.7970\n",
      "Epoch 16/50\n",
      "Train Loss: 1.2158 | Valid Loss: 2.3404 | Valid F1 Score: 0.7831\n",
      "Epoch 17/50\n",
      "Train Loss: 1.1416 | Valid Loss: 2.2269 | Valid F1 Score: 0.7953\n",
      "Early stopping triggered.\n",
      "Training with BATCH_SIZE=128, EMBED_DIM=200, HIDDEN_DIM=512, LSTM_LAYERS=3, DROPOUT_RATE=0.5, NUM_EPOCHS=50\n",
      "Epoch 1/50\n",
      "Train Loss: 10.8154 | Valid Loss: 8.7775 | Valid F1 Score: 0.2099\n",
      "Saved Best Model: best_model_E1_BS128_ED200_HD512_LL3_DO0.5.pt\n",
      "Epoch 2/50\n",
      "Train Loss: 6.1250 | Valid Loss: 5.7319 | Valid F1 Score: 0.4995\n",
      "Saved Best Model: best_model_E2_BS128_ED200_HD512_LL3_DO0.5.pt\n",
      "Epoch 3/50\n",
      "Train Loss: 4.1628 | Valid Loss: 4.0479 | Valid F1 Score: 0.6664\n",
      "Saved Best Model: best_model_E3_BS128_ED200_HD512_LL3_DO0.5.pt\n",
      "Epoch 4/50\n",
      "Train Loss: 3.2282 | Valid Loss: 3.4934 | Valid F1 Score: 0.7250\n",
      "Saved Best Model: best_model_E4_BS128_ED200_HD512_LL3_DO0.5.pt\n",
      "Epoch 5/50\n",
      "Train Loss: 2.6670 | Valid Loss: 3.2373 | Valid F1 Score: 0.7434\n",
      "Saved Best Model: best_model_E5_BS128_ED200_HD512_LL3_DO0.5.pt\n",
      "Epoch 6/50\n",
      "Train Loss: 2.2638 | Valid Loss: 3.0541 | Valid F1 Score: 0.7693\n",
      "Saved Best Model: best_model_E6_BS128_ED200_HD512_LL3_DO0.5.pt\n",
      "Epoch 7/50\n",
      "Train Loss: 1.9525 | Valid Loss: 3.0927 | Valid F1 Score: 0.7809\n",
      "Epoch 8/50\n",
      "Train Loss: 1.6888 | Valid Loss: 2.9777 | Valid F1 Score: 0.7895\n",
      "Saved Best Model: best_model_E8_BS128_ED200_HD512_LL3_DO0.5.pt\n",
      "Epoch 9/50\n",
      "Train Loss: 1.5058 | Valid Loss: 2.8605 | Valid F1 Score: 0.8028\n",
      "Saved Best Model: best_model_E9_BS128_ED200_HD512_LL3_DO0.5.pt\n",
      "Epoch 10/50\n",
      "Train Loss: 1.3444 | Valid Loss: 3.1220 | Valid F1 Score: 0.8073\n",
      "Epoch 11/50\n",
      "Train Loss: 1.2113 | Valid Loss: 2.6684 | Valid F1 Score: 0.8133\n",
      "Saved Best Model: best_model_E11_BS128_ED200_HD512_LL3_DO0.5.pt\n",
      "Epoch 12/50\n",
      "Train Loss: 1.0771 | Valid Loss: 2.9844 | Valid F1 Score: 0.8113\n",
      "Epoch 13/50\n",
      "Train Loss: 0.9803 | Valid Loss: 2.8071 | Valid F1 Score: 0.8254\n",
      "Epoch 14/50\n",
      "Train Loss: 0.9129 | Valid Loss: 2.8449 | Valid F1 Score: 0.8219\n",
      "Early stopping triggered.\n",
      "Training with BATCH_SIZE=128, EMBED_DIM=300, HIDDEN_DIM=256, LSTM_LAYERS=3, DROPOUT_RATE=0.5, NUM_EPOCHS=50\n",
      "Epoch 1/50\n",
      "Train Loss: 11.6944 | Valid Loss: 9.6852 | Valid F1 Score: 0.0037\n",
      "Saved Best Model: best_model_E1_BS128_ED300_HD256_LL3_DO0.5.pt\n",
      "Epoch 2/50\n",
      "Train Loss: 6.9888 | Valid Loss: 5.6370 | Valid F1 Score: 0.4629\n",
      "Saved Best Model: best_model_E2_BS128_ED300_HD256_LL3_DO0.5.pt\n",
      "Epoch 3/50\n",
      "Train Loss: 4.5989 | Valid Loss: 4.2542 | Valid F1 Score: 0.6203\n",
      "Saved Best Model: best_model_E3_BS128_ED300_HD256_LL3_DO0.5.pt\n",
      "Epoch 4/50\n",
      "Train Loss: 3.5314 | Valid Loss: 3.8663 | Valid F1 Score: 0.6984\n",
      "Saved Best Model: best_model_E4_BS128_ED300_HD256_LL3_DO0.5.pt\n",
      "Epoch 5/50\n",
      "Train Loss: 2.9645 | Valid Loss: 4.2111 | Valid F1 Score: 0.7146\n",
      "Epoch 6/50\n",
      "Train Loss: 2.5117 | Valid Loss: 3.5260 | Valid F1 Score: 0.7448\n",
      "Saved Best Model: best_model_E6_BS128_ED300_HD256_LL3_DO0.5.pt\n",
      "Epoch 7/50\n",
      "Train Loss: 2.2094 | Valid Loss: 3.3197 | Valid F1 Score: 0.7616\n",
      "Saved Best Model: best_model_E7_BS128_ED300_HD256_LL3_DO0.5.pt\n",
      "Epoch 8/50\n",
      "Train Loss: 1.9367 | Valid Loss: 3.3573 | Valid F1 Score: 0.7723\n",
      "Epoch 9/50\n",
      "Train Loss: 1.7213 | Valid Loss: 2.9471 | Valid F1 Score: 0.7914\n",
      "Saved Best Model: best_model_E9_BS128_ED300_HD256_LL3_DO0.5.pt\n",
      "Epoch 10/50\n",
      "Train Loss: 1.5733 | Valid Loss: 2.9181 | Valid F1 Score: 0.7968\n",
      "Saved Best Model: best_model_E10_BS128_ED300_HD256_LL3_DO0.5.pt\n",
      "Epoch 11/50\n",
      "Train Loss: 1.4407 | Valid Loss: 2.8992 | Valid F1 Score: 0.8052\n",
      "Saved Best Model: best_model_E11_BS128_ED300_HD256_LL3_DO0.5.pt\n",
      "Epoch 12/50\n",
      "Train Loss: 1.2955 | Valid Loss: 2.6350 | Valid F1 Score: 0.8114\n",
      "Saved Best Model: best_model_E12_BS128_ED300_HD256_LL3_DO0.5.pt\n",
      "Epoch 13/50\n",
      "Train Loss: 1.2209 | Valid Loss: 2.8323 | Valid F1 Score: 0.8126\n",
      "Epoch 14/50\n",
      "Train Loss: 1.1063 | Valid Loss: 2.9705 | Valid F1 Score: 0.8112\n",
      "Epoch 15/50\n",
      "Train Loss: 1.0513 | Valid Loss: 3.0131 | Valid F1 Score: 0.8078\n",
      "Early stopping triggered.\n",
      "Training with BATCH_SIZE=128, EMBED_DIM=300, HIDDEN_DIM=512, LSTM_LAYERS=3, DROPOUT_RATE=0.5, NUM_EPOCHS=50\n",
      "Epoch 1/50\n",
      "Train Loss: 10.8179 | Valid Loss: 7.7694 | Valid F1 Score: 0.2512\n",
      "Saved Best Model: best_model_E1_BS128_ED300_HD512_LL3_DO0.5.pt\n",
      "Epoch 2/50\n",
      "Train Loss: 5.5360 | Valid Loss: 4.3095 | Valid F1 Score: 0.5904\n",
      "Saved Best Model: best_model_E2_BS128_ED300_HD512_LL3_DO0.5.pt\n",
      "Epoch 3/50\n",
      "Train Loss: 3.5804 | Valid Loss: 3.2887 | Valid F1 Score: 0.7007\n",
      "Saved Best Model: best_model_E3_BS128_ED300_HD512_LL3_DO0.5.pt\n",
      "Epoch 4/50\n",
      "Train Loss: 2.6585 | Valid Loss: 3.5374 | Valid F1 Score: 0.7376\n",
      "Epoch 5/50\n",
      "Train Loss: 2.1317 | Valid Loss: 2.5459 | Valid F1 Score: 0.7795\n",
      "Saved Best Model: best_model_E5_BS128_ED300_HD512_LL3_DO0.5.pt\n",
      "Epoch 6/50\n",
      "Train Loss: 1.7633 | Valid Loss: 2.6527 | Valid F1 Score: 0.8064\n",
      "Epoch 7/50\n",
      "Train Loss: 1.4685 | Valid Loss: 2.6335 | Valid F1 Score: 0.8108\n",
      "Epoch 8/50\n",
      "Train Loss: 1.2722 | Valid Loss: 2.5851 | Valid F1 Score: 0.8155\n",
      "Early stopping triggered.\n",
      "Training with BATCH_SIZE=128, EMBED_DIM=400, HIDDEN_DIM=256, LSTM_LAYERS=3, DROPOUT_RATE=0.5, NUM_EPOCHS=50\n",
      "Epoch 1/50\n",
      "Train Loss: 11.5396 | Valid Loss: 8.8562 | Valid F1 Score: 0.0535\n",
      "Saved Best Model: best_model_E1_BS128_ED400_HD256_LL3_DO0.5.pt\n",
      "Epoch 2/50\n",
      "Train Loss: 6.5932 | Valid Loss: 4.9423 | Valid F1 Score: 0.5013\n",
      "Saved Best Model: best_model_E2_BS128_ED400_HD256_LL3_DO0.5.pt\n",
      "Epoch 3/50\n",
      "Train Loss: 4.2396 | Valid Loss: 3.5034 | Valid F1 Score: 0.6617\n",
      "Saved Best Model: best_model_E3_BS128_ED400_HD256_LL3_DO0.5.pt\n",
      "Epoch 4/50\n",
      "Train Loss: 3.2652 | Valid Loss: 3.0155 | Valid F1 Score: 0.7191\n",
      "Saved Best Model: best_model_E4_BS128_ED400_HD256_LL3_DO0.5.pt\n",
      "Epoch 5/50\n",
      "Train Loss: 2.6212 | Valid Loss: 2.6086 | Valid F1 Score: 0.7673\n",
      "Saved Best Model: best_model_E5_BS128_ED400_HD256_LL3_DO0.5.pt\n",
      "Epoch 6/50\n",
      "Train Loss: 2.2434 | Valid Loss: 2.6515 | Valid F1 Score: 0.7575\n",
      "Epoch 7/50\n",
      "Train Loss: 1.9367 | Valid Loss: 2.3705 | Valid F1 Score: 0.7959\n",
      "Saved Best Model: best_model_E7_BS128_ED400_HD256_LL3_DO0.5.pt\n",
      "Epoch 8/50\n",
      "Train Loss: 1.6879 | Valid Loss: 2.2833 | Valid F1 Score: 0.8033\n",
      "Saved Best Model: best_model_E8_BS128_ED400_HD256_LL3_DO0.5.pt\n",
      "Epoch 9/50\n",
      "Train Loss: 1.5190 | Valid Loss: 2.1729 | Valid F1 Score: 0.8082\n",
      "Saved Best Model: best_model_E9_BS128_ED400_HD256_LL3_DO0.5.pt\n",
      "Epoch 10/50\n",
      "Train Loss: 1.3613 | Valid Loss: 2.1643 | Valid F1 Score: 0.8016\n",
      "Saved Best Model: best_model_E10_BS128_ED400_HD256_LL3_DO0.5.pt\n",
      "Epoch 11/50\n",
      "Train Loss: 1.2270 | Valid Loss: 2.0866 | Valid F1 Score: 0.8157\n",
      "Saved Best Model: best_model_E11_BS128_ED400_HD256_LL3_DO0.5.pt\n",
      "Epoch 12/50\n",
      "Train Loss: 1.1264 | Valid Loss: 1.9485 | Valid F1 Score: 0.8255\n",
      "Saved Best Model: best_model_E12_BS128_ED400_HD256_LL3_DO0.5.pt\n",
      "Epoch 13/50\n",
      "Train Loss: 1.0161 | Valid Loss: 2.0202 | Valid F1 Score: 0.8347\n",
      "Epoch 14/50\n",
      "Train Loss: 0.9509 | Valid Loss: 1.8959 | Valid F1 Score: 0.8381\n",
      "Saved Best Model: best_model_E14_BS128_ED400_HD256_LL3_DO0.5.pt\n",
      "Epoch 15/50\n",
      "Train Loss: 0.8829 | Valid Loss: 1.9650 | Valid F1 Score: 0.8386\n",
      "Epoch 16/50\n",
      "Train Loss: 0.7981 | Valid Loss: 1.9233 | Valid F1 Score: 0.8424\n",
      "Epoch 17/50\n",
      "Train Loss: 0.7563 | Valid Loss: 1.8096 | Valid F1 Score: 0.8443\n",
      "Saved Best Model: best_model_E17_BS128_ED400_HD256_LL3_DO0.5.pt\n",
      "Epoch 18/50\n",
      "Train Loss: 0.7074 | Valid Loss: 1.8418 | Valid F1 Score: 0.8450\n",
      "Epoch 19/50\n",
      "Train Loss: 0.6532 | Valid Loss: 1.9094 | Valid F1 Score: 0.8515\n",
      "Epoch 20/50\n",
      "Train Loss: 0.6197 | Valid Loss: 1.8555 | Valid F1 Score: 0.8517\n",
      "Early stopping triggered.\n",
      "Training with BATCH_SIZE=128, EMBED_DIM=400, HIDDEN_DIM=512, LSTM_LAYERS=3, DROPOUT_RATE=0.5, NUM_EPOCHS=50\n",
      "Epoch 1/50\n",
      "Train Loss: 10.5482 | Valid Loss: 7.2204 | Valid F1 Score: 0.3018\n",
      "Saved Best Model: best_model_E1_BS128_ED400_HD512_LL3_DO0.5.pt\n",
      "Epoch 2/50\n",
      "Train Loss: 5.1031 | Valid Loss: 3.8940 | Valid F1 Score: 0.6502\n",
      "Saved Best Model: best_model_E2_BS128_ED400_HD512_LL3_DO0.5.pt\n",
      "Epoch 3/50\n",
      "Train Loss: 3.1393 | Valid Loss: 3.0412 | Valid F1 Score: 0.7291\n",
      "Saved Best Model: best_model_E3_BS128_ED400_HD512_LL3_DO0.5.pt\n",
      "Epoch 4/50\n",
      "Train Loss: 2.3248 | Valid Loss: 2.8355 | Valid F1 Score: 0.7612\n",
      "Saved Best Model: best_model_E4_BS128_ED400_HD512_LL3_DO0.5.pt\n",
      "Epoch 5/50\n",
      "Train Loss: 1.8168 | Valid Loss: 2.4960 | Valid F1 Score: 0.7782\n",
      "Saved Best Model: best_model_E5_BS128_ED400_HD512_LL3_DO0.5.pt\n",
      "Epoch 6/50\n",
      "Train Loss: 1.4623 | Valid Loss: 2.5668 | Valid F1 Score: 0.7812\n",
      "Epoch 7/50\n",
      "Train Loss: 1.2518 | Valid Loss: 2.4970 | Valid F1 Score: 0.7898\n",
      "Epoch 8/50\n",
      "Train Loss: 1.0395 | Valid Loss: 2.7308 | Valid F1 Score: 0.8050\n",
      "Early stopping triggered.\n",
      "Best overall model saved as: best_model_E17_BS128_ED400_HD256_LL3_DO0.5.pt with validation loss: 1.8096\n"
     ]
    }
   ],
   "source": [
    "# Training loop\n",
    "NUM_EPOCHS = 50\n",
    "\n",
    "\n",
    "global_best_valid_loss = float('inf')  # Store the best validation loss across all hyperparameter sets\n",
    "best_model_filename = \"\"  # Store the filename of the best global model\n",
    "\n",
    "# Iterate through all hyperparameter combinations\n",
    "for EMBED_DIM, HIDDEN_DIM, LSTM_LAYERS, DROPOUT_RATE in product(embed_dims, hidden_dims, lstm_layers, dropout_rates):\n",
    "    early_stopping = EarlyStopping(patience=3, min_delta=0.001)\n",
    "    best_valid_loss = float('inf')\n",
    "    best_model_for_params = \"\"  # Track the best model filename for the current hyperparameter combination\n",
    "    \n",
    "    # Reinitialize model and optimizer for each hyperparameter combination\n",
    "    model = BiLSTM_CRF(\n",
    "    vocab_size=VOCAB_SIZE,\n",
    "    embed_dim=EMBED_DIM,\n",
    "    hidden_dim=HIDDEN_DIM,\n",
    "    tagset_size=TAGSET_SIZE,\n",
    "    padding_idx=word2idx['<PAD>'],\n",
    "    lstm_layers=LSTM_LAYERS,\n",
    "    dropout_rate=DROPOUT_RATE\n",
    ")\n",
    "\n",
    "\n",
    "    model.to(device)\n",
    "    \n",
    "    optimizer = torch.optim.AdamW(model.parameters(), lr=0.001, weight_decay=1e-5)\n",
    "    scheduler = torch.optim.lr_scheduler.ReduceLROnPlateau(optimizer, mode='min', factor=0.5, patience=2)\n",
    "\n",
    "    print(f\"Training with BATCH_SIZE={BATCH_SIZE}, EMBED_DIM={EMBED_DIM}, HIDDEN_DIM={HIDDEN_DIM}, LSTM_LAYERS={LSTM_LAYERS}, DROPOUT_RATE={DROPOUT_RATE}, NUM_EPOCHS={NUM_EPOCHS}\")\n",
    "    \n",
    "    for epoch in range(NUM_EPOCHS):\n",
    "        train_loss = train(model, train_loader, optimizer, device, word2idx['<PAD>'])\n",
    "        valid_loss, valid_preds, valid_tags = evaluate(model, valid_loader, device, word2idx['<PAD>'])\n",
    "\n",
    "\n",
    "        # Calculate F1 score\n",
    "        f1 = f1_score(valid_tags, valid_preds)\n",
    "\n",
    "        # Reduce learning rate if validation loss plateaus\n",
    "        scheduler.step(valid_loss)\n",
    "\n",
    "        print(f\"Epoch {epoch+1}/{NUM_EPOCHS}\")\n",
    "        print(f\"Train Loss: {train_loss:.4f} | Valid Loss: {valid_loss:.4f} | Valid F1 Score: {f1:.4f}\")\n",
    "\n",
    "        # Check for early stopping\n",
    "        if early_stopping.step(valid_loss):\n",
    "            print(\"Early stopping triggered.\")\n",
    "            break\n",
    "\n",
    "        # Save best model with parameter values in filename\n",
    "        if valid_loss < best_valid_loss:\n",
    "            best_valid_loss = valid_loss\n",
    "            model_filename = f\"best_model_E{epoch+1}_BS{BATCH_SIZE}_ED{EMBED_DIM}_HD{HIDDEN_DIM}_LL{LSTM_LAYERS}_DO{DROPOUT_RATE}.pt\"\n",
    "            \n",
    "            # Remove previous best model for this parameter set if exists\n",
    "            if best_model_for_params:\n",
    "                os.remove(best_model_for_params)\n",
    "            \n",
    "            torch.save({\n",
    "                'epoch': epoch+1,\n",
    "                'model_state_dict': model.state_dict(),\n",
    "                'optimizer_state_dict': optimizer.state_dict(),\n",
    "                'valid_loss': valid_loss,\n",
    "                'hyperparameters': {\n",
    "                    'embed_dim': EMBED_DIM,\n",
    "                    'hidden_dim': HIDDEN_DIM,\n",
    "                    'lstm_layers': LSTM_LAYERS,\n",
    "                    'dropout_rate': DROPOUT_RATE\n",
    "                }                \n",
    "            }, model_filename)\n",
    "\n",
    "\n",
    "            best_model_for_params = model_filename\n",
    "            print(f\"Saved Best Model: {model_filename}\")\n",
    "\n",
    "            # Update global best model\n",
    "            if valid_loss < global_best_valid_loss:\n",
    "                global_best_valid_loss = valid_loss\n",
    "                best_model_filename = model_filename\n",
    "\n",
    "print(f\"Best overall model saved as: {best_model_filename} with validation loss: {global_best_valid_loss:.4f}\")"
   ]
  },
  {
   "cell_type": "code",
   "execution_count": 422,
   "metadata": {
    "execution": {
     "iopub.execute_input": "2025-02-07T02:37:49.491283Z",
     "iopub.status.busy": "2025-02-07T02:37:49.490982Z",
     "iopub.status.idle": "2025-02-07T02:37:49.756185Z",
     "shell.execute_reply": "2025-02-07T02:37:49.754718Z",
     "shell.execute_reply.started": "2025-02-07T02:37:49.491252Z"
    },
    "trusted": true
   },
   "outputs": [
    {
     "name": "stdout",
     "output_type": "stream",
     "text": [
      "A copy of the best model has been saved as best_model.pt\n"
     ]
    }
   ],
   "source": [
    "import shutil\n",
    "\n",
    "# Copy the best model file to a simpler filename for later use\n",
    "shutil.copy(best_model_filename, 'best_model.pt')\n",
    "print(\"A copy of the best model has been saved as best_model.pt\")\n"
   ]
  },
  {
   "cell_type": "markdown",
   "metadata": {},
   "source": [
    "# 6. Model Evaluation"
   ]
  },
  {
   "cell_type": "code",
   "execution_count": 423,
   "metadata": {
    "execution": {
     "iopub.execute_input": "2025-02-07T02:37:49.758155Z",
     "iopub.status.busy": "2025-02-07T02:37:49.757860Z",
     "iopub.status.idle": "2025-02-07T02:37:49.968304Z",
     "shell.execute_reply": "2025-02-07T02:37:49.967269Z",
     "shell.execute_reply.started": "2025-02-07T02:37:49.758131Z"
    },
    "trusted": true
   },
   "outputs": [
    {
     "name": "stderr",
     "output_type": "stream",
     "text": [
      "<ipython-input-423-5ab20e6d483d>:2: FutureWarning: You are using `torch.load` with `weights_only=False` (the current default value), which uses the default pickle module implicitly. It is possible to construct malicious pickle data which will execute arbitrary code during unpickling (See https://github.com/pytorch/pytorch/blob/main/SECURITY.md#untrusted-models for more details). In a future release, the default value for `weights_only` will be flipped to `True`. This limits the functions that could be executed during unpickling. Arbitrary objects will no longer be allowed to be loaded via this mode unless they are explicitly allowlisted by the user via `torch.serialization.add_safe_globals`. We recommend you start setting `weights_only=True` for any use case where you don't have full control of the loaded file. Please open an issue on GitHub for any issues related to this experimental feature.\n",
      "  checkpoint = torch.load(\"best_model.pt\")\n"
     ]
    }
   ],
   "source": [
    "# Load the best model\n",
    "checkpoint = torch.load(\"best_model.pt\")\n",
    "hparams = checkpoint['hyperparameters']\n",
    "model = BiLSTM_CRF(\n",
    "    vocab_size=VOCAB_SIZE,\n",
    "    embed_dim=hparams['embed_dim'],\n",
    "    hidden_dim=hparams['hidden_dim'],\n",
    "    tagset_size=TAGSET_SIZE,\n",
    "    padding_idx=word2idx['<PAD>'],\n",
    "    lstm_layers=hparams['lstm_layers'],\n",
    "    dropout_rate=hparams['dropout_rate']\n",
    ")\n",
    "model.to(device)\n",
    "model.load_state_dict(checkpoint['model_state_dict'])\n",
    "\n",
    "\n",
    "# Define prediction function\n",
    "def predict(model, dataloader, device, pad_idx):\n",
    "    \"\"\"\n",
    "    Generate predictions and return predicted and true sequences.\n",
    "    \"\"\"\n",
    "    model.eval()\n",
    "    all_preds = []\n",
    "    all_tags = []\n",
    "\n",
    "    with torch.no_grad():\n",
    "        for batch in dataloader:\n",
    "            tokens = batch['tokens'].to(device)\n",
    "            tags = batch['tags'].to(device)\n",
    "            mask = (tokens != pad_idx)  # Create mask\n",
    "\n",
    "            emissions = model(tokens)\n",
    "            batch_preds = model.predict(emissions, mask)\n",
    "            \n",
    "            # ---- Adjust the structure of batch_preds ----\n",
    "            if not isinstance(batch_preds, list):\n",
    "                batch_preds = batch_preds.tolist()\n",
    "            if len(batch_preds) != tokens.size(0):\n",
    "                if len(batch_preds) == 1 and tokens.size(0) > 1:\n",
    "                    batch_preds = batch_preds[0]\n",
    "                else:\n",
    "                    batch_preds = list(batch_preds)\n",
    "            # ------------------------------------------------\n",
    "\n",
    "            for i in range(tokens.size(0)):\n",
    "                valid_length = batch['length'][i].item()\n",
    "                try:\n",
    "                    pred_seq = batch_preds[i]\n",
    "                except IndexError:\n",
    "                    pred_seq = batch_preds[0]\n",
    "                if isinstance(pred_seq, torch.Tensor):\n",
    "                    pred_seq = pred_seq.tolist()\n",
    "                if len(pred_seq) > 0 and isinstance(pred_seq[0], list):\n",
    "                    pred_seq = [p[0] for p in pred_seq]\n",
    "                pred_seq = pred_seq[:valid_length]\n",
    "                pred_seq = [idx2tag[p] for p in pred_seq]\n",
    "\n",
    "                true_seq = tags[i][:valid_length].tolist()\n",
    "                true_seq = [idx2tag[t] for t in true_seq]\n",
    "\n",
    "                all_preds.append(pred_seq)\n",
    "                all_tags.append(true_seq)\n",
    "\n",
    "    return all_preds, all_tags\n"
   ]
  },
  {
   "cell_type": "code",
   "execution_count": 424,
   "metadata": {
    "execution": {
     "iopub.execute_input": "2025-02-07T02:37:49.971829Z",
     "iopub.status.busy": "2025-02-07T02:37:49.971582Z",
     "iopub.status.idle": "2025-02-07T02:37:51.491640Z",
     "shell.execute_reply": "2025-02-07T02:37:51.490863Z",
     "shell.execute_reply.started": "2025-02-07T02:37:49.971806Z"
    },
    "trusted": true
   },
   "outputs": [
    {
     "name": "stdout",
     "output_type": "stream",
     "text": [
      "              precision    recall  f1-score   support\n",
      "\n",
      "         LOC       0.89      0.89      0.89      1837\n",
      "        MISC       0.85      0.79      0.82       919\n",
      "         ORG       0.83      0.74      0.78      1341\n",
      "         PER       0.83      0.88      0.85      1802\n",
      "\n",
      "   micro avg       0.85      0.84      0.84      5899\n",
      "   macro avg       0.85      0.82      0.84      5899\n",
      "weighted avg       0.85      0.84      0.84      5899\n",
      "\n",
      "Validation F1 Score: 0.8443\n"
     ]
    }
   ],
   "source": [
    "# Get predictions on validation set\n",
    "valid_preds, valid_tags = predict(model, valid_loader, device, word2idx['<PAD>'])\n",
    "\n",
    "# Calculate F1 score\n",
    "valid_f1 = f1_score(valid_tags, valid_preds)\n",
    "\n",
    "# filtered_valid_pairs = [(y_pred, y_true) for pred, true in zip(valid_preds, valid_tags) for y_pred, y_true in zip(pred, true) if y_true != 'O']\n",
    "# valid_accuracy = np.mean([y_pred == y_true for y_pred, y_true in filtered_valid_pairs]) if filtered_valid_pairs else 0.0\n",
    "\n",
    "print(seq_classification_report(valid_tags, valid_preds))\n",
    "print(f\"Validation F1 Score: {valid_f1:.4f}\")"
   ]
  },
  {
   "cell_type": "code",
   "execution_count": 425,
   "metadata": {
    "execution": {
     "iopub.execute_input": "2025-02-07T02:37:51.492839Z",
     "iopub.status.busy": "2025-02-07T02:37:51.492594Z",
     "iopub.status.idle": "2025-02-07T02:37:52.966624Z",
     "shell.execute_reply": "2025-02-07T02:37:52.965683Z",
     "shell.execute_reply.started": "2025-02-07T02:37:51.492805Z"
    },
    "trusted": true
   },
   "outputs": [
    {
     "name": "stdout",
     "output_type": "stream",
     "text": [
      "              precision    recall  f1-score   support\n",
      "\n",
      "         LOC       0.83      0.82      0.82      1657\n",
      "        MISC       0.67      0.67      0.67       702\n",
      "         ORG       0.77      0.68      0.72      1660\n",
      "         PER       0.78      0.81      0.80      1590\n",
      "\n",
      "   micro avg       0.78      0.76      0.77      5609\n",
      "   macro avg       0.77      0.74      0.75      5609\n",
      "weighted avg       0.78      0.76      0.77      5609\n",
      "\n",
      "Test F1 Score: 0.7678\n"
     ]
    }
   ],
   "source": [
    "# Get predictions on the test set\n",
    "test_preds, test_tags = predict(model, test_loader, device, word2idx['<PAD>'])\n",
    "\n",
    "# Calculate F1 score\n",
    "test_f1 = f1_score(test_tags, test_preds)\n",
    "\n",
    "print(seq_classification_report(test_tags, test_preds))\n",
    "print(f\"Test F1 Score: {test_f1:.4f}\")"
   ]
  },
  {
   "cell_type": "markdown",
   "metadata": {},
   "source": [
    "# 7. Missclassified Sample Analysis"
   ]
  },
  {
   "cell_type": "code",
   "execution_count": 426,
   "metadata": {
    "execution": {
     "iopub.execute_input": "2025-02-07T02:37:52.967874Z",
     "iopub.status.busy": "2025-02-07T02:37:52.967594Z",
     "iopub.status.idle": "2025-02-07T02:37:53.029147Z",
     "shell.execute_reply": "2025-02-07T02:37:53.028341Z",
     "shell.execute_reply.started": "2025-02-07T02:37:52.967842Z"
    },
    "trusted": true
   },
   "outputs": [
    {
     "name": "stdout",
     "output_type": "stream",
     "text": [
      "Total Errors: 1669\n",
      "First 10 errors:\n",
      "[('JAPAN', 'B-LOC', 'B-PER'), ('CHINA', 'B-PER', 'O'), ('Nadim', 'B-PER', 'O'), ('Ladki', 'I-PER', 'O'), ('AL-AIN', 'B-LOC', 'B-ORG'), ('United', 'B-LOC', 'B-ORG'), ('Arab', 'I-LOC', 'I-ORG'), ('Emirates', 'I-LOC', 'I-ORG'), ('Uzbekistan', 'B-LOC', 'O'), ('Uzbek', 'B-MISC', 'B-ORG')]\n"
     ]
    }
   ],
   "source": [
    "# Extract misclassified entities\n",
    "errors = []\n",
    "for true_seq, pred_seq, tokens in zip(test_tags, test_preds, dataset['test']['tokens']):\n",
    "    for true_label, pred_label, token in zip(true_seq, pred_seq, tokens):\n",
    "        if true_label != pred_label and true_label != 'O':\n",
    "            errors.append((token, true_label, pred_label))\n",
    "\n",
    "print(f\"Total Errors: {len(errors)}\")\n",
    "print(\"First 10 errors:\")\n",
    "print(errors[:10])"
   ]
  },
  {
   "cell_type": "code",
   "execution_count": 427,
   "metadata": {
    "execution": {
     "iopub.execute_input": "2025-02-07T02:37:53.030251Z",
     "iopub.status.busy": "2025-02-07T02:37:53.029970Z",
     "iopub.status.idle": "2025-02-07T02:37:53.047530Z",
     "shell.execute_reply": "2025-02-07T02:37:53.046682Z",
     "shell.execute_reply.started": "2025-02-07T02:37:53.030220Z"
    },
    "trusted": true
   },
   "outputs": [
    {
     "data": {
      "text/html": [
       "<div>\n",
       "<style scoped>\n",
       "    .dataframe tbody tr th:only-of-type {\n",
       "        vertical-align: middle;\n",
       "    }\n",
       "\n",
       "    .dataframe tbody tr th {\n",
       "        vertical-align: top;\n",
       "    }\n",
       "\n",
       "    .dataframe thead th {\n",
       "        text-align: right;\n",
       "    }\n",
       "</style>\n",
       "<table border=\"1\" class=\"dataframe\">\n",
       "  <thead>\n",
       "    <tr style=\"text-align: right;\">\n",
       "      <th></th>\n",
       "      <th>Token</th>\n",
       "      <th>True Label</th>\n",
       "      <th>Predicted Label</th>\n",
       "    </tr>\n",
       "  </thead>\n",
       "  <tbody>\n",
       "    <tr>\n",
       "      <th>0</th>\n",
       "      <td>JAPAN</td>\n",
       "      <td>B-LOC</td>\n",
       "      <td>B-PER</td>\n",
       "    </tr>\n",
       "    <tr>\n",
       "      <th>1</th>\n",
       "      <td>CHINA</td>\n",
       "      <td>B-PER</td>\n",
       "      <td>O</td>\n",
       "    </tr>\n",
       "    <tr>\n",
       "      <th>2</th>\n",
       "      <td>Nadim</td>\n",
       "      <td>B-PER</td>\n",
       "      <td>O</td>\n",
       "    </tr>\n",
       "    <tr>\n",
       "      <th>3</th>\n",
       "      <td>Ladki</td>\n",
       "      <td>I-PER</td>\n",
       "      <td>O</td>\n",
       "    </tr>\n",
       "    <tr>\n",
       "      <th>4</th>\n",
       "      <td>AL-AIN</td>\n",
       "      <td>B-LOC</td>\n",
       "      <td>B-ORG</td>\n",
       "    </tr>\n",
       "  </tbody>\n",
       "</table>\n",
       "</div>"
      ],
      "text/plain": [
       "    Token True Label Predicted Label\n",
       "0   JAPAN      B-LOC           B-PER\n",
       "1   CHINA      B-PER               O\n",
       "2   Nadim      B-PER               O\n",
       "3   Ladki      I-PER               O\n",
       "4  AL-AIN      B-LOC           B-ORG"
      ]
     },
     "execution_count": 427,
     "metadata": {},
     "output_type": "execute_result"
    }
   ],
   "source": [
    "# Convert errors to DataFrame for analysis\n",
    "error_df = pd.DataFrame(errors, columns=['Token', 'True Label', 'Predicted Label'])\n",
    "error_df.head()"
   ]
  },
  {
   "cell_type": "code",
   "execution_count": 428,
   "metadata": {
    "execution": {
     "iopub.execute_input": "2025-02-07T02:37:53.048719Z",
     "iopub.status.busy": "2025-02-07T02:37:53.048376Z",
     "iopub.status.idle": "2025-02-07T02:37:53.068393Z",
     "shell.execute_reply": "2025-02-07T02:37:53.067646Z",
     "shell.execute_reply.started": "2025-02-07T02:37:53.048689Z"
    },
    "trusted": true
   },
   "outputs": [
    {
     "data": {
      "text/html": [
       "<div>\n",
       "<style scoped>\n",
       "    .dataframe tbody tr th:only-of-type {\n",
       "        vertical-align: middle;\n",
       "    }\n",
       "\n",
       "    .dataframe tbody tr th {\n",
       "        vertical-align: top;\n",
       "    }\n",
       "\n",
       "    .dataframe thead th {\n",
       "        text-align: right;\n",
       "    }\n",
       "</style>\n",
       "<table border=\"1\" class=\"dataframe\">\n",
       "  <thead>\n",
       "    <tr style=\"text-align: right;\">\n",
       "      <th></th>\n",
       "      <th>True Label</th>\n",
       "      <th>Predicted Label</th>\n",
       "      <th>Count</th>\n",
       "    </tr>\n",
       "  </thead>\n",
       "  <tbody>\n",
       "    <tr>\n",
       "      <th>21</th>\n",
       "      <td>B-ORG</td>\n",
       "      <td>O</td>\n",
       "      <td>235</td>\n",
       "    </tr>\n",
       "    <tr>\n",
       "      <th>27</th>\n",
       "      <td>B-PER</td>\n",
       "      <td>O</td>\n",
       "      <td>146</td>\n",
       "    </tr>\n",
       "    <tr>\n",
       "      <th>13</th>\n",
       "      <td>B-MISC</td>\n",
       "      <td>O</td>\n",
       "      <td>114</td>\n",
       "    </tr>\n",
       "    <tr>\n",
       "      <th>14</th>\n",
       "      <td>B-ORG</td>\n",
       "      <td>B-LOC</td>\n",
       "      <td>106</td>\n",
       "    </tr>\n",
       "    <tr>\n",
       "      <th>6</th>\n",
       "      <td>B-LOC</td>\n",
       "      <td>O</td>\n",
       "      <td>105</td>\n",
       "    </tr>\n",
       "    <tr>\n",
       "      <th>53</th>\n",
       "      <td>I-PER</td>\n",
       "      <td>O</td>\n",
       "      <td>100</td>\n",
       "    </tr>\n",
       "    <tr>\n",
       "      <th>47</th>\n",
       "      <td>I-ORG</td>\n",
       "      <td>O</td>\n",
       "      <td>93</td>\n",
       "    </tr>\n",
       "    <tr>\n",
       "      <th>16</th>\n",
       "      <td>B-ORG</td>\n",
       "      <td>B-PER</td>\n",
       "      <td>79</td>\n",
       "    </tr>\n",
       "    <tr>\n",
       "      <th>2</th>\n",
       "      <td>B-LOC</td>\n",
       "      <td>B-PER</td>\n",
       "      <td>73</td>\n",
       "    </tr>\n",
       "    <tr>\n",
       "      <th>1</th>\n",
       "      <td>B-LOC</td>\n",
       "      <td>B-ORG</td>\n",
       "      <td>66</td>\n",
       "    </tr>\n",
       "  </tbody>\n",
       "</table>\n",
       "</div>"
      ],
      "text/plain": [
       "   True Label Predicted Label  Count\n",
       "21      B-ORG               O    235\n",
       "27      B-PER               O    146\n",
       "13     B-MISC               O    114\n",
       "14      B-ORG           B-LOC    106\n",
       "6       B-LOC               O    105\n",
       "53      I-PER               O    100\n",
       "47      I-ORG               O     93\n",
       "16      B-ORG           B-PER     79\n",
       "2       B-LOC           B-PER     73\n",
       "1       B-LOC           B-ORG     66"
      ]
     },
     "execution_count": 428,
     "metadata": {},
     "output_type": "execute_result"
    }
   ],
   "source": [
    "# Count most common misclassifications\n",
    "most_common_errors = error_df.groupby(['True Label', 'Predicted Label']).size().reset_index(name='Count')\n",
    "most_common_errors = most_common_errors.sort_values(by='Count', ascending=False)\n",
    "most_common_errors.head(10)"
   ]
  },
  {
   "cell_type": "code",
   "execution_count": 429,
   "metadata": {
    "execution": {
     "iopub.execute_input": "2025-02-07T02:37:53.069561Z",
     "iopub.status.busy": "2025-02-07T02:37:53.069262Z",
     "iopub.status.idle": "2025-02-07T02:37:53.084971Z",
     "shell.execute_reply": "2025-02-07T02:37:53.084339Z",
     "shell.execute_reply.started": "2025-02-07T02:37:53.069532Z"
    },
    "trusted": true
   },
   "outputs": [
    {
     "data": {
      "text/html": [
       "<div>\n",
       "<style scoped>\n",
       "    .dataframe tbody tr th:only-of-type {\n",
       "        vertical-align: middle;\n",
       "    }\n",
       "\n",
       "    .dataframe tbody tr th {\n",
       "        vertical-align: top;\n",
       "    }\n",
       "\n",
       "    .dataframe thead th {\n",
       "        text-align: right;\n",
       "    }\n",
       "</style>\n",
       "<table border=\"1\" class=\"dataframe\">\n",
       "  <thead>\n",
       "    <tr style=\"text-align: right;\">\n",
       "      <th></th>\n",
       "      <th>NER Class</th>\n",
       "      <th>Misclassification Count</th>\n",
       "    </tr>\n",
       "  </thead>\n",
       "  <tbody>\n",
       "    <tr>\n",
       "      <th>0</th>\n",
       "      <td>B-ORG</td>\n",
       "      <td>493</td>\n",
       "    </tr>\n",
       "    <tr>\n",
       "      <th>1</th>\n",
       "      <td>B-LOC</td>\n",
       "      <td>288</td>\n",
       "    </tr>\n",
       "    <tr>\n",
       "      <th>2</th>\n",
       "      <td>B-PER</td>\n",
       "      <td>242</td>\n",
       "    </tr>\n",
       "    <tr>\n",
       "      <th>3</th>\n",
       "      <td>I-ORG</td>\n",
       "      <td>209</td>\n",
       "    </tr>\n",
       "    <tr>\n",
       "      <th>4</th>\n",
       "      <td>B-MISC</td>\n",
       "      <td>189</td>\n",
       "    </tr>\n",
       "    <tr>\n",
       "      <th>5</th>\n",
       "      <td>I-PER</td>\n",
       "      <td>117</td>\n",
       "    </tr>\n",
       "    <tr>\n",
       "      <th>6</th>\n",
       "      <td>I-MISC</td>\n",
       "      <td>72</td>\n",
       "    </tr>\n",
       "    <tr>\n",
       "      <th>7</th>\n",
       "      <td>I-LOC</td>\n",
       "      <td>59</td>\n",
       "    </tr>\n",
       "  </tbody>\n",
       "</table>\n",
       "</div>"
      ],
      "text/plain": [
       "  NER Class  Misclassification Count\n",
       "0     B-ORG                      493\n",
       "1     B-LOC                      288\n",
       "2     B-PER                      242\n",
       "3     I-ORG                      209\n",
       "4    B-MISC                      189\n",
       "5     I-PER                      117\n",
       "6    I-MISC                       72\n",
       "7     I-LOC                       59"
      ]
     },
     "execution_count": 429,
     "metadata": {},
     "output_type": "execute_result"
    }
   ],
   "source": [
    "# Count misclassifications per NER class\n",
    "error_counts = error_df['True Label'].value_counts().reset_index()\n",
    "error_counts.columns = ['NER Class', 'Misclassification Count']\n",
    "\n",
    "# Map label indices to names if necessary\n",
    "label_map = {\n",
    "    '0': 'O',\n",
    "    '1': 'B-PER',\n",
    "    '2': 'I-PER',\n",
    "    '3': 'B-ORG',\n",
    "    '4': 'I-ORG',\n",
    "    '5': 'B-LOC',\n",
    "    '6': 'I-LOC',\n",
    "    '7': 'B-MISC',\n",
    "    '8': 'I-MISC',\n",
    "}\n",
    "\n",
    "# Count misclassifications per NER class\n",
    "error_counts = error_df['True Label'].value_counts().reset_index()\n",
    "error_counts.columns = ['NER Class', 'Misclassification Count']\n",
    "\n",
    "error_counts"
   ]
  },
  {
   "cell_type": "code",
   "execution_count": 430,
   "metadata": {
    "execution": {
     "iopub.execute_input": "2025-02-07T02:37:53.085837Z",
     "iopub.status.busy": "2025-02-07T02:37:53.085603Z",
     "iopub.status.idle": "2025-02-07T02:37:53.261006Z",
     "shell.execute_reply": "2025-02-07T02:37:53.260208Z",
     "shell.execute_reply.started": "2025-02-07T02:37:53.085806Z"
    },
    "trusted": true
   },
   "outputs": [
    {
     "name": "stdout",
     "output_type": "stream",
     "text": [
      "  NER Class   Count  Percentage\n",
      "1         O  169578        83.3\n",
      "5     B-LOC    7140         3.5\n",
      "3     B-PER    6600         3.2\n",
      "0     B-ORG    6321         3.1\n",
      "4     I-PER    4528         2.2\n",
      "6     I-ORG    3704         1.8\n",
      "2    B-MISC    3438         1.7\n",
      "8     I-LOC    1157         0.6\n",
      "7    I-MISC    1155         0.6\n"
     ]
    }
   ],
   "source": [
    "# Analyze class imbalance in training data\n",
    "all_labels = np.concatenate(dataset['train']['ner_tags'])\n",
    "label_counts = Counter(all_labels)\n",
    "\n",
    "# Map label indices to names\n",
    "ner_label_map = {0: 'O', 1: 'B-PER', 2: 'I-PER', 3: 'B-ORG', 4: 'I-ORG', 5: 'B-LOC', 6: 'I-LOC', 7: 'B-MISC', 8: 'I-MISC'}\n",
    "train_label_counts = {ner_label_map[key]: value for key, value in label_counts.items()}\n",
    "\n",
    "# Convert to DataFrame\n",
    "train_label_df = pd.DataFrame(list(train_label_counts.items()), columns=['NER Class', 'Count'])\n",
    "train_label_df = train_label_df.sort_values(by='Count', ascending=False)\n",
    "\n",
    "# Calculate percentage\n",
    "train_label_df['Percentage'] = (train_label_df['Count'] / train_label_df['Count'].sum() * 100).round(1)\n",
    "\n",
    "print(train_label_df)"
   ]
  },
  {
   "cell_type": "code",
   "execution_count": 431,
   "metadata": {
    "execution": {
     "iopub.execute_input": "2025-02-07T02:37:53.261949Z",
     "iopub.status.busy": "2025-02-07T02:37:53.261740Z",
     "iopub.status.idle": "2025-02-07T02:37:53.437173Z",
     "shell.execute_reply": "2025-02-07T02:37:53.436188Z",
     "shell.execute_reply.started": "2025-02-07T02:37:53.261929Z"
    },
    "trusted": true
   },
   "outputs": [
    {
     "data": {
      "image/png": "[encoded data removed]",
      "text/plain": [
       "<Figure size 800x600 with 1 Axes>"
      ]
     },
     "metadata": {},
     "output_type": "display_data"
    }
   ],
   "source": [
    "# Visualize misclassification distribution\n",
    "plt.figure(figsize=(8,6))\n",
    "sns.barplot(x='NER Class', y='Misclassification Count', data=error_counts, palette=\"pastel\")\n",
    "plt.title('Misclassification Count per NER Class')\n",
    "plt.show()"
   ]
  }
 ],
 "metadata": {
  "kaggle": {
   "accelerator": "gpu",
   "dataSources": [],
   "dockerImageVersionId": 30840,
   "isGpuEnabled": true,
   "isInternetEnabled": true,
   "language": "python",
   "sourceType": "notebook"
  },
  "kernelspec": {
   "display_name": "base",
   "language": "python",
   "name": "python3"
  },
  "language_info": {
   "codemirror_mode": {
    "name": "ipython",
    "version": 3
   },
   "file_extension": ".py",
   "mimetype": "text/x-python",
   "name": "python",
   "nbconvert_exporter": "python",
   "pygments_lexer": "ipython3",
   "version": "3.11.4"
  }
 },
 "nbformat": 4,
 "nbformat_minor": 4
}
