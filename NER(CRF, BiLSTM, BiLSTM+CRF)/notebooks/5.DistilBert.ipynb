{
 "cells": [
  {
   "cell_type": "markdown",
   "metadata": {},
   "source": [
    "# Named Entity Recognition with DistilBERT on CoNLL-2003 dataset"
   ]
  },
  {
   "cell_type": "code",
   "execution_count": 120,
   "metadata": {
    "execution": {
     "iopub.execute_input": "2025-02-09T10:09:56.970653Z",
     "iopub.status.busy": "2025-02-09T10:09:56.970317Z",
     "iopub.status.idle": "2025-02-09T10:09:56.974773Z",
     "shell.execute_reply": "2025-02-09T10:09:56.973694Z",
     "shell.execute_reply.started": "2025-02-09T10:09:56.970628Z"
    },
    "id": "zVvslsfMIrIh",
    "trusted": true
   },
   "outputs": [],
   "source": [
    "task = \"ner\" # could be one of \"ner\", \"pos\" or \"chunk\"\n",
    "model_checkpoint = \"distilbert-base-uncased\"\n",
    "batch_size = 16\n",
    "label_all_tokens = True"
   ]
  },
  {
   "cell_type": "markdown",
   "metadata": {
    "id": "whPRbBNbIrIl"
   },
   "source": [
    "# 1. Loading the dataset"
   ]
  },
  {
   "cell_type": "code",
   "execution_count": 121,
   "metadata": {
    "execution": {
     "iopub.execute_input": "2025-02-09T10:09:56.983265Z",
     "iopub.status.busy": "2025-02-09T10:09:56.983005Z",
     "iopub.status.idle": "2025-02-09T10:09:56.995189Z",
     "shell.execute_reply": "2025-02-09T10:09:56.994186Z",
     "shell.execute_reply.started": "2025-02-09T10:09:56.983244Z"
    },
    "id": "IreSlFmlIrIm",
    "trusted": true
   },
   "outputs": [
    {
     "name": "stdout",
     "output_type": "stream",
     "text": [
      "4.47.0\n"
     ]
    }
   ],
   "source": [
    "# !pip install evaluate\n",
    "# !pip install seqeval\n",
    "from datasets import load_dataset\n",
    "from evaluate import load\n",
    "import transformers\n",
    "import numpy as np\n",
    "import matplotlib.pyplot as plt\n",
    "\n",
    "print(transformers.__version__)\n",
    "\n",
    "from transformers import (\n",
    "    AutoTokenizer, \n",
    "    AutoModelForTokenClassification, \n",
    "    TrainingArguments, \n",
    "    Trainer, \n",
    "    DataCollatorForTokenClassification,\n",
    "    EarlyStoppingCallback\n",
    ")"
   ]
  },
  {
   "cell_type": "code",
   "execution_count": 122,
   "metadata": {
    "colab": {
     "base_uri": "https://localhost:8080/",
     "height": 270,
     "referenced_widgets": [
      "69caab03d6264fef9fc5649bffff5e20",
      "3f74532faa86412293d90d3952f38c4a",
      "50615aa59c7247c4804ca5cbc7945bd7",
      "fe962391292a413ca55dc932c4279fa7",
      "299f4b4c07654e53a25f8192bd1d7bbd",
      "ad04ed1038154081bbb0c1444784dcc2",
      "7c667ad22b5740d5a6319f1b1e3a8097",
      "46c2b043c0f84806978784a45a4e203b",
      "80e2943be35f46eeb24c8ab13faa6578",
      "de5956b5008d4fdba807bae57509c393",
      "931db1f7a42f4b46b7ff8c2e1262b994",
      "6c1db72efff5476e842c1386fadbbdba",
      "ccd2f37647c547abb4c719b75a26f2de",
      "d30a66df5c0145e79693e09789d96b81",
      "5fa26fc336274073abbd1d550542ee33",
      "2b34de08115d49d285def9269a53f484",
      "d426be871b424affb455aeb7db5e822e",
      "160bf88485f44f5cb6eaeecba5e0901f",
      "745c0d47d672477b9bb0dae77b926364",
      "d22ab78269cd4ccfbcf70c707057c31b",
      "d298eb19eeff453cba51c2804629d3f4",
      "a7204ade36314c86907c562e0a2158b8",
      "e35d42b2d352498ca3fc8530393786b2",
      "75103f83538d44abada79b51a1cec09e",
      "f6253931d90543e9b5fd0bb2d615f73a",
      "051aa783ff9e47e28d1f9584043815f5",
      "0984b2a14115454bbb009df71c1cf36f",
      "8ab9dfce29854049912178941ef1b289",
      "c9de740e007141958545e269372780a4",
      "cbea68b25d6d4ba09b2ce0f27b1726d5",
      "5781fc45cf8d486cb06ed68853b2c644",
      "d2a92143a08a4951b55bab9bc0a6d0d3",
      "a14c3e40e5254d61ba146f6ec88eae25",
      "c4ffe6f624ce4e978a0d9b864544941a",
      "1aca01c1d8c940dfadd3e7144bb35718",
      "9fbbaae50e6743f2aa19342152398186",
      "fea27ca6c9504fc896181bc1ff5730e5",
      "940d00556cb849b3a689d56e274041c2",
      "5cdf9ed939fb42d4bf77301c80b8afca",
      "94b39ccfef0b4b08bf2fb61bb0a657c1",
      "9a55087c85b74ea08b3e952ac1d73cbe",
      "2361ab124daf47cc885ff61f2899b2af",
      "1a65887eb37747ddb75dc4a40f7285f2",
      "3c946e2260704e6c98593136bd32d921",
      "50d325cdb9844f62a9ecc98e768cb5af",
      "aa781f0cfe454e9da5b53b93e9baabd8",
      "6bb68d3887ef43809eb23feb467f9723",
      "7e29a8b952cf4f4ea42833c8bf55342f",
      "dd5997d01d8947e4b1c211433969b89b",
      "2ace4dc78e2f4f1492a181bcd63304e7",
      "bbee008c2791443d8610371d1f16b62b",
      "31b1c8a2e3334b72b45b083688c1a20c",
      "7fb7c36adc624f7dbbcb4a831c1e4f63",
      "0b7c8f1939074794b3d9221244b1344d",
      "a71908883b064e1fbdddb547a8c41743",
      "2f5223f26c8541fc87e91d2205c39995"
     ]
    },
    "execution": {
     "iopub.execute_input": "2025-02-09T10:09:56.996533Z",
     "iopub.status.busy": "2025-02-09T10:09:56.996327Z",
     "iopub.status.idle": "2025-02-09T10:09:57.810557Z",
     "shell.execute_reply": "2025-02-09T10:09:57.809876Z",
     "shell.execute_reply.started": "2025-02-09T10:09:56.996515Z"
    },
    "id": "s_AY1ATSIrIq",
    "outputId": "fd0578d1-8895-443d-b56f-5908de9f1b6b",
    "trusted": true
   },
   "outputs": [],
   "source": [
    "datasets = load_dataset(\"conll2003\",trust_remote_code=True)"
   ]
  },
  {
   "cell_type": "code",
   "execution_count": 123,
   "metadata": {
    "execution": {
     "iopub.execute_input": "2025-02-09T10:09:57.812131Z",
     "iopub.status.busy": "2025-02-09T10:09:57.811833Z",
     "iopub.status.idle": "2025-02-09T10:09:57.816941Z",
     "shell.execute_reply": "2025-02-09T10:09:57.816117Z",
     "shell.execute_reply.started": "2025-02-09T10:09:57.812101Z"
    },
    "id": "GWiVUF0jIrIv",
    "outputId": "35e3ea43-f397-4a54-c90c-f2cf8d36873e",
    "trusted": true
   },
   "outputs": [
    {
     "data": {
      "text/plain": [
       "DatasetDict({\n",
       "    train: Dataset({\n",
       "        features: ['id', 'tokens', 'pos_tags', 'chunk_tags', 'ner_tags'],\n",
       "        num_rows: 14041\n",
       "    })\n",
       "    validation: Dataset({\n",
       "        features: ['id', 'tokens', 'pos_tags', 'chunk_tags', 'ner_tags'],\n",
       "        num_rows: 3250\n",
       "    })\n",
       "    test: Dataset({\n",
       "        features: ['id', 'tokens', 'pos_tags', 'chunk_tags', 'ner_tags'],\n",
       "        num_rows: 3453\n",
       "    })\n",
       "})"
      ]
     },
     "execution_count": 123,
     "metadata": {},
     "output_type": "execute_result"
    }
   ],
   "source": [
    "datasets"
   ]
  },
  {
   "cell_type": "code",
   "execution_count": 124,
   "metadata": {
    "execution": {
     "iopub.execute_input": "2025-02-09T10:09:57.818456Z",
     "iopub.status.busy": "2025-02-09T10:09:57.818167Z",
     "iopub.status.idle": "2025-02-09T10:09:57.834172Z",
     "shell.execute_reply": "2025-02-09T10:09:57.833561Z",
     "shell.execute_reply.started": "2025-02-09T10:09:57.818436Z"
    },
    "id": "X6HrpprwIrIz",
    "outputId": "d7670bc0-42e4-4c09-8a6a-5c018ded7d95",
    "trusted": true
   },
   "outputs": [
    {
     "data": {
      "text/plain": [
       "{'id': '0',\n",
       " 'tokens': ['EU',\n",
       "  'rejects',\n",
       "  'German',\n",
       "  'call',\n",
       "  'to',\n",
       "  'boycott',\n",
       "  'British',\n",
       "  'lamb',\n",
       "  '.'],\n",
       " 'pos_tags': [22, 42, 16, 21, 35, 37, 16, 21, 7],\n",
       " 'chunk_tags': [11, 21, 11, 12, 21, 22, 11, 12, 0],\n",
       " 'ner_tags': [3, 0, 7, 0, 0, 0, 7, 0, 0]}"
      ]
     },
     "execution_count": 124,
     "metadata": {},
     "output_type": "execute_result"
    }
   ],
   "source": [
    "datasets[\"train\"][0]"
   ]
  },
  {
   "cell_type": "code",
   "execution_count": 125,
   "metadata": {
    "execution": {
     "iopub.execute_input": "2025-02-09T10:09:57.835143Z",
     "iopub.status.busy": "2025-02-09T10:09:57.834876Z",
     "iopub.status.idle": "2025-02-09T10:09:57.851246Z",
     "shell.execute_reply": "2025-02-09T10:09:57.850518Z",
     "shell.execute_reply.started": "2025-02-09T10:09:57.835116Z"
    },
    "id": "q_4kjcRMq4mk",
    "outputId": "7f99b09e-41af-4f2a-a4c2-39b5b3b21711",
    "trusted": true
   },
   "outputs": [
    {
     "data": {
      "text/plain": [
       "Sequence(feature=ClassLabel(names=['O', 'B-PER', 'I-PER', 'B-ORG', 'I-ORG', 'B-LOC', 'I-LOC', 'B-MISC', 'I-MISC'], id=None), length=-1, id=None)"
      ]
     },
     "execution_count": 125,
     "metadata": {},
     "output_type": "execute_result"
    }
   ],
   "source": [
    "datasets[\"train\"].features[f\"ner_tags\"]"
   ]
  },
  {
   "cell_type": "code",
   "execution_count": 126,
   "metadata": {
    "execution": {
     "iopub.execute_input": "2025-02-09T10:09:57.852307Z",
     "iopub.status.busy": "2025-02-09T10:09:57.852065Z",
     "iopub.status.idle": "2025-02-09T10:09:57.867734Z",
     "shell.execute_reply": "2025-02-09T10:09:57.867079Z",
     "shell.execute_reply.started": "2025-02-09T10:09:57.852268Z"
    },
    "id": "QwGrM7B4q4mk",
    "outputId": "a932b680-7fed-482d-d29d-c24d2e19583b",
    "trusted": true
   },
   "outputs": [
    {
     "data": {
      "text/plain": [
       "['O', 'B-PER', 'I-PER', 'B-ORG', 'I-ORG', 'B-LOC', 'I-LOC', 'B-MISC', 'I-MISC']"
      ]
     },
     "execution_count": 126,
     "metadata": {},
     "output_type": "execute_result"
    }
   ],
   "source": [
    "label_list = datasets[\"train\"].features[f\"{task}_tags\"].feature.names\n",
    "label_list"
   ]
  },
  {
   "cell_type": "markdown",
   "metadata": {
    "id": "n9qywopnIrJH"
   },
   "source": [
    "# 2. Preprocessing the data"
   ]
  },
  {
   "cell_type": "code",
   "execution_count": 127,
   "metadata": {
    "execution": {
     "iopub.execute_input": "2025-02-09T10:09:57.869709Z",
     "iopub.status.busy": "2025-02-09T10:09:57.869474Z",
     "iopub.status.idle": "2025-02-09T10:09:58.050115Z",
     "shell.execute_reply": "2025-02-09T10:09:58.049200Z",
     "shell.execute_reply.started": "2025-02-09T10:09:57.869691Z"
    },
    "id": "eXNLu_-nIrJI",
    "trusted": true
   },
   "outputs": [],
   "source": [
    "tokenizer = AutoTokenizer.from_pretrained(model_checkpoint)"
   ]
  },
  {
   "cell_type": "code",
   "execution_count": 128,
   "metadata": {
    "execution": {
     "iopub.execute_input": "2025-02-09T10:09:58.052044Z",
     "iopub.status.busy": "2025-02-09T10:09:58.051739Z",
     "iopub.status.idle": "2025-02-09T10:09:58.057825Z",
     "shell.execute_reply": "2025-02-09T10:09:58.057053Z",
     "shell.execute_reply.started": "2025-02-09T10:09:58.052008Z"
    },
    "id": "vc0BSBLIIrJQ",
    "trusted": true
   },
   "outputs": [],
   "source": [
    "def tokenize_and_align_labels(examples):\n",
    "    tokenized_inputs = tokenizer(examples[\"tokens\"], truncation=True, is_split_into_words=True)\n",
    "\n",
    "    labels = []\n",
    "    for i, label in enumerate(examples[f\"{task}_tags\"]):\n",
    "        word_ids = tokenized_inputs.word_ids(batch_index=i)\n",
    "        previous_word_idx = None\n",
    "        label_ids = []\n",
    "        for word_idx in word_ids:\n",
    "            # Special tokens have a word id that is None. We set the label to -100 so they are automatically\n",
    "            # ignored in the loss function.\n",
    "            if word_idx is None:\n",
    "                label_ids.append(-100)\n",
    "            # We set the label for the first token of each word.\n",
    "            elif word_idx != previous_word_idx:\n",
    "                label_ids.append(label[word_idx])\n",
    "            # For the other tokens in a word, we set the label to either the current label or -100, depending on\n",
    "            # the label_all_tokens flag.\n",
    "            else:\n",
    "                label_ids.append(label[word_idx] if label_all_tokens else -100)\n",
    "            previous_word_idx = word_idx\n",
    "\n",
    "        labels.append(label_ids)\n",
    "\n",
    "    tokenized_inputs[\"labels\"] = labels\n",
    "    return tokenized_inputs"
   ]
  },
  {
   "cell_type": "code",
   "execution_count": 129,
   "metadata": {
    "execution": {
     "iopub.execute_input": "2025-02-09T10:09:58.059074Z",
     "iopub.status.busy": "2025-02-09T10:09:58.058723Z",
     "iopub.status.idle": "2025-02-09T10:09:58.075107Z",
     "shell.execute_reply": "2025-02-09T10:09:58.074382Z",
     "shell.execute_reply.started": "2025-02-09T10:09:58.059045Z"
    },
    "id": "-b70jh26IrJS",
    "outputId": "acd3a42d-985b-44ee-9daa-af5d944ce1d9",
    "trusted": true
   },
   "outputs": [
    {
     "data": {
      "text/plain": [
       "{'input_ids': [[101, 7327, 19164, 2446, 2655, 2000, 17757, 2329, 12559, 1012, 102], [101, 2848, 13934, 102], [101, 9371, 2727, 1011, 5511, 1011, 2570, 102], [101, 1996, 2647, 3222, 2056, 2006, 9432, 2009, 18335, 2007, 2446, 6040, 2000, 10390, 2000, 18454, 2078, 2329, 12559, 2127, 6529, 5646, 3251, 5506, 11190, 4295, 2064, 2022, 11860, 2000, 8351, 1012, 102], [101, 2762, 1005, 1055, 4387, 2000, 1996, 2647, 2586, 1005, 1055, 15651, 2837, 14121, 1062, 9328, 5804, 2056, 2006, 9317, 10390, 2323, 4965, 8351, 4168, 4017, 2013, 3032, 2060, 2084, 3725, 2127, 1996, 4045, 6040, 2001, 24509, 1012, 102]], 'attention_mask': [[1, 1, 1, 1, 1, 1, 1, 1, 1, 1, 1], [1, 1, 1, 1], [1, 1, 1, 1, 1, 1, 1, 1], [1, 1, 1, 1, 1, 1, 1, 1, 1, 1, 1, 1, 1, 1, 1, 1, 1, 1, 1, 1, 1, 1, 1, 1, 1, 1, 1, 1, 1, 1, 1, 1, 1], [1, 1, 1, 1, 1, 1, 1, 1, 1, 1, 1, 1, 1, 1, 1, 1, 1, 1, 1, 1, 1, 1, 1, 1, 1, 1, 1, 1, 1, 1, 1, 1, 1, 1, 1, 1, 1, 1, 1]], 'labels': [[-100, 3, 0, 7, 0, 0, 0, 7, 0, 0, -100], [-100, 1, 2, -100], [-100, 5, 0, 0, 0, 0, 0, -100], [-100, 0, 3, 4, 0, 0, 0, 0, 0, 0, 7, 0, 0, 0, 0, 0, 0, 7, 0, 0, 0, 0, 0, 0, 0, 0, 0, 0, 0, 0, 0, 0, -100], [-100, 5, 0, 0, 0, 0, 0, 3, 4, 0, 0, 0, 0, 1, 2, 2, 2, 0, 0, 0, 0, 0, 0, 0, 0, 0, 0, 0, 0, 0, 5, 0, 0, 0, 0, 0, 0, 0, -100]]}"
      ]
     },
     "execution_count": 129,
     "metadata": {},
     "output_type": "execute_result"
    }
   ],
   "source": [
    "tokenize_and_align_labels(datasets['train'][:5])"
   ]
  },
  {
   "cell_type": "code",
   "execution_count": 130,
   "metadata": {
    "execution": {
     "iopub.execute_input": "2025-02-09T10:09:58.076062Z",
     "iopub.status.busy": "2025-02-09T10:09:58.075810Z",
     "iopub.status.idle": "2025-02-09T10:09:58.111245Z",
     "shell.execute_reply": "2025-02-09T10:09:58.110686Z",
     "shell.execute_reply.started": "2025-02-09T10:09:58.076041Z"
    },
    "id": "DDtsaJeVIrJT",
    "outputId": "aa4734bf-4ef5-4437-9948-2c16363da719",
    "trusted": true
   },
   "outputs": [],
   "source": [
    "tokenized_datasets = datasets.map(tokenize_and_align_labels, batched=True)"
   ]
  },
  {
   "cell_type": "markdown",
   "metadata": {
    "id": "545PP3o8IrJV"
   },
   "source": [
    "# 3. Fine-tuning the model"
   ]
  },
  {
   "cell_type": "code",
   "execution_count": 131,
   "metadata": {
    "execution": {
     "iopub.execute_input": "2025-02-09T10:09:58.112368Z",
     "iopub.status.busy": "2025-02-09T10:09:58.112085Z",
     "iopub.status.idle": "2025-02-09T10:09:58.227251Z",
     "shell.execute_reply": "2025-02-09T10:09:58.226686Z",
     "shell.execute_reply.started": "2025-02-09T10:09:58.112322Z"
    },
    "id": "TlqNaB8jIrJW",
    "outputId": "84916cf3-6e6c-47f3-d081-032ec30a4132",
    "trusted": true
   },
   "outputs": [
    {
     "name": "stderr",
     "output_type": "stream",
     "text": [
      "Some weights of DistilBertForTokenClassification were not initialized from the model checkpoint at distilbert-base-uncased and are newly initialized: ['classifier.bias', 'classifier.weight']\n",
      "You should probably TRAIN this model on a down-stream task to be able to use it for predictions and inference.\n"
     ]
    }
   ],
   "source": [
    "model = AutoModelForTokenClassification.from_pretrained(model_checkpoint, num_labels=len(label_list))"
   ]
  },
  {
   "cell_type": "code",
   "execution_count": 132,
   "metadata": {
    "execution": {
     "iopub.execute_input": "2025-02-09T10:09:58.228423Z",
     "iopub.status.busy": "2025-02-09T10:09:58.228180Z",
     "iopub.status.idle": "2025-02-09T10:09:58.255519Z",
     "shell.execute_reply": "2025-02-09T10:09:58.254713Z",
     "shell.execute_reply.started": "2025-02-09T10:09:58.228402Z"
    },
    "id": "Bliy8zgjIrJY",
    "trusted": true
   },
   "outputs": [],
   "source": [
    "model_name = model_checkpoint.split(\"/\")[-1]\n",
    "args = TrainingArguments(\n",
    "    f\"{model_name}-finetuned-{task}\",\n",
    "    eval_strategy = \"epoch\",\n",
    "    save_strategy = \"epoch\",\n",
    "    learning_rate=2e-5,\n",
    "    per_device_train_batch_size=batch_size,\n",
    "    per_device_eval_batch_size=batch_size,\n",
    "    num_train_epochs=10,\n",
    "    weight_decay=0.01,\n",
    "    report_to = 'none',\n",
    "    load_best_model_at_end=True,  \n",
    "    metric_for_best_model=\"f1\", \n",
    "    greater_is_better=True,\n",
    ")"
   ]
  },
  {
   "cell_type": "code",
   "execution_count": 133,
   "metadata": {
    "execution": {
     "iopub.execute_input": "2025-02-09T10:09:58.256435Z",
     "iopub.status.busy": "2025-02-09T10:09:58.256212Z",
     "iopub.status.idle": "2025-02-09T10:09:58.716698Z",
     "shell.execute_reply": "2025-02-09T10:09:58.715802Z",
     "shell.execute_reply.started": "2025-02-09T10:09:58.256416Z"
    },
    "id": "a7zyuOhqq4mq",
    "outputId": "96b867fa-2420-4dd4-d4d2-9cb8f8fbaed6",
    "trusted": true
   },
   "outputs": [
    {
     "data": {
      "text/plain": [
       "{'LOC': {'precision': 1.0, 'recall': 1.0, 'f1': 1.0, 'number': 2},\n",
       " 'ORG': {'precision': 1.0, 'recall': 1.0, 'f1': 1.0, 'number': 1},\n",
       " 'PER': {'precision': 1.0, 'recall': 1.0, 'f1': 1.0, 'number': 1},\n",
       " 'overall_precision': 1.0,\n",
       " 'overall_recall': 1.0,\n",
       " 'overall_f1': 1.0,\n",
       " 'overall_accuracy': 1.0}"
      ]
     },
     "execution_count": 133,
     "metadata": {},
     "output_type": "execute_result"
    }
   ],
   "source": [
    "data_collator = DataCollatorForTokenClassification(tokenizer)\n",
    "\n",
    "metric = load(\"seqeval\")\n",
    "\n",
    "labels = [label_list[i] for i in example[f\"{task}_tags\"]]\n",
    "metric.compute(predictions=[labels], references=[labels])"
   ]
  },
  {
   "cell_type": "code",
   "execution_count": 134,
   "metadata": {
    "execution": {
     "iopub.execute_input": "2025-02-09T10:09:58.717992Z",
     "iopub.status.busy": "2025-02-09T10:09:58.717663Z",
     "iopub.status.idle": "2025-02-09T10:09:58.723138Z",
     "shell.execute_reply": "2025-02-09T10:09:58.722376Z",
     "shell.execute_reply.started": "2025-02-09T10:09:58.717961Z"
    },
    "id": "UmvbnJ9JIrJd",
    "trusted": true
   },
   "outputs": [],
   "source": [
    "def compute_metrics(p):\n",
    "    predictions, labels = p\n",
    "    predictions = np.argmax(predictions, axis=2)\n",
    "\n",
    "    # Remove ignored index (special tokens)\n",
    "    true_predictions = [\n",
    "        [label_list[p] for (p, l) in zip(prediction, label) if l != -100]\n",
    "        for prediction, label in zip(predictions, labels)\n",
    "    ]\n",
    "    true_labels = [\n",
    "        [label_list[l] for (p, l) in zip(prediction, label) if l != -100]\n",
    "        for prediction, label in zip(predictions, labels)\n",
    "    ]\n",
    "\n",
    "    results = metric.compute(predictions=true_predictions, references=true_labels)\n",
    "    return {\n",
    "        \"precision\": results[\"overall_precision\"],\n",
    "        \"recall\": results[\"overall_recall\"],\n",
    "        \"f1\": results[\"overall_f1\"],\n",
    "        \"accuracy\": results[\"overall_accuracy\"],\n",
    "    }"
   ]
  },
  {
   "cell_type": "code",
   "execution_count": 135,
   "metadata": {
    "execution": {
     "iopub.execute_input": "2025-02-09T10:09:58.724258Z",
     "iopub.status.busy": "2025-02-09T10:09:58.724027Z",
     "iopub.status.idle": "2025-02-09T10:09:58.837954Z",
     "shell.execute_reply": "2025-02-09T10:09:58.837352Z",
     "shell.execute_reply.started": "2025-02-09T10:09:58.724240Z"
    },
    "id": "imY1oC3SIrJf",
    "trusted": true
   },
   "outputs": [],
   "source": [
    "trainer = Trainer(\n",
    "    model,\n",
    "    args,\n",
    "    train_dataset=tokenized_datasets[\"train\"],\n",
    "    eval_dataset=tokenized_datasets[\"validation\"],\n",
    "    data_collator=data_collator,\n",
    "    # tokenizer=tokenizer,\n",
    "    compute_metrics=compute_metrics,\n",
    "    callbacks=[EarlyStoppingCallback(early_stopping_patience=3)]\n",
    ")"
   ]
  },
  {
   "cell_type": "markdown",
   "metadata": {},
   "source": [
    "# 4. Model Training"
   ]
  },
  {
   "cell_type": "code",
   "execution_count": 136,
   "metadata": {
    "execution": {
     "iopub.execute_input": "2025-02-09T10:09:58.838801Z",
     "iopub.status.busy": "2025-02-09T10:09:58.838617Z",
     "iopub.status.idle": "2025-02-09T10:15:10.840473Z",
     "shell.execute_reply": "2025-02-09T10:15:10.839583Z",
     "shell.execute_reply.started": "2025-02-09T10:09:58.838784Z"
    },
    "id": "3XJMU5nTq4mq",
    "outputId": "07aeac2e-a960-4d35-f1bf-51eaa52ee09a",
    "trusted": true
   },
   "outputs": [
    {
     "data": {
      "text/html": [
       "\n",
       "    <div>\n",
       "      \n",
       "      <progress value='5268' max='8780' style='width:300px; height:20px; vertical-align: middle;'></progress>\n",
       "      [5268/8780 05:11 < 03:27, 16.90 it/s, Epoch 6/10]\n",
       "    </div>\n",
       "    <table border=\"1\" class=\"dataframe\">\n",
       "  <thead>\n",
       " <tr style=\"text-align: left;\">\n",
       "      <th>Epoch</th>\n",
       "      <th>Training Loss</th>\n",
       "      <th>Validation Loss</th>\n",
       "      <th>Precision</th>\n",
       "      <th>Recall</th>\n",
       "      <th>F1</th>\n",
       "      <th>Accuracy</th>\n",
       "    </tr>\n",
       "  </thead>\n",
       "  <tbody>\n",
       "    <tr>\n",
       "      <td>1</td>\n",
       "      <td>0.243700</td>\n",
       "      <td>0.067134</td>\n",
       "      <td>0.905250</td>\n",
       "      <td>0.918112</td>\n",
       "      <td>0.911636</td>\n",
       "      <td>0.979983</td>\n",
       "    </tr>\n",
       "    <tr>\n",
       "      <td>2</td>\n",
       "      <td>0.050000</td>\n",
       "      <td>0.062445</td>\n",
       "      <td>0.928651</td>\n",
       "      <td>0.933326</td>\n",
       "      <td>0.930983</td>\n",
       "      <td>0.983558</td>\n",
       "    </tr>\n",
       "    <tr>\n",
       "      <td>3</td>\n",
       "      <td>0.027400</td>\n",
       "      <td>0.061116</td>\n",
       "      <td>0.933541</td>\n",
       "      <td>0.939702</td>\n",
       "      <td>0.936611</td>\n",
       "      <td>0.984400</td>\n",
       "    </tr>\n",
       "    <tr>\n",
       "      <td>4</td>\n",
       "      <td>0.016400</td>\n",
       "      <td>0.065311</td>\n",
       "      <td>0.924673</td>\n",
       "      <td>0.942052</td>\n",
       "      <td>0.933282</td>\n",
       "      <td>0.984447</td>\n",
       "    </tr>\n",
       "    <tr>\n",
       "      <td>5</td>\n",
       "      <td>0.010700</td>\n",
       "      <td>0.073532</td>\n",
       "      <td>0.933519</td>\n",
       "      <td>0.939367</td>\n",
       "      <td>0.936434</td>\n",
       "      <td>0.984161</td>\n",
       "    </tr>\n",
       "    <tr>\n",
       "      <td>6</td>\n",
       "      <td>0.006700</td>\n",
       "      <td>0.076026</td>\n",
       "      <td>0.931348</td>\n",
       "      <td>0.940933</td>\n",
       "      <td>0.936116</td>\n",
       "      <td>0.984415</td>\n",
       "    </tr>\n",
       "  </tbody>\n",
       "</table><p>"
      ],
      "text/plain": [
       "<IPython.core.display.HTML object>"
      ]
     },
     "metadata": {},
     "output_type": "display_data"
    },
    {
     "data": {
      "text/plain": [
       "TrainOutput(global_step=5268, training_loss=0.04773538815948034, metrics={'train_runtime': 311.6408, 'train_samples_per_second': 450.551, 'train_steps_per_second': 28.173, 'total_flos': 1022657837357772.0, 'train_loss': 0.04773538815948034, 'epoch': 6.0})"
      ]
     },
     "execution_count": 136,
     "metadata": {},
     "output_type": "execute_result"
    }
   ],
   "source": [
    "trainer.train()"
   ]
  },
  {
   "cell_type": "markdown",
   "metadata": {},
   "source": [
    "# 5.Model Evaluation"
   ]
  },
  {
   "cell_type": "code",
   "execution_count": 137,
   "metadata": {
    "execution": {
     "iopub.execute_input": "2025-02-09T10:15:10.841688Z",
     "iopub.status.busy": "2025-02-09T10:15:10.841411Z",
     "iopub.status.idle": "2025-02-09T10:15:15.103396Z",
     "shell.execute_reply": "2025-02-09T10:15:15.102505Z",
     "shell.execute_reply.started": "2025-02-09T10:15:10.841666Z"
    },
    "id": "UOUcBkX8IrJi",
    "outputId": "de5b9dd6-9dc0-4702-cb43-55e9829fde25",
    "trusted": true
   },
   "outputs": [
    {
     "data": {
      "text/html": [],
      "text/plain": [
       "<IPython.core.display.HTML object>"
      ]
     },
     "metadata": {},
     "output_type": "display_data"
    },
    {
     "data": {
      "text/plain": [
       "{'eval_loss': 0.06111577898263931,\n",
       " 'eval_precision': 0.9335407868415203,\n",
       " 'eval_recall': 0.9397024275646045,\n",
       " 'eval_f1': 0.9366114734905503,\n",
       " 'eval_accuracy': 0.9843995742449998,\n",
       " 'eval_runtime': 4.2533,\n",
       " 'eval_samples_per_second': 764.105,\n",
       " 'eval_steps_per_second': 47.962,\n",
       " 'epoch': 6.0}"
      ]
     },
     "execution_count": 137,
     "metadata": {},
     "output_type": "execute_result"
    }
   ],
   "source": [
    "trainer.evaluate()"
   ]
  },
  {
   "cell_type": "code",
   "execution_count": 144,
   "metadata": {
    "execution": {
     "iopub.execute_input": "2025-02-09T10:27:54.613109Z",
     "iopub.status.busy": "2025-02-09T10:27:54.612784Z",
     "iopub.status.idle": "2025-02-09T10:27:54.793256Z",
     "shell.execute_reply": "2025-02-09T10:27:54.792501Z",
     "shell.execute_reply.started": "2025-02-09T10:27:54.613081Z"
    },
    "trusted": true
   },
   "outputs": [
    {
     "data": {
      "image/png": "[encoded data removed]",
      "text/plain": [
       "<Figure size 800x500 with 1 Axes>"
      ]
     },
     "metadata": {},
     "output_type": "display_data"
    }
   ],
   "source": [
    "import matplotlib.pyplot as plt\n",
    "\n",
    "\n",
    "logs = trainer.state.log_history\n",
    "\n",
    "\n",
    "train_losses = [entry['loss'] for entry in logs if 'loss' in entry]\n",
    "eval_losses = [entry['eval_loss'] for entry in logs if 'eval_loss' in entry]\n",
    "\n",
    "\n",
    "epochs_train = list(range(1, len(train_losses) + 1))\n",
    "epochs_eval = list(range(1, len(eval_losses) + 1))\n",
    "\n",
    "plt.figure(figsize=(8,5))\n",
    "plt.plot(epochs_train, train_losses, label=\"Train Loss\", marker=\"o\")\n",
    "plt.plot(epochs_eval, eval_losses, label=\"Validation Loss\", marker=\"o\")\n",
    "plt.xlabel(\"Epoch\")\n",
    "plt.ylabel(\"Loss\")\n",
    "plt.legend()\n",
    "plt.title(\"Train & Validation Loss\")\n",
    "plt.grid()\n",
    "plt.show()"
   ]
  },
  {
   "cell_type": "code",
   "execution_count": 145,
   "metadata": {
    "execution": {
     "iopub.execute_input": "2025-02-09T10:28:01.232578Z",
     "iopub.status.busy": "2025-02-09T10:28:01.232230Z",
     "iopub.status.idle": "2025-02-09T10:28:01.409977Z",
     "shell.execute_reply": "2025-02-09T10:28:01.409173Z",
     "shell.execute_reply.started": "2025-02-09T10:28:01.232551Z"
    },
    "trusted": true
   },
   "outputs": [
    {
     "data": {
      "image/png": "[encoded data removed]",
      "text/plain": [
       "<Figure size 800x500 with 1 Axes>"
      ]
     },
     "metadata": {},
     "output_type": "display_data"
    }
   ],
   "source": [
    "f1_scores = [entry['eval_f1'] for entry in logs if 'eval_f1' in entry]\n",
    "\n",
    "plt.figure(figsize=(8,5))\n",
    "plt.plot(range(1, len(f1_scores) + 1), f1_scores, label=\"Validation F1-score\", marker=\"o\")\n",
    "plt.xlabel(\"Epoch\")\n",
    "plt.ylabel(\"F1-score\")\n",
    "plt.legend()\n",
    "plt.title(\"Validation F1-score over Epochs\")\n",
    "plt.grid()\n",
    "plt.show()\n"
   ]
  },
  {
   "cell_type": "code",
   "execution_count": 146,
   "metadata": {
    "execution": {
     "iopub.execute_input": "2025-02-09T10:28:04.495705Z",
     "iopub.status.busy": "2025-02-09T10:28:04.495390Z",
     "iopub.status.idle": "2025-02-09T10:28:08.983757Z",
     "shell.execute_reply": "2025-02-09T10:28:08.982937Z",
     "shell.execute_reply.started": "2025-02-09T10:28:04.495679Z"
    },
    "trusted": true
   },
   "outputs": [
    {
     "name": "stdout",
     "output_type": "stream",
     "text": [
      "{'eval_loss': 0.1302179992198944, 'eval_precision': 0.8887576759565423, 'eval_recall': 0.8931877521955851, 'eval_f1': 0.8909672072925299, 'eval_accuracy': 0.9747427663835371, 'eval_runtime': 4.4779, 'eval_samples_per_second': 771.116, 'eval_steps_per_second': 48.237, 'epoch': 6.0}\n"
     ]
    }
   ],
   "source": [
    "test_results = trainer.evaluate(tokenized_datasets[\"test\"])\n",
    "print(test_results)\n"
   ]
  },
  {
   "cell_type": "code",
   "execution_count": 147,
   "metadata": {
    "execution": {
     "iopub.execute_input": "2025-02-09T10:28:41.300564Z",
     "iopub.status.busy": "2025-02-09T10:28:41.300226Z",
     "iopub.status.idle": "2025-02-09T10:28:47.212125Z",
     "shell.execute_reply": "2025-02-09T10:28:47.211252Z",
     "shell.execute_reply.started": "2025-02-09T10:28:41.300538Z"
    },
    "id": "7tst3ADYq4mr",
    "outputId": "49eb9210-f576-404c-ab7b-5b38843a3447",
    "trusted": true
   },
   "outputs": [
    {
     "name": "stdout",
     "output_type": "stream",
     "text": [
      "Validation set:\n"
     ]
    },
    {
     "data": {
      "text/plain": [
       "{'LOC': {'precision': 0.9549754067347711,\n",
       "  'recall': 0.9640947288006112,\n",
       "  'f1': 0.9595134004942026,\n",
       "  'number': 2618},\n",
       " 'MISC': {'precision': 0.8406374501992032,\n",
       "  'recall': 0.8570268074735987,\n",
       "  'f1': 0.8487530168946099,\n",
       "  'number': 1231},\n",
       " 'ORG': {'precision': 0.90478515625,\n",
       "  'recall': 0.9012645914396887,\n",
       "  'f1': 0.9030214424951267,\n",
       "  'number': 2056},\n",
       " 'PER': {'precision': 0.9724770642201835,\n",
       "  'recall': 0.978246539222149,\n",
       "  'f1': 0.97535326979954,\n",
       "  'number': 3034},\n",
       " 'overall_precision': 0.9335407868415203,\n",
       " 'overall_recall': 0.9397024275646045,\n",
       " 'overall_f1': 0.9366114734905503,\n",
       " 'overall_accuracy': 0.9843995742449998}"
      ]
     },
     "execution_count": 147,
     "metadata": {},
     "output_type": "execute_result"
    }
   ],
   "source": [
    "predictions, labels, _ = trainer.predict(tokenized_datasets[\"validation\"])\n",
    "predictions = np.argmax(predictions, axis=2)\n",
    "\n",
    "# Remove ignored index (special tokens)\n",
    "true_predictions = [\n",
    "    [label_list[p] for (p, l) in zip(prediction, label) if l != -100]\n",
    "    for prediction, label in zip(predictions, labels)\n",
    "]\n",
    "true_labels = [\n",
    "    [label_list[l] for (p, l) in zip(prediction, label) if l != -100]\n",
    "    for prediction, label in zip(predictions, labels)\n",
    "]\n",
    "\n",
    "results = metric.compute(predictions=true_predictions, references=true_labels)\n",
    "print('Validation set:')\n",
    "results"
   ]
  },
  {
   "cell_type": "code",
   "execution_count": 149,
   "metadata": {
    "execution": {
     "iopub.execute_input": "2025-02-09T10:29:52.735382Z",
     "iopub.status.busy": "2025-02-09T10:29:52.735026Z",
     "iopub.status.idle": "2025-02-09T10:29:58.134177Z",
     "shell.execute_reply": "2025-02-09T10:29:58.133322Z",
     "shell.execute_reply.started": "2025-02-09T10:29:52.735332Z"
    },
    "trusted": true
   },
   "outputs": [
    {
     "data": {
      "text/html": [],
      "text/plain": [
       "<IPython.core.display.HTML object>"
      ]
     },
     "metadata": {},
     "output_type": "display_data"
    },
    {
     "name": "stdout",
     "output_type": "stream",
     "text": [
      "Test set:\n"
     ]
    },
    {
     "data": {
      "text/plain": [
       "{'LOC': {'precision': 0.8725663716814159,\n",
       "  'recall': 0.928436911487759,\n",
       "  'f1': 0.8996350364963505,\n",
       "  'number': 2124},\n",
       " 'MISC': {'precision': 0.7585492227979275,\n",
       "  'recall': 0.7349397590361446,\n",
       "  'f1': 0.7465578786333503,\n",
       "  'number': 996},\n",
       " 'ORG': {'precision': 0.875245966155057,\n",
       "  'recall': 0.8593508500772797,\n",
       "  'f1': 0.8672255800350945,\n",
       "  'number': 2588},\n",
       " 'PER': {'precision': 0.9615099925980755,\n",
       "  'recall': 0.9558498896247241,\n",
       "  'f1': 0.958671586715867,\n",
       "  'number': 2718},\n",
       " 'overall_precision': 0.8887576759565423,\n",
       " 'overall_recall': 0.8931877521955851,\n",
       " 'overall_f1': 0.8909672072925299,\n",
       " 'overall_accuracy': 0.9747427663835371}"
      ]
     },
     "execution_count": 149,
     "metadata": {},
     "output_type": "execute_result"
    }
   ],
   "source": [
    "predictions, labels, _ = trainer.predict(tokenized_datasets[\"test\"])\n",
    "predictions = np.argmax(predictions, axis=2)\n",
    "\n",
    "# Remove ignored index (special tokens)\n",
    "true_predictions = [\n",
    "    [label_list[p] for (p, l) in zip(prediction, label) if l != -100]\n",
    "    for prediction, label in zip(predictions, labels)\n",
    "]\n",
    "true_labels = [\n",
    "    [label_list[l] for (p, l) in zip(prediction, label) if l != -100]\n",
    "    for prediction, label in zip(predictions, labels)\n",
    "]\n",
    "\n",
    "results = metric.compute(predictions=true_predictions, references=true_labels)\n",
    "print('Test set:')\n",
    "results"
   ]
  }
 ],
 "metadata": {
  "colab": {
   "provenance": []
  },
  "kaggle": {
   "accelerator": "gpu",
   "dataSources": [],
   "isGpuEnabled": true,
   "isInternetEnabled": true,
   "language": "python",
   "sourceType": "notebook"
  },
  "kernelspec": {
   "display_name": "Python 3",
   "language": "python",
   "name": "python3"
  },
  "language_info": {
   "codemirror_mode": {
    "name": "ipython",
    "version": 3
   },
   "file_extension": ".py",
   "mimetype": "text/x-python",
   "name": "python",
   "nbconvert_exporter": "python",
   "pygments_lexer": "ipython3",
   "version": "3.10.12"
  }
 },
 "nbformat": 4,
 "nbformat_minor": 4
}
