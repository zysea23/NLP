{
 "cells": [
  {
   "cell_type": "markdown",
   "metadata": {},
   "source": [
    "# Named Entity Recognition with CRF on CoNLL-2003 dataset"
   ]
  },
  {
   "cell_type": "markdown",
   "metadata": {},
   "source": [
    "# 1. Data Loading and Overview\n",
    "- Dataset: https://huggingface.co/datasets/eriktks/conll2003"
   ]
  },
  {
   "cell_type": "code",
   "execution_count": 106,
   "metadata": {},
   "outputs": [],
   "source": [
    "import sklearn_crfsuite\n",
    "from sklearn_crfsuite import metrics\n",
    "from datasets import load_dataset\n",
    "from seqeval.metrics import f1_score, classification_report\n",
    "from seqeval.metrics import f1_score as seqeval_f1_score, classification_report as seqeval_classification_report\n",
    "\n"
   ]
  },
  {
   "cell_type": "code",
   "execution_count": 107,
   "metadata": {},
   "outputs": [
    {
     "name": "stderr",
     "output_type": "stream",
     "text": [
      "Found cached dataset conll2003 (/Users/peiyulin/.cache/huggingface/datasets/eriktks___conll2003/conll2003/1.0.0/9a4d16a94f8674ba3466315300359b0acd891b68b6c8743ddf60b9c702adce98)\n"
     ]
    },
    {
     "data": {
      "application/vnd.jupyter.widget-view+json": {
       "model_id": "5976023e4db84391bf11b5a6f2aad47a",
       "version_major": 2,
       "version_minor": 0
      },
      "text/plain": [
       "  0%|          | 0/3 [00:00<?, ?it/s]"
      ]
     },
     "metadata": {},
     "output_type": "display_data"
    },
    {
     "name": "stdout",
     "output_type": "stream",
     "text": [
      "DatasetDict({\n",
      "    train: Dataset({\n",
      "        features: ['id', 'tokens', 'pos_tags', 'chunk_tags', 'ner_tags'],\n",
      "        num_rows: 14041\n",
      "    })\n",
      "    validation: Dataset({\n",
      "        features: ['id', 'tokens', 'pos_tags', 'chunk_tags', 'ner_tags'],\n",
      "        num_rows: 3250\n",
      "    })\n",
      "    test: Dataset({\n",
      "        features: ['id', 'tokens', 'pos_tags', 'chunk_tags', 'ner_tags'],\n",
      "        num_rows: 3453\n",
      "    })\n",
      "})\n"
     ]
    }
   ],
   "source": [
    "# Load CoNLL-2003 dataset\n",
    "dataset = load_dataset(\"eriktks/conll2003\")\n",
    "print(dataset)\n",
    "\n",
    "train_data = dataset['train']\n",
    "valid_data = dataset['validation']\n",
    "test_data = dataset['test']"
   ]
  },
  {
   "cell_type": "code",
   "execution_count": 108,
   "metadata": {},
   "outputs": [
    {
     "data": {
      "text/plain": [
       "{'id': '0',\n",
       " 'tokens': ['EU',\n",
       "  'rejects',\n",
       "  'German',\n",
       "  'call',\n",
       "  'to',\n",
       "  'boycott',\n",
       "  'British',\n",
       "  'lamb',\n",
       "  '.'],\n",
       " 'pos_tags': [22, 42, 16, 21, 35, 37, 16, 21, 7],\n",
       " 'chunk_tags': [11, 21, 11, 12, 21, 22, 11, 12, 0],\n",
       " 'ner_tags': [3, 0, 7, 0, 0, 0, 7, 0, 0]}"
      ]
     },
     "execution_count": 108,
     "metadata": {},
     "output_type": "execute_result"
    }
   ],
   "source": [
    "# Check the first  examples\n",
    "train_data[0]\n",
    "# print(valid_data[:2])\n",
    "# print(test_data[:2])"
   ]
  },
  {
   "cell_type": "code",
   "execution_count": 109,
   "metadata": {},
   "outputs": [
    {
     "data": {
      "text/plain": [
       "['O', 'B-PER', 'I-PER', 'B-ORG', 'I-ORG', 'B-LOC', 'I-LOC', 'B-MISC', 'I-MISC']"
      ]
     },
     "execution_count": 109,
     "metadata": {},
     "output_type": "execute_result"
    }
   ],
   "source": [
    "# Get the mapping from integer labels to actual NER tags (e.g., 'O', 'B-PER', etc.)\n",
    "ner_tag_names = dataset['train'].features['ner_tags'].feature.names\n",
    "\n",
    "ner_tag_names "
   ]
  },
  {
   "cell_type": "markdown",
   "metadata": {},
   "source": [
    "## Data Features and Tags\n",
    "\n",
    "- id: a string feature.\n",
    "\n",
    "- tokens: a list of string features.\n",
    "\n",
    "- pos_tags: a list of classification labels (int). Full tagset with indices:\n",
    "`{'\"': 0, \"''\": 1, '#': 2, '$': 3, '(': 4, ')': 5, ',': 6, '.': 7, ':': 8, '``': 9, 'CC': 10, 'CD': 11, 'DT': 12, 'EX': 13, 'FW': 14, 'IN': 15, 'JJ': 16, 'JJR': 17, 'JJS': 18, 'LS': 19, 'MD': 20, 'NN': 21, 'NNP': 22, 'NNPS': 23, 'NNS': 24, 'NN|SYM': 25, 'PDT': 26, 'POS': 27, 'PRP': 28, 'PRP$': 29, 'RB': 30, 'RBR': 31, 'RBS': 32, 'RP': 33, 'SYM': 34, 'TO': 35, 'UH': 36, 'VB': 37, 'VBD': 38, 'VBG': 39, 'VBN': 40, 'VBP': 41, 'VBZ': 42, 'WDT': 43, 'WP': 44, 'WP$': 45, 'WRB': 46}`\n",
    "\n",
    "\n",
    "\n",
    "- chunk_tags: a list of classification labels (int). Full tagset with indices:\n",
    "`{'O': 0, 'B-ADJP': 1, 'I-ADJP': 2, 'B-ADVP': 3, 'I-ADVP': 4, 'B-CONJP': 5, 'I-CONJP': 6, 'B-INTJ': 7, 'I-INTJ': 8,\n",
    " 'B-LST': 9, 'I-LST': 10, 'B-NP': 11, 'I-NP': 12, 'B-PP': 13, 'I-PP': 14, 'B-PRT': 15, 'I-PRT': 16, 'B-SBAR': 17,\n",
    " 'I-SBAR': 18, 'B-UCP': 19, 'I-UCP': 20, 'B-VP': 21, 'I-VP': 22}`\n",
    "\n",
    "- ner_tags: a list of classification labels (int). Full tagset with indices:\n",
    "`{'O': 0, 'B-PER': 1, 'I-PER': 2, 'B-ORG': 3, 'I-ORG': 4, 'B-LOC': 5, 'I-LOC': 6, 'B-MISC': 7, 'I-MISC': 8}`"
   ]
  },
  {
   "cell_type": "markdown",
   "metadata": {},
   "source": [
    "# 2.Feature Engineering"
   ]
  },
  {
   "cell_type": "markdown",
   "metadata": {},
   "source": [
    "### Prefix and suffix\n",
    "I additionally incorporated the first 2–3 and last 2–3 characters of each word as features, which led to a slight improvement in the model's F1-score. This suggests that the prefix and suffix of a word provide useful contextual information for NER.\n",
    "\n",
    "However, when I further included only the first and last character of each word as features, the F1-score decreased instead. This indicates that considering only the very first and last character introduces noise rather than contributing meaningful information."
   ]
  },
  {
   "cell_type": "code",
   "execution_count": 110,
   "metadata": {},
   "outputs": [],
   "source": [
    "# Feature extraction function\n",
    "def word2features(tokens, pos_tags, chunk_tags, i):\n",
    "    \"\"\"Extract features for a given word in a sentence.\"\"\"\n",
    "    word = tokens[i]\n",
    "    postag = pos_tags[i]\n",
    "    chunktag = chunk_tags[i]\n",
    "\n",
    "    # Basic Features\n",
    "    features = {\n",
    "        'word.lower()': word.lower(),\n",
    "        'word.isupper()': word.isupper(),\n",
    "        'word.istitle()': word.istitle(),\n",
    "        'word.isdigit()': word.isdigit(),\n",
    "        'word[-3:]': word[-3:],  \n",
    "        'word[-2:]': word[-2:],  \n",
    "        # 'word[-1:]': word[-1:],  # not helpful\n",
    "        'word[:3]': word[:3],  \n",
    "        'word[:2]': word[:2],    \n",
    "        # 'word[:1]': word[:1],    # not helpful\n",
    "        'postag': postag,\n",
    "        'chunktag': chunktag,\n",
    "    }\n",
    "\n",
    "    # Features from the previous word\n",
    "    if i > 0:\n",
    "        features.update({\n",
    "            '-1:word.lower()': tokens[i - 1].lower(),\n",
    "            '-1:postag': pos_tags[i - 1],\n",
    "            '-1:chunktag': chunk_tags[i - 1],\n",
    "        })\n",
    "    else:\n",
    "        features['BOS'] = True  # Beginning of sentence\n",
    "\n",
    "    # Features from the next word\n",
    "    if i < len(tokens) - 1:\n",
    "        features.update({\n",
    "            '+1:word.lower()': tokens[i + 1].lower(),\n",
    "            '+1:postag': pos_tags[i + 1],\n",
    "            '+1:chunktag': chunk_tags[i + 1],\n",
    "        })\n",
    "    else:\n",
    "        features['EOS'] = True  # End of sentence\n",
    "\n",
    "    return features\n",
    "\n",
    "def sent2features(tokens, pos_tags, chunk_tags):\n",
    "    \"\"\"Convert a sentence into feature vectors.\"\"\"\n",
    "    return [word2features(tokens, pos_tags, chunk_tags, i) for i in range(len(tokens))]\n",
    "\n",
    "def sent2labels(ner_tags):\n",
    "    \"\"\"Convert integer NER labels to actual string labels for CRF training.\"\"\"\n",
    "    return [ner_tag_names[label] for label in ner_tags]\n"
   ]
  },
  {
   "cell_type": "code",
   "execution_count": 111,
   "metadata": {},
   "outputs": [],
   "source": [
    "X_train = [sent2features(tokens, pos_tags, chunk_tags) for tokens, pos_tags,chunk_tags in zip(train_data['tokens'], train_data['pos_tags'],train_data['chunk_tags'])]\n",
    "y_train = [sent2labels(tags) for tags in train_data['ner_tags']]\n",
    "\n",
    "X_valid = [sent2features(tokens, pos_tags, chunk_tags) for tokens, pos_tags,chunk_tags in zip(valid_data['tokens'], valid_data['pos_tags'],valid_data['chunk_tags'])]\n",
    "y_valid = [sent2labels(tags) for tags in valid_data['ner_tags']]\n",
    "\n",
    "X_test = [sent2features(tokens, pos_tags, chunk_tags) for tokens, pos_tags,chunk_tags in zip(test_data['tokens'], test_data['pos_tags'],test_data['chunk_tags'])]\n",
    "y_test = [sent2labels(tags) for tags in test_data['ner_tags']]"
   ]
  },
  {
   "cell_type": "code",
   "execution_count": 112,
   "metadata": {},
   "outputs": [
    {
     "data": {
      "text/plain": [
       "[{'word.lower()': 'eu',\n",
       "  'word.isupper()': True,\n",
       "  'word.istitle()': False,\n",
       "  'word.isdigit()': False,\n",
       "  'word[-3:]': 'EU',\n",
       "  'word[-2:]': 'EU',\n",
       "  'word[:3]': 'EU',\n",
       "  'word[:2]': 'EU',\n",
       "  'postag': 22,\n",
       "  'chunktag': 11,\n",
       "  'BOS': True,\n",
       "  '+1:word.lower()': 'rejects',\n",
       "  '+1:postag': 42,\n",
       "  '+1:chunktag': 21},\n",
       " {'word.lower()': 'rejects',\n",
       "  'word.isupper()': False,\n",
       "  'word.istitle()': False,\n",
       "  'word.isdigit()': False,\n",
       "  'word[-3:]': 'cts',\n",
       "  'word[-2:]': 'ts',\n",
       "  'word[:3]': 'rej',\n",
       "  'word[:2]': 're',\n",
       "  'postag': 42,\n",
       "  'chunktag': 21,\n",
       "  '-1:word.lower()': 'eu',\n",
       "  '-1:postag': 22,\n",
       "  '-1:chunktag': 11,\n",
       "  '+1:word.lower()': 'german',\n",
       "  '+1:postag': 16,\n",
       "  '+1:chunktag': 11},\n",
       " {'word.lower()': 'german',\n",
       "  'word.isupper()': False,\n",
       "  'word.istitle()': True,\n",
       "  'word.isdigit()': False,\n",
       "  'word[-3:]': 'man',\n",
       "  'word[-2:]': 'an',\n",
       "  'word[:3]': 'Ger',\n",
       "  'word[:2]': 'Ge',\n",
       "  'postag': 16,\n",
       "  'chunktag': 11,\n",
       "  '-1:word.lower()': 'rejects',\n",
       "  '-1:postag': 42,\n",
       "  '-1:chunktag': 21,\n",
       "  '+1:word.lower()': 'call',\n",
       "  '+1:postag': 21,\n",
       "  '+1:chunktag': 12},\n",
       " {'word.lower()': 'call',\n",
       "  'word.isupper()': False,\n",
       "  'word.istitle()': False,\n",
       "  'word.isdigit()': False,\n",
       "  'word[-3:]': 'all',\n",
       "  'word[-2:]': 'll',\n",
       "  'word[:3]': 'cal',\n",
       "  'word[:2]': 'ca',\n",
       "  'postag': 21,\n",
       "  'chunktag': 12,\n",
       "  '-1:word.lower()': 'german',\n",
       "  '-1:postag': 16,\n",
       "  '-1:chunktag': 11,\n",
       "  '+1:word.lower()': 'to',\n",
       "  '+1:postag': 35,\n",
       "  '+1:chunktag': 21},\n",
       " {'word.lower()': 'to',\n",
       "  'word.isupper()': False,\n",
       "  'word.istitle()': False,\n",
       "  'word.isdigit()': False,\n",
       "  'word[-3:]': 'to',\n",
       "  'word[-2:]': 'to',\n",
       "  'word[:3]': 'to',\n",
       "  'word[:2]': 'to',\n",
       "  'postag': 35,\n",
       "  'chunktag': 21,\n",
       "  '-1:word.lower()': 'call',\n",
       "  '-1:postag': 21,\n",
       "  '-1:chunktag': 12,\n",
       "  '+1:word.lower()': 'boycott',\n",
       "  '+1:postag': 37,\n",
       "  '+1:chunktag': 22},\n",
       " {'word.lower()': 'boycott',\n",
       "  'word.isupper()': False,\n",
       "  'word.istitle()': False,\n",
       "  'word.isdigit()': False,\n",
       "  'word[-3:]': 'ott',\n",
       "  'word[-2:]': 'tt',\n",
       "  'word[:3]': 'boy',\n",
       "  'word[:2]': 'bo',\n",
       "  'postag': 37,\n",
       "  'chunktag': 22,\n",
       "  '-1:word.lower()': 'to',\n",
       "  '-1:postag': 35,\n",
       "  '-1:chunktag': 21,\n",
       "  '+1:word.lower()': 'british',\n",
       "  '+1:postag': 16,\n",
       "  '+1:chunktag': 11},\n",
       " {'word.lower()': 'british',\n",
       "  'word.isupper()': False,\n",
       "  'word.istitle()': True,\n",
       "  'word.isdigit()': False,\n",
       "  'word[-3:]': 'ish',\n",
       "  'word[-2:]': 'sh',\n",
       "  'word[:3]': 'Bri',\n",
       "  'word[:2]': 'Br',\n",
       "  'postag': 16,\n",
       "  'chunktag': 11,\n",
       "  '-1:word.lower()': 'boycott',\n",
       "  '-1:postag': 37,\n",
       "  '-1:chunktag': 22,\n",
       "  '+1:word.lower()': 'lamb',\n",
       "  '+1:postag': 21,\n",
       "  '+1:chunktag': 12},\n",
       " {'word.lower()': 'lamb',\n",
       "  'word.isupper()': False,\n",
       "  'word.istitle()': False,\n",
       "  'word.isdigit()': False,\n",
       "  'word[-3:]': 'amb',\n",
       "  'word[-2:]': 'mb',\n",
       "  'word[:3]': 'lam',\n",
       "  'word[:2]': 'la',\n",
       "  'postag': 21,\n",
       "  'chunktag': 12,\n",
       "  '-1:word.lower()': 'british',\n",
       "  '-1:postag': 16,\n",
       "  '-1:chunktag': 11,\n",
       "  '+1:word.lower()': '.',\n",
       "  '+1:postag': 7,\n",
       "  '+1:chunktag': 0},\n",
       " {'word.lower()': '.',\n",
       "  'word.isupper()': False,\n",
       "  'word.istitle()': False,\n",
       "  'word.isdigit()': False,\n",
       "  'word[-3:]': '.',\n",
       "  'word[-2:]': '.',\n",
       "  'word[:3]': '.',\n",
       "  'word[:2]': '.',\n",
       "  'postag': 7,\n",
       "  'chunktag': 0,\n",
       "  '-1:word.lower()': 'lamb',\n",
       "  '-1:postag': 21,\n",
       "  '-1:chunktag': 12,\n",
       "  'EOS': True}]"
      ]
     },
     "execution_count": 112,
     "metadata": {},
     "output_type": "execute_result"
    }
   ],
   "source": [
    "X_train[0]"
   ]
  },
  {
   "cell_type": "code",
   "execution_count": 113,
   "metadata": {},
   "outputs": [
    {
     "data": {
      "text/plain": [
       "['B-ORG', 'O', 'B-MISC', 'O', 'O', 'O', 'B-MISC', 'O', 'O']"
      ]
     },
     "execution_count": 113,
     "metadata": {},
     "output_type": "execute_result"
    }
   ],
   "source": [
    "y_train[0]"
   ]
  },
  {
   "cell_type": "markdown",
   "metadata": {},
   "source": [
    "# 3. Model Training"
   ]
  },
  {
   "cell_type": "code",
   "execution_count": 114,
   "metadata": {},
   "outputs": [
    {
     "data": {
      "text/html": [
       "<style>#sk-container-id-8 {color: black;}#sk-container-id-8 pre{padding: 0;}#sk-container-id-8 div.sk-toggleable {background-color: white;}#sk-container-id-8 label.sk-toggleable__label {cursor: pointer;display: block;width: 100%;margin-bottom: 0;padding: 0.3em;box-sizing: border-box;text-align: center;}#sk-container-id-8 label.sk-toggleable__label-arrow:before {content: \"▸\";float: left;margin-right: 0.25em;color: #696969;}#sk-container-id-8 label.sk-toggleable__label-arrow:hover:before {color: black;}#sk-container-id-8 div.sk-estimator:hover label.sk-toggleable__label-arrow:before {color: black;}#sk-container-id-8 div.sk-toggleable__content {max-height: 0;max-width: 0;overflow: hidden;text-align: left;background-color: #f0f8ff;}#sk-container-id-8 div.sk-toggleable__content pre {margin: 0.2em;color: black;border-radius: 0.25em;background-color: #f0f8ff;}#sk-container-id-8 input.sk-toggleable__control:checked~div.sk-toggleable__content {max-height: 200px;max-width: 100%;overflow: auto;}#sk-container-id-8 input.sk-toggleable__control:checked~label.sk-toggleable__label-arrow:before {content: \"▾\";}#sk-container-id-8 div.sk-estimator input.sk-toggleable__control:checked~label.sk-toggleable__label {background-color: #d4ebff;}#sk-container-id-8 div.sk-label input.sk-toggleable__control:checked~label.sk-toggleable__label {background-color: #d4ebff;}#sk-container-id-8 input.sk-hidden--visually {border: 0;clip: rect(1px 1px 1px 1px);clip: rect(1px, 1px, 1px, 1px);height: 1px;margin: -1px;overflow: hidden;padding: 0;position: absolute;width: 1px;}#sk-container-id-8 div.sk-estimator {font-family: monospace;background-color: #f0f8ff;border: 1px dotted black;border-radius: 0.25em;box-sizing: border-box;margin-bottom: 0.5em;}#sk-container-id-8 div.sk-estimator:hover {background-color: #d4ebff;}#sk-container-id-8 div.sk-parallel-item::after {content: \"\";width: 100%;border-bottom: 1px solid gray;flex-grow: 1;}#sk-container-id-8 div.sk-label:hover label.sk-toggleable__label {background-color: #d4ebff;}#sk-container-id-8 div.sk-serial::before {content: \"\";position: absolute;border-left: 1px solid gray;box-sizing: border-box;top: 0;bottom: 0;left: 50%;z-index: 0;}#sk-container-id-8 div.sk-serial {display: flex;flex-direction: column;align-items: center;background-color: white;padding-right: 0.2em;padding-left: 0.2em;position: relative;}#sk-container-id-8 div.sk-item {position: relative;z-index: 1;}#sk-container-id-8 div.sk-parallel {display: flex;align-items: stretch;justify-content: center;background-color: white;position: relative;}#sk-container-id-8 div.sk-item::before, #sk-container-id-8 div.sk-parallel-item::before {content: \"\";position: absolute;border-left: 1px solid gray;box-sizing: border-box;top: 0;bottom: 0;left: 50%;z-index: -1;}#sk-container-id-8 div.sk-parallel-item {display: flex;flex-direction: column;z-index: 1;position: relative;background-color: white;}#sk-container-id-8 div.sk-parallel-item:first-child::after {align-self: flex-end;width: 50%;}#sk-container-id-8 div.sk-parallel-item:last-child::after {align-self: flex-start;width: 50%;}#sk-container-id-8 div.sk-parallel-item:only-child::after {width: 0;}#sk-container-id-8 div.sk-dashed-wrapped {border: 1px dashed gray;margin: 0 0.4em 0.5em 0.4em;box-sizing: border-box;padding-bottom: 0.4em;background-color: white;}#sk-container-id-8 div.sk-label label {font-family: monospace;font-weight: bold;display: inline-block;line-height: 1.2em;}#sk-container-id-8 div.sk-label-container {text-align: center;}#sk-container-id-8 div.sk-container {/* jupyter's `normalize.less` sets `[hidden] { display: none; }` but bootstrap.min.css set `[hidden] { display: none !important; }` so we also need the `!important` here to be able to override the default hidden behavior on the sphinx rendered scikit-learn.org. See: https://github.com/scikit-learn/scikit-learn/issues/21755 */display: inline-block !important;position: relative;}#sk-container-id-8 div.sk-text-repr-fallback {display: none;}</style><div id=\"sk-container-id-8\" class=\"sk-top-container\"><div class=\"sk-text-repr-fallback\"><pre>CRF(algorithm=&#x27;lbfgs&#x27;, all_possible_transitions=True, c1=0.1, c2=0.2,\n",
       "    max_iterations=100)</pre><b>In a Jupyter environment, please rerun this cell to show the HTML representation or trust the notebook. <br />On GitHub, the HTML representation is unable to render, please try loading this page with nbviewer.org.</b></div><div class=\"sk-container\" hidden><div class=\"sk-item\"><div class=\"sk-estimator sk-toggleable\"><input class=\"sk-toggleable__control sk-hidden--visually\" id=\"sk-estimator-id-8\" type=\"checkbox\" checked><label for=\"sk-estimator-id-8\" class=\"sk-toggleable__label sk-toggleable__label-arrow\">CRF</label><div class=\"sk-toggleable__content\"><pre>CRF(algorithm=&#x27;lbfgs&#x27;, all_possible_transitions=True, c1=0.1, c2=0.2,\n",
       "    max_iterations=100)</pre></div></div></div></div></div>"
      ],
      "text/plain": [
       "CRF(algorithm='lbfgs', all_possible_transitions=True, c1=0.1, c2=0.2,\n",
       "    max_iterations=100)"
      ]
     },
     "execution_count": 114,
     "metadata": {},
     "output_type": "execute_result"
    }
   ],
   "source": [
    "# Train CRF model\n",
    "crf = sklearn_crfsuite.CRF(\n",
    "    algorithm='lbfgs',\n",
    "    c1=0.1,  # L1 regularization\n",
    "    c2=0.2,  # L2 regularization\n",
    "    max_iterations=100,\n",
    "    all_possible_transitions=True\n",
    ")\n",
    "crf.fit(X_train, y_train)"
   ]
  },
  {
   "cell_type": "markdown",
   "metadata": {},
   "source": [
    "# 4. Model Evaluation"
   ]
  },
  {
   "cell_type": "markdown",
   "metadata": {},
   "source": [
    "## Use F1_score as Metric\n",
    "- Balances Precision & Recall: Ensures both correct identification and coverage of entities.\n",
    "- Handles Class Imbalance: Useful when entity occurrences vary.\n",
    "- Single Performance Metric: Provides a unified measure for comparison.\n"
   ]
  },
  {
   "cell_type": "code",
   "execution_count": 115,
   "metadata": {},
   "outputs": [
    {
     "name": "stdout",
     "output_type": "stream",
     "text": [
      "Entity-level classification report on validation set:\n",
      "              precision    recall  f1-score   support\n",
      "\n",
      "         LOC       0.92      0.88      0.90      1837\n",
      "        MISC       0.92      0.83      0.87       922\n",
      "         ORG       0.84      0.79      0.81      1341\n",
      "         PER       0.90      0.88      0.89      1842\n",
      "\n",
      "   micro avg       0.89      0.85      0.87      5942\n",
      "   macro avg       0.89      0.84      0.87      5942\n",
      "weighted avg       0.89      0.85      0.87      5942\n",
      "\n",
      "Entity-level F1 score on validation set: 0.8716\n"
     ]
    }
   ],
   "source": [
    "# Evaluate the model on the valid set with CRF\n",
    "y_valid_pred = crf.predict(X_valid)\n",
    "\n",
    "# Print entity-level classification report\n",
    "print(\"Entity-level classification report on validation set:\")\n",
    "print(seqeval_classification_report(y_valid, y_valid_pred))\n",
    "\n",
    "# Print entity-level F1 score\n",
    "print(\"Entity-level F1 score on validation set: {:.4f}\".format(seqeval_f1_score(y_valid, y_valid_pred)))\n"
   ]
  },
  {
   "cell_type": "code",
   "execution_count": 116,
   "metadata": {},
   "outputs": [
    {
     "name": "stdout",
     "output_type": "stream",
     "text": [
      "Entity-level classification report:\n",
      "              precision    recall  f1-score   support\n",
      "\n",
      "         LOC       0.84      0.82      0.83      1668\n",
      "        MISC       0.80      0.73      0.76       702\n",
      "         ORG       0.77      0.66      0.71      1661\n",
      "         PER       0.83      0.83      0.83      1617\n",
      "\n",
      "   micro avg       0.81      0.77      0.79      5648\n",
      "   macro avg       0.81      0.76      0.78      5648\n",
      "weighted avg       0.81      0.77      0.79      5648\n",
      "\n",
      "Entity-level F1 score on test set: 0.7892\n"
     ]
    }
   ],
   "source": [
    "# Evaluate the model on the test set with CRF\n",
    "y_test_pred = crf.predict(X_test)\n",
    "\n",
    "# Print entity-level classification report\n",
    "print(\"Entity-level classification report:\")\n",
    "print(seqeval_classification_report(y_test, y_test_pred))\n",
    "\n",
    "# Print entity-level F1 score\n",
    "print(\"Entity-level F1 score on test set: {:.4f}\".format(seqeval_f1_score(y_test, y_test_pred)))\n"
   ]
  },
  {
   "cell_type": "code",
   "execution_count": 117,
   "metadata": {},
   "outputs": [
    {
     "data": {
      "image/png": "[encoded data removed]",
      "text/plain": [
       "<Figure size 1000x800 with 2 Axes>"
      ]
     },
     "metadata": {},
     "output_type": "display_data"
    }
   ],
   "source": [
    "from sklearn.metrics import confusion_matrix\n",
    "import numpy as np\n",
    "\n",
    "labels = list(crf.classes_)\n",
    "y_true = np.concatenate(y_test)\n",
    "y_pred = np.concatenate(y_test_pred)\n",
    "\n",
    "conf_matrix = confusion_matrix(y_true, y_pred, labels=labels)\n",
    "\n",
    "import seaborn as sns\n",
    "import matplotlib.pyplot as plt\n",
    "\n",
    "plt.figure(figsize=(10, 8))\n",
    "sns.heatmap(conf_matrix, annot=True, fmt='d', xticklabels=labels, yticklabels=labels)\n",
    "plt.xlabel(\"Predicted\")\n",
    "plt.ylabel(\"Actual\")\n",
    "plt.title(\"Confusion Matrix\")\n",
    "plt.show()\n"
   ]
  },
  {
   "cell_type": "markdown",
   "metadata": {},
   "source": [
    "# 5. Hyperparameter Fine-tuning"
   ]
  },
  {
   "cell_type": "markdown",
   "metadata": {},
   "source": [
    "### Fine-tune c1 and c2\n",
    "- Best parameters by GridSearchCV is c1=0.01, c2=0.01\n",
    "- Compared to c1=0.1,c2=0.2, F1_score: 0.7892 -> 0.7914"
   ]
  },
  {
   "cell_type": "code",
   "execution_count": 119,
   "metadata": {},
   "outputs": [
    {
     "name": "stdout",
     "output_type": "stream",
     "text": [
      "Fitting 3 folds for each of 16 candidates, totalling 48 fits\n",
      "Best parameters: {'c1': 0.01, 'c2': 0.01}\n"
     ]
    }
   ],
   "source": [
    "# from sklearn_crfsuite import CRF\n",
    "# from sklearn.model_selection import GridSearchCV\n",
    "# from seqeval.metrics import f1_score as seqeval_f1_score\n",
    "# from sklearn.metrics import make_scorer\n",
    "\n",
    "# # Define a custom scoring function for entity-level F1-score\n",
    "# def entity_f1_score(y_true, y_pred):\n",
    "#     return seqeval_f1_score(y_true, y_pred)\n",
    "\n",
    "# # Wrap it using make_scorer so GridSearchCV can use it\n",
    "# f1_scorer = make_scorer(entity_f1_score)\n",
    "\n",
    "# # Define the hyperparameter grid\n",
    "# param_space = {\n",
    "#     'c1': [0.01, 0.05, 0.1, 0.2],\n",
    "#     'c2': [0.01, 0.05, 0.1, 0.2],\n",
    "# }\n",
    "\n",
    "# # Initialize CRF model\n",
    "# crf = CRF(\n",
    "#     algorithm='lbfgs',\n",
    "#     max_iterations=100,\n",
    "#     all_possible_transitions=True\n",
    "# )\n",
    "\n",
    "# # Perform Grid Search with the custom F1 scorer\n",
    "# rs = GridSearchCV(crf, param_space, cv=3, verbose=1, n_jobs=-1, scoring=f1_scorer)\n",
    "# rs.fit(X_train, y_train)\n",
    "\n",
    "# # Print the best hyperparameters\n",
    "# print(\"Best parameters:\", rs.best_params_)\n"
   ]
  },
  {
   "cell_type": "code",
   "execution_count": 125,
   "metadata": {},
   "outputs": [
    {
     "name": "stdout",
     "output_type": "stream",
     "text": [
      "Entity-level classification report on validation set:\n",
      "              precision    recall  f1-score   support\n",
      "\n",
      "         LOC       0.92      0.89      0.90      1837\n",
      "        MISC       0.91      0.83      0.87       922\n",
      "         ORG       0.84      0.79      0.82      1341\n",
      "         PER       0.90      0.89      0.90      1842\n",
      "\n",
      "   micro avg       0.90      0.86      0.88      5942\n",
      "   macro avg       0.89      0.85      0.87      5942\n",
      "weighted avg       0.90      0.86      0.88      5942\n",
      "\n",
      "Entity-level F1 score on validation set: 0.8770\n",
      "Entity-level classification report:\n",
      "              precision    recall  f1-score   support\n",
      "\n",
      "         LOC       0.83      0.83      0.83      1668\n",
      "        MISC       0.79      0.75      0.77       702\n",
      "         ORG       0.76      0.67      0.72      1661\n",
      "         PER       0.85      0.83      0.84      1617\n",
      "\n",
      "   micro avg       0.81      0.77      0.79      5648\n",
      "   macro avg       0.81      0.77      0.79      5648\n",
      "weighted avg       0.81      0.77      0.79      5648\n",
      "\n",
      "Entity-level F1 score on test set: 0.7914\n"
     ]
    }
   ],
   "source": [
    "# Train CRF model\n",
    "crf = sklearn_crfsuite.CRF(\n",
    "    algorithm='lbfgs',\n",
    "    c1=0.01,  # L1 regularization\n",
    "    c2=0.01,  # L2 regularization\n",
    "    max_iterations=100,\n",
    "    all_possible_transitions=True\n",
    ")\n",
    "crf.fit(X_train, y_train)\n",
    "\n",
    "# Evaluate the model on the valid set with CRF\n",
    "y_valid_pred = crf.predict(X_valid)\n",
    "\n",
    "# Print entity-level classification report\n",
    "print(\"Entity-level classification report on validation set:\")\n",
    "print(seqeval_classification_report(y_valid, y_valid_pred))\n",
    "\n",
    "# Print entity-level F1 score\n",
    "print(\"Entity-level F1 score on validation set: {:.4f}\".format(seqeval_f1_score(y_valid, y_valid_pred)))\n",
    "\n",
    "# Evaluate the model on the test set with CRF\n",
    "y_test_pred = crf.predict(X_test)\n",
    "\n",
    "# Print entity-level classification report\n",
    "print(\"Entity-level classification report:\")\n",
    "print(seqeval_classification_report(y_test, y_test_pred))\n",
    "\n",
    "# Print entity-level F1 score\n",
    "print(\"Entity-level F1 score on test set: {:.4f}\".format(seqeval_f1_score(y_test, y_test_pred)))"
   ]
  },
  {
   "cell_type": "markdown",
   "metadata": {},
   "source": [
    "# 6. Misclassified Sample Analysis"
   ]
  },
  {
   "cell_type": "code",
   "execution_count": 44,
   "metadata": {},
   "outputs": [
    {
     "name": "stdout",
     "output_type": "stream",
     "text": [
      "Total errors: 2007\n",
      "[('CHINA', '1', '5'), ('Uzbek', '7', '0'), ('Bitar', '1', '3'), ('Bitar', '1', '3'), ('CUTTITTA', '1', '0'), ('ITALY', '5', '0'), ('ROME', '5', '0'), ('Cuttitta', '1', '5'), ('Cuttitta', '1', '3'), ('1995', '7', '0')]\n"
     ]
    }
   ],
   "source": [
    "from collections import Counter\n",
    "import pandas as pd\n",
    "import matplotlib.pyplot as plt\n",
    "import seaborn as sns\n",
    "import numpy as np\n",
    "\n",
    "# Step 1: Analyze misclassified entities\n",
    "errors = []\n",
    "for y_true_seq, y_pred_seq, tokens in zip(y_test, y_test_pred, test_data['tokens']):\n",
    "    for true_label, pred_label, token in zip(y_true_seq, y_pred_seq, tokens):\n",
    "        if true_label != pred_label:\n",
    "            errors.append((token, true_label, pred_label))\n",
    "\n",
    "print(f\"Total errors: {len(errors)}\")\n",
    "print(errors[:10])"
   ]
  },
  {
   "cell_type": "code",
   "execution_count": 45,
   "metadata": {},
   "outputs": [
    {
     "data": {
      "text/html": [
       "<div>\n",
       "<style scoped>\n",
       "    .dataframe tbody tr th:only-of-type {\n",
       "        vertical-align: middle;\n",
       "    }\n",
       "\n",
       "    .dataframe tbody tr th {\n",
       "        vertical-align: top;\n",
       "    }\n",
       "\n",
       "    .dataframe thead th {\n",
       "        text-align: right;\n",
       "    }\n",
       "</style>\n",
       "<table border=\"1\" class=\"dataframe\">\n",
       "  <thead>\n",
       "    <tr style=\"text-align: right;\">\n",
       "      <th></th>\n",
       "      <th>True Label</th>\n",
       "      <th>Predicted Label</th>\n",
       "      <th>Count</th>\n",
       "    </tr>\n",
       "  </thead>\n",
       "  <tbody>\n",
       "    <tr>\n",
       "      <th>21</th>\n",
       "      <td>3</td>\n",
       "      <td>0</td>\n",
       "      <td>169</td>\n",
       "    </tr>\n",
       "    <tr>\n",
       "      <th>25</th>\n",
       "      <td>3</td>\n",
       "      <td>5</td>\n",
       "      <td>148</td>\n",
       "    </tr>\n",
       "    <tr>\n",
       "      <th>3</th>\n",
       "      <td>0</td>\n",
       "      <td>4</td>\n",
       "      <td>114</td>\n",
       "    </tr>\n",
       "    <tr>\n",
       "      <th>22</th>\n",
       "      <td>3</td>\n",
       "      <td>1</td>\n",
       "      <td>108</td>\n",
       "    </tr>\n",
       "    <tr>\n",
       "      <th>37</th>\n",
       "      <td>5</td>\n",
       "      <td>0</td>\n",
       "      <td>107</td>\n",
       "    </tr>\n",
       "    <tr>\n",
       "      <th>8</th>\n",
       "      <td>1</td>\n",
       "      <td>0</td>\n",
       "      <td>102</td>\n",
       "    </tr>\n",
       "    <tr>\n",
       "      <th>40</th>\n",
       "      <td>5</td>\n",
       "      <td>3</td>\n",
       "      <td>91</td>\n",
       "    </tr>\n",
       "    <tr>\n",
       "      <th>10</th>\n",
       "      <td>1</td>\n",
       "      <td>3</td>\n",
       "      <td>84</td>\n",
       "    </tr>\n",
       "    <tr>\n",
       "      <th>52</th>\n",
       "      <td>7</td>\n",
       "      <td>0</td>\n",
       "      <td>79</td>\n",
       "    </tr>\n",
       "    <tr>\n",
       "      <th>2</th>\n",
       "      <td>0</td>\n",
       "      <td>3</td>\n",
       "      <td>72</td>\n",
       "    </tr>\n",
       "  </tbody>\n",
       "</table>\n",
       "</div>"
      ],
      "text/plain": [
       "   True Label Predicted Label  Count\n",
       "21          3               0    169\n",
       "25          3               5    148\n",
       "3           0               4    114\n",
       "22          3               1    108\n",
       "37          5               0    107\n",
       "8           1               0    102\n",
       "40          5               3     91\n",
       "10          1               3     84\n",
       "52          7               0     79\n",
       "2           0               3     72"
      ]
     },
     "execution_count": 45,
     "metadata": {},
     "output_type": "execute_result"
    }
   ],
   "source": [
    "# Convert to DataFrame for better analysis\n",
    "error_df = pd.DataFrame(errors, columns=['Token', 'True Label', 'Predicted Label'])\n",
    "error_df.head()\n",
    "\n",
    "# Count most common misclassifications\n",
    "most_common_errors = error_df.groupby(['True Label', 'Predicted Label']).size().reset_index(name='Count')\n",
    "most_common_errors = most_common_errors.sort_values(by='Count', ascending=False)\n",
    "\n",
    "most_common_errors[:10]"
   ]
  },
  {
   "cell_type": "code",
   "execution_count": 46,
   "metadata": {},
   "outputs": [
    {
     "data": {
      "text/html": [
       "<div>\n",
       "<style scoped>\n",
       "    .dataframe tbody tr th:only-of-type {\n",
       "        vertical-align: middle;\n",
       "    }\n",
       "\n",
       "    .dataframe tbody tr th {\n",
       "        vertical-align: top;\n",
       "    }\n",
       "\n",
       "    .dataframe thead th {\n",
       "        text-align: right;\n",
       "    }\n",
       "</style>\n",
       "<table border=\"1\" class=\"dataframe\">\n",
       "  <thead>\n",
       "    <tr style=\"text-align: right;\">\n",
       "      <th></th>\n",
       "      <th>NER Class</th>\n",
       "      <th>Misclassification Count</th>\n",
       "    </tr>\n",
       "  </thead>\n",
       "  <tbody>\n",
       "    <tr>\n",
       "      <th>0</th>\n",
       "      <td>B-ORG</td>\n",
       "      <td>498</td>\n",
       "    </tr>\n",
       "    <tr>\n",
       "      <th>1</th>\n",
       "      <td>O</td>\n",
       "      <td>376</td>\n",
       "    </tr>\n",
       "    <tr>\n",
       "      <th>2</th>\n",
       "      <td>B-PER</td>\n",
       "      <td>276</td>\n",
       "    </tr>\n",
       "    <tr>\n",
       "      <th>3</th>\n",
       "      <td>B-LOC</td>\n",
       "      <td>275</td>\n",
       "    </tr>\n",
       "    <tr>\n",
       "      <th>4</th>\n",
       "      <td>I-ORG</td>\n",
       "      <td>205</td>\n",
       "    </tr>\n",
       "    <tr>\n",
       "      <th>5</th>\n",
       "      <td>B-MISC</td>\n",
       "      <td>163</td>\n",
       "    </tr>\n",
       "    <tr>\n",
       "      <th>6</th>\n",
       "      <td>I-LOC</td>\n",
       "      <td>84</td>\n",
       "    </tr>\n",
       "    <tr>\n",
       "      <th>7</th>\n",
       "      <td>I-MISC</td>\n",
       "      <td>73</td>\n",
       "    </tr>\n",
       "    <tr>\n",
       "      <th>8</th>\n",
       "      <td>I-PER</td>\n",
       "      <td>57</td>\n",
       "    </tr>\n",
       "  </tbody>\n",
       "</table>\n",
       "</div>"
      ],
      "text/plain": [
       "  NER Class  Misclassification Count\n",
       "0     B-ORG                      498\n",
       "1         O                      376\n",
       "2     B-PER                      276\n",
       "3     B-LOC                      275\n",
       "4     I-ORG                      205\n",
       "5    B-MISC                      163\n",
       "6     I-LOC                       84\n",
       "7    I-MISC                       73\n",
       "8     I-PER                       57"
      ]
     },
     "execution_count": 46,
     "metadata": {},
     "output_type": "execute_result"
    }
   ],
   "source": [
    "# Count misclassification per entity class\n",
    "error_counts = error_df['True Label'].value_counts().reset_index()\n",
    "error_counts.columns = ['NER Class', 'Misclassification Count']\n",
    "\n",
    "error_counts\n",
    "\n",
    "# map entity labels to their descriptions\n",
    "label_map = {\n",
    "    '0': 'O',\n",
    "    '1': 'B-PER',\n",
    "    '2': 'I-PER',\n",
    "    '3': 'B-ORG',\n",
    "    '4': 'I-ORG',\n",
    "    '5': 'B-LOC',\n",
    "    '6': 'I-LOC',\n",
    "    '7': 'B-MISC',\n",
    "    '8': 'I-MISC',\n",
    "}\n",
    "\n",
    "error_counts['NER Class'] = error_counts['NER Class'].map(label_map)\n",
    "error_counts"
   ]
  },
  {
   "cell_type": "code",
   "execution_count": 47,
   "metadata": {},
   "outputs": [
    {
     "data": {
      "text/html": [
       "<div>\n",
       "<style scoped>\n",
       "    .dataframe tbody tr th:only-of-type {\n",
       "        vertical-align: middle;\n",
       "    }\n",
       "\n",
       "    .dataframe tbody tr th {\n",
       "        vertical-align: top;\n",
       "    }\n",
       "\n",
       "    .dataframe thead th {\n",
       "        text-align: right;\n",
       "    }\n",
       "</style>\n",
       "<table border=\"1\" class=\"dataframe\">\n",
       "  <thead>\n",
       "    <tr style=\"text-align: right;\">\n",
       "      <th></th>\n",
       "      <th>NER Class</th>\n",
       "      <th>Count</th>\n",
       "      <th>Percentage</th>\n",
       "    </tr>\n",
       "  </thead>\n",
       "  <tbody>\n",
       "    <tr>\n",
       "      <th>1</th>\n",
       "      <td>O</td>\n",
       "      <td>169578</td>\n",
       "      <td>83.3</td>\n",
       "    </tr>\n",
       "    <tr>\n",
       "      <th>5</th>\n",
       "      <td>B-LOC</td>\n",
       "      <td>7140</td>\n",
       "      <td>3.5</td>\n",
       "    </tr>\n",
       "    <tr>\n",
       "      <th>3</th>\n",
       "      <td>B-PER</td>\n",
       "      <td>6600</td>\n",
       "      <td>3.2</td>\n",
       "    </tr>\n",
       "    <tr>\n",
       "      <th>0</th>\n",
       "      <td>B-ORG</td>\n",
       "      <td>6321</td>\n",
       "      <td>3.1</td>\n",
       "    </tr>\n",
       "    <tr>\n",
       "      <th>4</th>\n",
       "      <td>I-PER</td>\n",
       "      <td>4528</td>\n",
       "      <td>2.2</td>\n",
       "    </tr>\n",
       "    <tr>\n",
       "      <th>6</th>\n",
       "      <td>I-ORG</td>\n",
       "      <td>3704</td>\n",
       "      <td>1.8</td>\n",
       "    </tr>\n",
       "    <tr>\n",
       "      <th>2</th>\n",
       "      <td>B-MISC</td>\n",
       "      <td>3438</td>\n",
       "      <td>1.7</td>\n",
       "    </tr>\n",
       "    <tr>\n",
       "      <th>8</th>\n",
       "      <td>I-LOC</td>\n",
       "      <td>1157</td>\n",
       "      <td>0.6</td>\n",
       "    </tr>\n",
       "    <tr>\n",
       "      <th>7</th>\n",
       "      <td>I-MISC</td>\n",
       "      <td>1155</td>\n",
       "      <td>0.6</td>\n",
       "    </tr>\n",
       "  </tbody>\n",
       "</table>\n",
       "</div>"
      ],
      "text/plain": [
       "  NER Class   Count  Percentage\n",
       "1         O  169578        83.3\n",
       "5     B-LOC    7140         3.5\n",
       "3     B-PER    6600         3.2\n",
       "0     B-ORG    6321         3.1\n",
       "4     I-PER    4528         2.2\n",
       "6     I-ORG    3704         1.8\n",
       "2    B-MISC    3438         1.7\n",
       "8     I-LOC    1157         0.6\n",
       "7    I-MISC    1155         0.6"
      ]
     },
     "execution_count": 47,
     "metadata": {},
     "output_type": "execute_result"
    }
   ],
   "source": [
    "# Analyze class imbalance in training data\n",
    "all_labels = np.concatenate(train_data['ner_tags'])  # Flatten all labels in training set\n",
    "label_counts = Counter(all_labels)\n",
    "\n",
    "# Map label indices to actual NER class names\n",
    "ner_label_map = {0: 'O', 1: 'B-PER', 2: 'I-PER', 3: 'B-ORG', 4: 'I-ORG', 5: 'B-LOC', 6: 'I-LOC', 7: 'B-MISC', 8: 'I-MISC'}\n",
    "train_label_counts = {ner_label_map[key]: value for key, value in label_counts.items()}\n",
    "\n",
    "# Convert to DataFrame\n",
    "train_label_df = pd.DataFrame(list(train_label_counts.items()), columns=['NER Class', 'Count'])\n",
    "\n",
    "# sort by count\n",
    "train_label_df = train_label_df.sort_values(by='Count', ascending=False)\n",
    "\n",
    "train_label_df['Percentage'] = (train_label_df['Count'] / train_label_df['Count'].sum() * 100).round(1)\n",
    "\n",
    "train_label_df"
   ]
  },
  {
   "cell_type": "markdown",
   "metadata": {},
   "source": []
  }
 ],
 "metadata": {
  "kernelspec": {
   "display_name": "base",
   "language": "python",
   "name": "python3"
  },
  "language_info": {
   "codemirror_mode": {
    "name": "ipython",
    "version": 3
   },
   "file_extension": ".py",
   "mimetype": "text/x-python",
   "name": "python",
   "nbconvert_exporter": "python",
   "pygments_lexer": "ipython3",
   "version": "3.11.4"
  }
 },
 "nbformat": 4,
 "nbformat_minor": 2
}
